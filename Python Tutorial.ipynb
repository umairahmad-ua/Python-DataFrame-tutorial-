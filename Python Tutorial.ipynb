{
 "cells": [
  {
   "cell_type": "markdown",
   "metadata": {},
   "source": [
    "# 1. INTRODUCTION"
   ]
  },
  {
   "cell_type": "markdown",
   "metadata": {},
   "source": [
    "* Python has gathered alot of appreciation as a choice of language for Data Analytics. Open Source and Free to install.\n",
    "* Awesome online community.\n",
    "* Very easy to learn.\n",
    "* It can become common language for data science.\n",
    "* It can also become a common language for production of web based analytics products. As it is interpreted programming language so it is easier to implement.\n",
    "* Compilation is not required, execution process can be done directly."
   ]
  },
  {
   "cell_type": "markdown",
   "metadata": {},
   "source": [
    "# 2. Data Types"
   ]
  },
  {
   "cell_type": "markdown",
   "metadata": {},
   "source": [
    "Following data types are used in Python to store and access the data. Those are explained below."
   ]
  },
  {
   "cell_type": "markdown",
   "metadata": {},
   "source": [
    "# 2.1 Variables"
   ]
  },
  {
   "cell_type": "markdown",
   "metadata": {},
   "source": [
    "* In Python, variables don't need explicit declaration to occupy memory space. \n",
    "* The type of the variable will be decided after assigning the value to it."
   ]
  },
  {
   "cell_type": "markdown",
   "metadata": {},
   "source": [
    "Some examples are given as follows:\n"
   ]
  },
  {
   "cell_type": "code",
   "execution_count": 2,
   "metadata": {},
   "outputs": [
    {
     "name": "stdout",
     "output_type": "stream",
     "text": [
      "240.2\n",
      "990\n",
      "Umair Ahmed\n"
     ]
    }
   ],
   "source": [
    "counter = 240.20 #float type variable\n",
    "miles = 990 #integer type variable\n",
    "name = \"Umair Ahmed\" #string type variable\n",
    "#print all values\n",
    "print (counter)\n",
    "print (miles)\n",
    "print (name)"
   ]
  },
  {
   "cell_type": "code",
   "execution_count": 8,
   "metadata": {
    "scrolled": true
   },
   "outputs": [
    {
     "name": "stdout",
     "output_type": "stream",
     "text": [
      "50000.5\n",
      "2019\n",
      "Jafeel\n"
     ]
    }
   ],
   "source": [
    "Salary = 50000.50 #float type variable\n",
    "Year = 2019 #integer type variable\n",
    "Name = \"Jafeel\" #string type variable\n",
    "#print all values\n",
    "print (Salary)\n",
    "print (Year)\n",
    "print (Name)"
   ]
  },
  {
   "cell_type": "code",
   "execution_count": 9,
   "metadata": {
    "scrolled": true
   },
   "outputs": [
    {
     "name": "stdout",
     "output_type": "stream",
     "text": [
      "15000.135\n",
      "1947\n",
      "Pakistan\n"
     ]
    }
   ],
   "source": [
    "Economy = 15000.1350 #float type variable\n",
    "Year = 1947 #integer type variable\n",
    "Country = \"Pakistan\" #string type variable\n",
    "#print all values\n",
    "print (Economy)\n",
    "print (Year)\n",
    "print (Country)"
   ]
  },
  {
   "cell_type": "markdown",
   "metadata": {},
   "source": [
    "# 2.2 Numbers"
   ]
  },
  {
   "cell_type": "markdown",
   "metadata": {},
   "source": [
    "* This data type stores numeric values.\n",
    "* They are immutable data types (Means changing the value of Number data type will results in a newly allocated object)."
   ]
  },
  {
   "cell_type": "markdown",
   "metadata": {},
   "source": [
    "Some examples are given below"
   ]
  },
  {
   "cell_type": "code",
   "execution_count": 11,
   "metadata": {},
   "outputs": [
    {
     "data": {
      "text/plain": [
       "2"
      ]
     },
     "execution_count": 11,
     "metadata": {},
     "output_type": "execute_result"
    }
   ],
   "source": [
    "2 #Interger_Type"
   ]
  },
  {
   "cell_type": "code",
   "execution_count": 12,
   "metadata": {},
   "outputs": [
    {
     "data": {
      "text/plain": [
       "9"
      ]
     },
     "execution_count": 12,
     "metadata": {},
     "output_type": "execute_result"
    }
   ],
   "source": [
    "2+7 #Integer_Addition"
   ]
  },
  {
   "cell_type": "code",
   "execution_count": 13,
   "metadata": {},
   "outputs": [
    {
     "data": {
      "text/plain": [
       "5.0"
      ]
     },
     "execution_count": 13,
     "metadata": {},
     "output_type": "execute_result"
    }
   ],
   "source": [
    "2.5*2 #Fload_Multiplication"
   ]
  },
  {
   "cell_type": "code",
   "execution_count": 14,
   "metadata": {},
   "outputs": [
    {
     "data": {
      "text/plain": [
       "4"
      ]
     },
     "execution_count": 14,
     "metadata": {},
     "output_type": "execute_result"
    }
   ],
   "source": [
    "2**2 #Exponential_Equation"
   ]
  },
  {
   "cell_type": "code",
   "execution_count": 15,
   "metadata": {},
   "outputs": [
    {
     "data": {
      "text/plain": [
       "16"
      ]
     },
     "execution_count": 15,
     "metadata": {},
     "output_type": "execute_result"
    }
   ],
   "source": [
    "4**2 #Exponential_Equation"
   ]
  },
  {
   "cell_type": "markdown",
   "metadata": {},
   "source": [
    "# 2.3 Strings"
   ]
  },
  {
   "cell_type": "markdown",
   "metadata": {},
   "source": [
    "* String data types are used to store words or combination of words having letters, numbers, special characters etc.\n",
    "* It can be stored by enclosing within single qoutes and double qoutes also.\n",
    "* Python doesn't support char data type. It will be as String of length one in Python.\n",
    "\n",
    "Some Example Are Following"
   ]
  },
  {
   "cell_type": "code",
   "execution_count": 17,
   "metadata": {},
   "outputs": [
    {
     "name": "stdout",
     "output_type": "stream",
     "text": [
      "Jafeel Superior\n"
     ]
    }
   ],
   "source": [
    "name = 'Jafeel'\n",
    "university = \"Superior\"\n",
    "print(name,university)"
   ]
  },
  {
   "cell_type": "code",
   "execution_count": 20,
   "metadata": {},
   "outputs": [
    {
     "name": "stdout",
     "output_type": "stream",
     "text": [
      "Jafeel Is MERN Stack Developer and studying from True\n"
     ]
    }
   ],
   "source": [
    "profession = \"MERN Stack Developer\"\n",
    "print(name, 'Is', profession,\"and studying from\",university<\"University\")"
   ]
  },
  {
   "cell_type": "code",
   "execution_count": 21,
   "metadata": {},
   "outputs": [
    {
     "name": "stdout",
     "output_type": "stream",
     "text": [
      "Jafeel age is 19\n"
     ]
    }
   ],
   "source": [
    "age = 19\n",
    "print(name,\"age is\",age)"
   ]
  },
  {
   "cell_type": "markdown",
   "metadata": {},
   "source": [
    "### Acess values in String"
   ]
  },
  {
   "cell_type": "markdown",
   "metadata": {},
   "source": [
    "* Python doesn't support Character data type. These are treated as Strings of length one. \n",
    "* Square brackets are used to access substrings.\n",
    "* We can access a specific character or range of characters from string.\n",
    "It would be cleared by using following examples."
   ]
  },
  {
   "cell_type": "code",
   "execution_count": 22,
   "metadata": {},
   "outputs": [
    {
     "name": "stdout",
     "output_type": "stream",
     "text": [
      "stringVariable[0]: H\n",
      "stringVariable[1:5]: ello\n"
     ]
    }
   ],
   "source": [
    "stringVariable = 'Hello World'\n",
    "print(\"stringVariable[0]:\", stringVariable[0])\n",
    "print(\"stringVariable[1:5]:\", stringVariable[1:5])"
   ]
  },
  {
   "cell_type": "code",
   "execution_count": 32,
   "metadata": {},
   "outputs": [
    {
     "name": "stdout",
     "output_type": "stream",
     "text": [
      "Pak\n"
     ]
    }
   ],
   "source": [
    "newString = 'Pakistan'\n",
    "print(newString[0:3])"
   ]
  },
  {
   "cell_type": "code",
   "execution_count": 36,
   "metadata": {},
   "outputs": [
    {
     "name": "stdout",
     "output_type": "stream",
     "text": [
      "Pak World\n"
     ]
    }
   ],
   "source": [
    "print(newString[0:3], stringVariable[6:11])"
   ]
  },
  {
   "cell_type": "markdown",
   "metadata": {},
   "source": [
    "### Updating String"
   ]
  },
  {
   "cell_type": "markdown",
   "metadata": {},
   "source": [
    "* Value of the string can be updated by assigning a new value to it.\n",
    "* New value will be replaced with older. New value must be related (having same data type) to previous value of the string.\n",
    "* '+' operator will be used for this purpose like as follows:\n"
   ]
  },
  {
   "cell_type": "code",
   "execution_count": 40,
   "metadata": {},
   "outputs": [
    {
     "name": "stdout",
     "output_type": "stream",
     "text": [
      "Updated string:  UNITEDPython\n"
     ]
    }
   ],
   "source": [
    "stringVariable = stringVariable[:6] + \"Python\"\n",
    "print(\"Updated string: \", stringVariable)"
   ]
  },
  {
   "cell_type": "code",
   "execution_count": 38,
   "metadata": {},
   "outputs": [
    {
     "name": "stdout",
     "output_type": "stream",
     "text": [
      "Pakistan Zindabad\n"
     ]
    }
   ],
   "source": [
    "stringVariable = 'Zindabad'\n",
    "print(Country,stringVariable)"
   ]
  },
  {
   "cell_type": "code",
   "execution_count": 39,
   "metadata": {},
   "outputs": [
    {
     "name": "stdout",
     "output_type": "stream",
     "text": [
      "USA UNITED STATE AMERICA\n"
     ]
    }
   ],
   "source": [
    "Country = \"USA\"\n",
    "stringVariable = \"UNITED STATE AMERICA\"\n",
    "print(Country, stringVariable)"
   ]
  },
  {
   "cell_type": "markdown",
   "metadata": {},
   "source": [
    "### Delete String"
   ]
  },
  {
   "cell_type": "markdown",
   "metadata": {},
   "source": [
    "* To delete the value of the string, just delete its object (reference variable). \n",
    "\n",
    "See following example:"
   ]
  },
  {
   "cell_type": "code",
   "execution_count": 47,
   "metadata": {},
   "outputs": [
    {
     "name": "stdout",
     "output_type": "stream",
     "text": [
      "Hello World\n"
     ]
    },
    {
     "ename": "NameError",
     "evalue": "name 'stringVariable' is not defined",
     "output_type": "error",
     "traceback": [
      "\u001b[0;31m---------------------------------------------------------------------------\u001b[0m",
      "\u001b[0;31mNameError\u001b[0m                                 Traceback (most recent call last)",
      "\u001b[0;32m<ipython-input-47-817d7dd3c7eb>\u001b[0m in \u001b[0;36m<module>\u001b[0;34m\u001b[0m\n\u001b[1;32m      2\u001b[0m \u001b[0mprint\u001b[0m \u001b[0;34m(\u001b[0m\u001b[0mstringVariable\u001b[0m\u001b[0;34m)\u001b[0m\u001b[0;34m\u001b[0m\u001b[0;34m\u001b[0m\u001b[0m\n\u001b[1;32m      3\u001b[0m \u001b[0;32mdel\u001b[0m \u001b[0mstringVariable\u001b[0m\u001b[0;34m\u001b[0m\u001b[0;34m\u001b[0m\u001b[0m\n\u001b[0;32m----> 4\u001b[0;31m \u001b[0mprint\u001b[0m \u001b[0;34m(\u001b[0m\u001b[0mstringVariable\u001b[0m\u001b[0;34m)\u001b[0m\u001b[0;34m\u001b[0m\u001b[0;34m\u001b[0m\u001b[0m\n\u001b[0m",
      "\u001b[0;31mNameError\u001b[0m: name 'stringVariable' is not defined"
     ]
    }
   ],
   "source": [
    "stringVariable = \"Hello World\"\n",
    "print (stringVariable)\n",
    "del stringVariable\n",
    "print (stringVariable)"
   ]
  },
  {
   "cell_type": "code",
   "execution_count": 48,
   "metadata": {},
   "outputs": [
    {
     "name": "stdout",
     "output_type": "stream",
     "text": [
      "PAKISTAN\n"
     ]
    },
    {
     "ename": "NameError",
     "evalue": "name 'stringVariable' is not defined",
     "output_type": "error",
     "traceback": [
      "\u001b[0;31m---------------------------------------------------------------------------\u001b[0m",
      "\u001b[0;31mNameError\u001b[0m                                 Traceback (most recent call last)",
      "\u001b[0;32m<ipython-input-48-9617dfe77cbd>\u001b[0m in \u001b[0;36m<module>\u001b[0;34m\u001b[0m\n\u001b[1;32m      1\u001b[0m \u001b[0mCountry\u001b[0m \u001b[0;34m=\u001b[0m \u001b[0;34m\"PAKISTAN\"\u001b[0m\u001b[0;34m\u001b[0m\u001b[0;34m\u001b[0m\u001b[0m\n\u001b[1;32m      2\u001b[0m \u001b[0mprint\u001b[0m \u001b[0;34m(\u001b[0m\u001b[0mCountry\u001b[0m\u001b[0;34m)\u001b[0m\u001b[0;34m\u001b[0m\u001b[0;34m\u001b[0m\u001b[0m\n\u001b[0;32m----> 3\u001b[0;31m \u001b[0;32mdel\u001b[0m \u001b[0mstringVariable\u001b[0m\u001b[0;34m\u001b[0m\u001b[0;34m\u001b[0m\u001b[0m\n\u001b[0m\u001b[1;32m      4\u001b[0m \u001b[0mprint\u001b[0m \u001b[0;34m(\u001b[0m\u001b[0mstringVariable\u001b[0m\u001b[0;34m)\u001b[0m\u001b[0;34m\u001b[0m\u001b[0;34m\u001b[0m\u001b[0m\n",
      "\u001b[0;31mNameError\u001b[0m: name 'stringVariable' is not defined"
     ]
    }
   ],
   "source": [
    "Country = \"PAKISTAN\"\n",
    "print (Country)\n",
    "del stringVariable\n",
    "print (stringVariable)"
   ]
  },
  {
   "cell_type": "code",
   "execution_count": 50,
   "metadata": {},
   "outputs": [
    {
     "name": "stdout",
     "output_type": "stream",
     "text": [
      "324\n"
     ]
    },
    {
     "ename": "NameError",
     "evalue": "name 'DATA' is not defined",
     "output_type": "error",
     "traceback": [
      "\u001b[0;31m---------------------------------------------------------------------------\u001b[0m",
      "\u001b[0;31mNameError\u001b[0m                                 Traceback (most recent call last)",
      "\u001b[0;32m<ipython-input-50-d36277421692>\u001b[0m in \u001b[0;36m<module>\u001b[0;34m\u001b[0m\n\u001b[1;32m      2\u001b[0m \u001b[0mprint\u001b[0m\u001b[0;34m(\u001b[0m\u001b[0mDATA\u001b[0m\u001b[0;34m)\u001b[0m\u001b[0;34m\u001b[0m\u001b[0;34m\u001b[0m\u001b[0m\n\u001b[1;32m      3\u001b[0m \u001b[0;32mdel\u001b[0m \u001b[0mDATA\u001b[0m\u001b[0;34m\u001b[0m\u001b[0;34m\u001b[0m\u001b[0m\n\u001b[0;32m----> 4\u001b[0;31m \u001b[0mprint\u001b[0m\u001b[0;34m(\u001b[0m\u001b[0mDATA\u001b[0m\u001b[0;34m)\u001b[0m\u001b[0;34m\u001b[0m\u001b[0;34m\u001b[0m\u001b[0m\n\u001b[0m",
      "\u001b[0;31mNameError\u001b[0m: name 'DATA' is not defined"
     ]
    }
   ],
   "source": [
    "DATA = 324\n",
    "print(DATA)\n",
    "del DATA\n",
    "print(DATA)"
   ]
  },
  {
   "cell_type": "markdown",
   "metadata": {},
   "source": [
    "### String special operators"
   ]
  },
  {
   "cell_type": "markdown",
   "metadata": {},
   "source": [
    "Some special operators are used in Python to assist the user. These are given below."
   ]
  },
  {
   "cell_type": "markdown",
   "metadata": {},
   "source": [
    "* '+' operator is used for concatenation.\n",
    "\n",
    "Example : "
   ]
  },
  {
   "cell_type": "code",
   "execution_count": 53,
   "metadata": {},
   "outputs": [
    {
     "name": "stdout",
     "output_type": "stream",
     "text": [
      "HelloWorld\n"
     ]
    }
   ],
   "source": [
    "Hello = \"Hello\"\n",
    "World = \"World\"\n",
    "print(Hello+World)"
   ]
  },
  {
   "cell_type": "code",
   "execution_count": 54,
   "metadata": {},
   "outputs": [
    {
     "name": "stdout",
     "output_type": "stream",
     "text": [
      "HelloNewWorld\n"
     ]
    }
   ],
   "source": [
    "print(Hello+\"New\"+World)"
   ]
  },
  {
   "cell_type": "code",
   "execution_count": 56,
   "metadata": {},
   "outputs": [
    {
     "name": "stdout",
     "output_type": "stream",
     "text": [
      "Superior University\n"
     ]
    }
   ],
   "source": [
    "print(\"Superior\"+\" \"+\"University\")"
   ]
  },
  {
   "cell_type": "markdown",
   "metadata": {},
   "source": [
    "* '*' used of Repetition"
   ]
  },
  {
   "cell_type": "code",
   "execution_count": 58,
   "metadata": {},
   "outputs": [
    {
     "name": "stdout",
     "output_type": "stream",
     "text": [
      "HelloHelloHello\n"
     ]
    }
   ],
   "source": [
    "print(Hello*3)"
   ]
  },
  {
   "cell_type": "code",
   "execution_count": 60,
   "metadata": {},
   "outputs": [
    {
     "name": "stdout",
     "output_type": "stream",
     "text": [
      "222222\n"
     ]
    }
   ],
   "source": [
    "print('22'*3)"
   ]
  },
  {
   "cell_type": "code",
   "execution_count": 61,
   "metadata": {},
   "outputs": [
    {
     "name": "stdout",
     "output_type": "stream",
     "text": [
      "WorldWorldWorldWorldWorldWorldWorldWorldWorldWorld\n"
     ]
    }
   ],
   "source": [
    "print(World*10)"
   ]
  },
  {
   "cell_type": "markdown",
   "metadata": {},
   "source": [
    "* '[]' give the character of string at given index.\n",
    "* Index Should Start From 0.\n",
    "\n",
    "Example"
   ]
  },
  {
   "cell_type": "code",
   "execution_count": 62,
   "metadata": {},
   "outputs": [
    {
     "name": "stdout",
     "output_type": "stream",
     "text": [
      "a\n"
     ]
    }
   ],
   "source": [
    "NewVariable = \"abcd\"\n",
    "print(NewVariable[0])"
   ]
  },
  {
   "cell_type": "code",
   "execution_count": 63,
   "metadata": {},
   "outputs": [
    {
     "name": "stdout",
     "output_type": "stream",
     "text": [
      "d\n"
     ]
    }
   ],
   "source": [
    "print(NewVariable[3])"
   ]
  },
  {
   "cell_type": "code",
   "execution_count": 64,
   "metadata": {},
   "outputs": [
    {
     "name": "stdout",
     "output_type": "stream",
     "text": [
      "d b\n"
     ]
    }
   ],
   "source": [
    "print(NewVariable[3],NewVariable[1])"
   ]
  },
  {
   "cell_type": "markdown",
   "metadata": {},
   "source": [
    "* '[:]' is used to get a range of characters from string.\n",
    "\n",
    "Example"
   ]
  },
  {
   "cell_type": "code",
   "execution_count": 66,
   "metadata": {},
   "outputs": [
    {
     "name": "stdout",
     "output_type": "stream",
     "text": [
      "abc\n"
     ]
    }
   ],
   "source": [
    "print(NewVariable[0:3])"
   ]
  },
  {
   "cell_type": "code",
   "execution_count": 67,
   "metadata": {},
   "outputs": [
    {
     "name": "stdout",
     "output_type": "stream",
     "text": [
      "Pak\n"
     ]
    }
   ],
   "source": [
    "newString = 'Pakistan'\n",
    "print(newString[0:3])"
   ]
  },
  {
   "cell_type": "code",
   "execution_count": 69,
   "metadata": {},
   "outputs": [
    {
     "name": "stdout",
     "output_type": "stream",
     "text": [
      "Pak Zindabad\n"
     ]
    }
   ],
   "source": [
    "print(newString[0:3],\"Zindabad\")"
   ]
  },
  {
   "cell_type": "markdown",
   "metadata": {},
   "source": [
    "* 'in' returns true if given character exists in string, otherwise false.\n",
    "* And this method is case sensitive\n",
    "\n",
    "Example "
   ]
  },
  {
   "cell_type": "code",
   "execution_count": 71,
   "metadata": {},
   "outputs": [
    {
     "name": "stdout",
     "output_type": "stream",
     "text": [
      "True\n"
     ]
    }
   ],
   "source": [
    "print('P' in newString)"
   ]
  },
  {
   "cell_type": "code",
   "execution_count": 72,
   "metadata": {},
   "outputs": [
    {
     "name": "stdout",
     "output_type": "stream",
     "text": [
      "False\n"
     ]
    }
   ],
   "source": [
    "print(\"m\" in newString)"
   ]
  },
  {
   "cell_type": "code",
   "execution_count": 73,
   "metadata": {},
   "outputs": [
    {
     "name": "stdout",
     "output_type": "stream",
     "text": [
      "False\n"
     ]
    }
   ],
   "source": [
    "print(\"p\" in newString)"
   ]
  },
  {
   "cell_type": "markdown",
   "metadata": {},
   "source": [
    "* 'not' return opposite value of method\n",
    "* And this method is case sensitive\n",
    "\n",
    "Example"
   ]
  },
  {
   "cell_type": "code",
   "execution_count": 74,
   "metadata": {},
   "outputs": [
    {
     "name": "stdout",
     "output_type": "stream",
     "text": [
      "False\n"
     ]
    }
   ],
   "source": [
    "print(\"P\" not in newString)"
   ]
  },
  {
   "cell_type": "code",
   "execution_count": 75,
   "metadata": {},
   "outputs": [
    {
     "name": "stdout",
     "output_type": "stream",
     "text": [
      "True\n"
     ]
    }
   ],
   "source": [
    "print(\"p\" not in newString)"
   ]
  },
  {
   "cell_type": "code",
   "execution_count": 76,
   "metadata": {},
   "outputs": [
    {
     "name": "stdout",
     "output_type": "stream",
     "text": [
      "False\n"
     ]
    }
   ],
   "source": [
    "print(\"i\" not in newString)"
   ]
  },
  {
   "cell_type": "markdown",
   "metadata": {},
   "source": [
    "### String formatting operator"
   ]
  },
  {
   "cell_type": "markdown",
   "metadata": {},
   "source": [
    "* One of the coolest feature is string formatting operator within print statement.\n",
    "* It is represented by % sign inside a string\n",
    "* %s - String (or any object with a string representation, like numbers)\n",
    "* %d - Integers\n",
    "* %f - Floating point numbers\n",
    "* %.<number of digits>f - Floating point numbers with a fixed amount of digits to the right of the dot.\n",
    "* %x/%X - Integers in hex representation (lowercase/uppercase)\n",
    "\n",
    "Example"
   ]
  },
  {
   "cell_type": "code",
   "execution_count": 78,
   "metadata": {},
   "outputs": [
    {
     "name": "stdout",
     "output_type": "stream",
     "text": [
      "My name is Jafeel and age is 51 kg!\n"
     ]
    }
   ],
   "source": [
    " print (\"My name is %s and age is %d kg!\" % (\"Jafeel\",51))"
   ]
  },
  {
   "cell_type": "code",
   "execution_count": 79,
   "metadata": {},
   "outputs": [
    {
     "name": "stdout",
     "output_type": "stream",
     "text": [
      "I live in Pakistan\n"
     ]
    }
   ],
   "source": [
    "country = \"Pakistan\"\n",
    "print(\"I live in %s\"%(country))"
   ]
  },
  {
   "cell_type": "code",
   "execution_count": 81,
   "metadata": {},
   "outputs": [
    {
     "name": "stdout",
     "output_type": "stream",
     "text": [
      "My age is 19\n"
     ]
    }
   ],
   "source": [
    "age = 19\n",
    "print(\"My age is %d\"%(age))"
   ]
  },
  {
   "cell_type": "markdown",
   "metadata": {},
   "source": [
    "# 2.4 Lists\n"
   ]
  },
  {
   "cell_type": "markdown",
   "metadata": {},
   "source": [
    "* It can be written as a list of comma-seperated values within square brackets. \n",
    "* Multiple types of data can be stored in a List.\n",
    "* Individual elements of a list can be changed (it can be read and write).\n",
    "* List indices starts from 0 just like arrays.\n",
    "\n",
    "Example"
   ]
  },
  {
   "cell_type": "code",
   "execution_count": 82,
   "metadata": {},
   "outputs": [
    {
     "name": "stdout",
     "output_type": "stream",
     "text": [
      "['Jafeel', 'Superior']\n"
     ]
    }
   ],
   "source": [
    "FirstList = [\"Jafeel\",\"Superior\"]\n",
    "print(FirstList)"
   ]
  },
  {
   "cell_type": "code",
   "execution_count": 83,
   "metadata": {},
   "outputs": [
    {
     "name": "stdout",
     "output_type": "stream",
     "text": [
      "[1, 5, 4]\n"
     ]
    }
   ],
   "source": [
    "NumberList=[1,5,4]\n",
    "print(NumberList)"
   ]
  },
  {
   "cell_type": "code",
   "execution_count": 85,
   "metadata": {},
   "outputs": [
    {
     "name": "stdout",
     "output_type": "stream",
     "text": [
      "[1, '22', 'true', 19]\n"
     ]
    }
   ],
   "source": [
    "List=[1,\"22\",\"true\",19]\n",
    "print(List)"
   ]
  },
  {
   "cell_type": "markdown",
   "metadata": {},
   "source": [
    "##### We Used List For Storing Multiple Items"
   ]
  },
  {
   "cell_type": "markdown",
   "metadata": {},
   "source": [
    "##### List Is Helpful when we have large amount of data"
   ]
  },
  {
   "cell_type": "markdown",
   "metadata": {},
   "source": [
    "##### Like Stundent's Record"
   ]
  },
  {
   "cell_type": "code",
   "execution_count": 86,
   "metadata": {},
   "outputs": [
    {
     "name": "stdout",
     "output_type": "stream",
     "text": [
      "['Jafeel', 'Shahroz', 'Naveed']\n"
     ]
    }
   ],
   "source": [
    "List = [\"Jafeel\",\"Shahroz\",\"Naveed\"]\n",
    "print(List)"
   ]
  },
  {
   "cell_type": "markdown",
   "metadata": {},
   "source": [
    "### Accessing values in Lists"
   ]
  },
  {
   "cell_type": "markdown",
   "metadata": {},
   "source": [
    "* Square brackets are used to access the values of a list.\n",
    "* We can access a specific values or range of values from list.\n",
    "\n",
    "Example"
   ]
  },
  {
   "cell_type": "code",
   "execution_count": 88,
   "metadata": {},
   "outputs": [
    {
     "name": "stdout",
     "output_type": "stream",
     "text": [
      "Jafeel\n"
     ]
    }
   ],
   "source": [
    "print(List[0])"
   ]
  },
  {
   "cell_type": "code",
   "execution_count": 90,
   "metadata": {},
   "outputs": [
    {
     "name": "stdout",
     "output_type": "stream",
     "text": [
      "Naveed\n"
     ]
    }
   ],
   "source": [
    "print(List[2])"
   ]
  },
  {
   "cell_type": "code",
   "execution_count": 91,
   "metadata": {},
   "outputs": [
    {
     "name": "stdout",
     "output_type": "stream",
     "text": [
      "['Jafeel', 'Shahroz']\n"
     ]
    }
   ],
   "source": [
    "print(List[0:2])"
   ]
  },
  {
   "cell_type": "markdown",
   "metadata": {},
   "source": [
    "### Updating Lists"
   ]
  },
  {
   "cell_type": "markdown",
   "metadata": {},
   "source": [
    "* We can update single or mupltiple elements of a list by giving slice on left hand of the assignment operator. \n",
    "* It can also be updated using append() function.\n",
    "\n",
    "Example"
   ]
  },
  {
   "cell_type": "code",
   "execution_count": 92,
   "metadata": {},
   "outputs": [],
   "source": [
    "List[0] =\"ALI HASSAN\""
   ]
  },
  {
   "cell_type": "code",
   "execution_count": 93,
   "metadata": {},
   "outputs": [
    {
     "name": "stdout",
     "output_type": "stream",
     "text": [
      "['ALI HASSAN', 'Shahroz', 'Naveed']\n"
     ]
    }
   ],
   "source": [
    "print(List)"
   ]
  },
  {
   "cell_type": "code",
   "execution_count": 94,
   "metadata": {},
   "outputs": [
    {
     "name": "stdout",
     "output_type": "stream",
     "text": [
      "None\n"
     ]
    }
   ],
   "source": [
    "print(List.append(\"CS\"))"
   ]
  },
  {
   "cell_type": "code",
   "execution_count": 95,
   "metadata": {},
   "outputs": [
    {
     "name": "stdout",
     "output_type": "stream",
     "text": [
      "['ALI HASSAN', 'Shahroz', 'Naveed', 'CS']\n"
     ]
    }
   ],
   "source": [
    "print(List)"
   ]
  },
  {
   "cell_type": "markdown",
   "metadata": {},
   "source": [
    "### Delete List element"
   ]
  },
  {
   "cell_type": "markdown",
   "metadata": {},
   "source": [
    "* del statement is used to remove when you know the position or index of element to be deleted.\n",
    "* remove() function can be used when you don't know the position of element to be removed."
   ]
  },
  {
   "cell_type": "code",
   "execution_count": 5,
   "metadata": {},
   "outputs": [
    {
     "name": "stdout",
     "output_type": "stream",
     "text": [
      "['Jafeel', 'Shahroz', 'Naveed']\n",
      "After deleting value at index 0 : \n",
      "['Shahroz', 'Naveed']\n"
     ]
    }
   ],
   "source": [
    "List = [\"Jafeel\",\"Shahroz\",\"Naveed\"]\n",
    "print (List)\n",
    "del List[0];\n",
    "print (\"After deleting value at index 0 : \")\n",
    "print (List)"
   ]
  },
  {
   "cell_type": "markdown",
   "metadata": {},
   "source": [
    "#### To clean all list we used clear()"
   ]
  },
  {
   "cell_type": "code",
   "execution_count": 7,
   "metadata": {},
   "outputs": [
    {
     "name": "stdout",
     "output_type": "stream",
     "text": [
      "[]\n"
     ]
    }
   ],
   "source": [
    "List.clear()\n",
    "print(List)"
   ]
  },
  {
   "cell_type": "code",
   "execution_count": 8,
   "metadata": {},
   "outputs": [
    {
     "name": "stdout",
     "output_type": "stream",
     "text": [
      "['Pakistan', 'India', 'Afghanistan', 'Turky']\n",
      "After Deleting India\n",
      "['Pakistan', 'Afghanistan', 'Turky']\n"
     ]
    }
   ],
   "source": [
    "List = [\"Pakistan\",\"India\",\"Afghanistan\",\"Turky\"]\n",
    "print(List)\n",
    "print(\"After Deleting India\")\n",
    "List.remove(\"India\")\n",
    "print(List)"
   ]
  },
  {
   "cell_type": "code",
   "execution_count": 9,
   "metadata": {
    "scrolled": true
   },
   "outputs": [
    {
     "name": "stdout",
     "output_type": "stream",
     "text": [
      "['Pakistan', 'Afghanistan', 'Turky']\n",
      "After Deleting Afghanistan\n",
      "['Pakistan', 'Turky']\n"
     ]
    }
   ],
   "source": [
    "print(List)\n",
    "print(\"After Deleting Afghanistan\")\n",
    "List.remove(\"Afghanistan\")\n",
    "print(List)"
   ]
  },
  {
   "cell_type": "markdown",
   "metadata": {},
   "source": [
    "# 2.5 Dictionaries"
   ]
  },
  {
   "cell_type": "markdown",
   "metadata": {},
   "source": [
    "* It is same as array of objects having key and values in PHP. Each key is seperated by colon (:) from its value.\n",
    "* Each item is seperated with comma (,).\n",
    "* Empty dictionary can be written as {}.\n",
    "* Keys are unique in dictionary but values may not.\n",
    "* The values of the dictionary can be of any data type.\n",
    "* The keys must be of an immutable data type such as strings, numbers, or tuples.\n",
    "\n",
    "Example"
   ]
  },
  {
   "cell_type": "code",
   "execution_count": 12,
   "metadata": {},
   "outputs": [
    {
     "name": "stdout",
     "output_type": "stream",
     "text": [
      "{'name': 'Jafeel', 'Roll_No': 324, 'Semester': 3}\n"
     ]
    }
   ],
   "source": [
    "Dic = {\"name\":\"Jafeel\",\"Roll_No\":324,\"Semester\":3}\n",
    "print(Dic)"
   ]
  },
  {
   "cell_type": "markdown",
   "metadata": {},
   "source": [
    "##### We Used Dictionaries When We Have Large Amount Of Group Of Data"
   ]
  },
  {
   "cell_type": "markdown",
   "metadata": {},
   "source": [
    "##### We Used it because it is to make a record of specific format"
   ]
  },
  {
   "cell_type": "markdown",
   "metadata": {},
   "source": [
    "##### It help like enum type"
   ]
  },
  {
   "cell_type": "markdown",
   "metadata": {},
   "source": [
    "### Accessing value in Dictionary"
   ]
  },
  {
   "cell_type": "markdown",
   "metadata": {},
   "source": [
    "* We can use the familiar square brackets along with the key to obtain its value.\n",
    "\n",
    "Following is a simple example\n"
   ]
  },
  {
   "cell_type": "code",
   "execution_count": 14,
   "metadata": {},
   "outputs": [
    {
     "name": "stdout",
     "output_type": "stream",
     "text": [
      "Jafeel\n"
     ]
    }
   ],
   "source": [
    "print(Dic[\"name\"])"
   ]
  },
  {
   "cell_type": "code",
   "execution_count": 16,
   "metadata": {},
   "outputs": [
    {
     "name": "stdout",
     "output_type": "stream",
     "text": [
      "Name Is Jafeel Roll No Is 324 And Semester Is 3\n"
     ]
    }
   ],
   "source": [
    "print(\"Name Is\",Dic[\"name\"],\"Roll No Is\",Dic[\"Roll_No\"],\"And Semester Is\",Dic[\"Semester\"])"
   ]
  },
  {
   "cell_type": "code",
   "execution_count": 21,
   "metadata": {},
   "outputs": [
    {
     "name": "stdout",
     "output_type": "stream",
     "text": [
      "Sum Of Dictionaries\n",
      "34\n"
     ]
    }
   ],
   "source": [
    "NewDic = [3,4,8,9,10]\n",
    "print(\"Sum Of Dictionaries\")\n",
    "Temp = NewDic[0]+NewDic[1]+NewDic[2]+NewDic[3]+NewDic[4]\n",
    "print(Temp)"
   ]
  },
  {
   "cell_type": "markdown",
   "metadata": {},
   "source": [
    "### Updating Dictionary"
   ]
  },
  {
   "cell_type": "markdown",
   "metadata": {},
   "source": [
    "* We can update already existing value in dictionary.\n",
    "* We can also add a new entry in dictionary.\n",
    "\n",
    "See Examples : "
   ]
  },
  {
   "cell_type": "code",
   "execution_count": 23,
   "metadata": {},
   "outputs": [
    {
     "name": "stdout",
     "output_type": "stream",
     "text": [
      "{'Name': 'Jafeel', 'Depart': 'BSCS', 'Batch': 2018}\n",
      "{'Name': 'Jafeel', 'Depart': 'BSCS', 'Batch': 'F18'}\n",
      "{'Name': 'Jafeel', 'Depart': 'BSCS', 'Batch': 'F18', 'University': 'Superior Gold Campus'}\n"
     ]
    }
   ],
   "source": [
    "dict = {'Name':\"Jafeel\", 'Depart': \"BSCS\", 'Batch': 2018}\n",
    "print (dict)\n",
    "dict['Batch'] = \"F18\"\n",
    "print (dict)\n",
    "dict['University'] = \"Superior Gold Campus\"\n",
    "print(dict)"
   ]
  },
  {
   "cell_type": "code",
   "execution_count": 27,
   "metadata": {},
   "outputs": [
    {
     "name": "stdout",
     "output_type": "stream",
     "text": [
      "{'Country': 'Pakistan', 'Population': '22Cr', 'State': 4}\n",
      "{'Country': 'Pakistan', 'Population': '23Cr', 'State': 4}\n",
      "{'Country': 'Pakistan', 'Population': '23Cr', 'State': 4, 'Capital': 'Isl'}\n"
     ]
    }
   ],
   "source": [
    "NewDic = {\"Country\":\"Pakistan\",\"Population\":\"22Cr\",\"State\":4}\n",
    "print(NewDic)\n",
    "NewDic[\"Population\"] = \"23Cr\"\n",
    "print(NewDic)\n",
    "NewDic[\"Capital\"]=\"Isl\"\n",
    "print(NewDic)"
   ]
  },
  {
   "cell_type": "code",
   "execution_count": 28,
   "metadata": {},
   "outputs": [
    {
     "name": "stdout",
     "output_type": "stream",
     "text": [
      "{'Country': 'Pakistan', 'Population': '23Cr', 'State': 5, 'Capital': 'Isl'}\n"
     ]
    }
   ],
   "source": [
    "NewDic[\"State\"] = 5\n",
    "print(NewDic)"
   ]
  },
  {
   "cell_type": "markdown",
   "metadata": {},
   "source": [
    "### Delete Dictionary Element"
   ]
  },
  {
   "cell_type": "markdown",
   "metadata": {},
   "source": [
    "* We can delete individual element of dicitionary and complete content of dictionary.\n",
    "* del is used for individual element removal and clear() function is used to remove entire dictionary.\n",
    "\n",
    "Example"
   ]
  },
  {
   "cell_type": "code",
   "execution_count": 30,
   "metadata": {},
   "outputs": [
    {
     "name": "stdout",
     "output_type": "stream",
     "text": [
      "{'Country': 'Pakistan', 'Population': '23Cr', 'State': 5, 'Capital': 'Isl'}\n"
     ]
    },
    {
     "ename": "NameError",
     "evalue": "name 'NewDic' is not defined",
     "output_type": "error",
     "traceback": [
      "\u001b[0;31m---------------------------------------------------------------------------\u001b[0m",
      "\u001b[0;31mNameError\u001b[0m                                 Traceback (most recent call last)",
      "\u001b[0;32m<ipython-input-30-f983049545de>\u001b[0m in \u001b[0;36m<module>\u001b[0;34m\u001b[0m\n\u001b[1;32m      1\u001b[0m \u001b[0mprint\u001b[0m\u001b[0;34m(\u001b[0m\u001b[0mNewDic\u001b[0m\u001b[0;34m)\u001b[0m\u001b[0;34m\u001b[0m\u001b[0;34m\u001b[0m\u001b[0m\n\u001b[1;32m      2\u001b[0m \u001b[0;32mdel\u001b[0m \u001b[0mNewDic\u001b[0m\u001b[0;34m\u001b[0m\u001b[0;34m\u001b[0m\u001b[0m\n\u001b[0;32m----> 3\u001b[0;31m \u001b[0mprint\u001b[0m\u001b[0;34m(\u001b[0m\u001b[0mNewDic\u001b[0m\u001b[0;34m)\u001b[0m\u001b[0;34m\u001b[0m\u001b[0;34m\u001b[0m\u001b[0m\n\u001b[0m",
      "\u001b[0;31mNameError\u001b[0m: name 'NewDic' is not defined"
     ]
    }
   ],
   "source": [
    "print(NewDic)\n",
    "del NewDic\n",
    "print(NewDic)"
   ]
  },
  {
   "cell_type": "code",
   "execution_count": 32,
   "metadata": {},
   "outputs": [
    {
     "name": "stdout",
     "output_type": "stream",
     "text": [
      "{'Country': 'Pakistan', 'Population': '22Cr', 'State': 4}\n",
      "{}\n"
     ]
    }
   ],
   "source": [
    "NewDic = {\"Country\":\"Pakistan\",\"Population\":\"22Cr\",\"State\":4}\n",
    "print(NewDic)\n",
    "NewDic.clear()\n",
    "print(NewDic)"
   ]
  },
  {
   "cell_type": "code",
   "execution_count": 36,
   "metadata": {},
   "outputs": [
    {
     "name": "stdout",
     "output_type": "stream",
     "text": [
      "{'Country': 'Pakistan', 'Population': '22Cr', 'State': 4}\n",
      "{}\n"
     ]
    }
   ],
   "source": [
    "NewDic = {\"Country\":\"Pakistan\",\"Population\":\"22Cr\",\"State\":4}\n",
    "print(NewDic)\n",
    "del NewDic\n",
    "NewDic = {}\n",
    "print(NewDic)"
   ]
  },
  {
   "cell_type": "markdown",
   "metadata": {},
   "source": [
    "# 2.6 Tuples"
   ]
  },
  {
   "cell_type": "markdown",
   "metadata": {},
   "source": [
    "* It is same as list. The differences between tuples and lists are, the tuples cannot be changed.\n",
    "* Each item is comma (,) seperated.\n",
    "* Empty Tuple is shown as ().\n",
    "* To write a tuple containing a single value you have to include a comma (,) even though there is only one value. For Exampe: tup = (40,). It can also have multiple data type values.\n",
    "* Like string indices, tuple indices start at 0, and they can be sliced, concatenated, and so on."
   ]
  },
  {
   "cell_type": "markdown",
   "metadata": {},
   "source": [
    "##### We Use tuple when data is immutable\n",
    "##### Tuple grouping and organizing data to make it easier to use.\n",
    "##### Tuple is Composability of Data Structures"
   ]
  },
  {
   "cell_type": "code",
   "execution_count": 37,
   "metadata": {},
   "outputs": [
    {
     "name": "stdout",
     "output_type": "stream",
     "text": [
      "()\n"
     ]
    }
   ],
   "source": [
    "# An empty tuple \n",
    "empty_tuple = () \n",
    "print (empty_tuple) "
   ]
  },
  {
   "cell_type": "code",
   "execution_count": 39,
   "metadata": {},
   "outputs": [
    {
     "name": "stdout",
     "output_type": "stream",
     "text": [
      "('python', 'geeks')\n",
      "('python2', 'geeks2')\n"
     ]
    }
   ],
   "source": [
    "# Creating non-empty tuples \n",
    "  \n",
    "# One way of creation \n",
    "tup = 'python', 'geeks'\n",
    "print(tup) \n",
    "  \n",
    "# Another for doing the same \n",
    "tup = ('python2', 'geeks2') \n",
    "print(tup) "
   ]
  },
  {
   "cell_type": "code",
   "execution_count": 40,
   "metadata": {},
   "outputs": [
    {
     "name": "stdout",
     "output_type": "stream",
     "text": [
      "(0, 1, 2, 3, 'python', 'geek')\n"
     ]
    }
   ],
   "source": [
    "# Code for concatenating 2 tuples \n",
    "  \n",
    "tuple1 = (0, 1, 2, 3) \n",
    "tuple2 = ('python', 'geek') \n",
    "  \n",
    "# Concatenating above two \n",
    "print(tuple1 + tuple2) "
   ]
  },
  {
   "cell_type": "markdown",
   "metadata": {},
   "source": [
    "### Accessing values in Tuples"
   ]
  },
  {
   "cell_type": "markdown",
   "metadata": {},
   "source": [
    "* We can use the familiar square brackets along with the index to obtain its value. \n",
    "\n",
    "Following is a simple example"
   ]
  },
  {
   "cell_type": "code",
   "execution_count": 41,
   "metadata": {},
   "outputs": [
    {
     "name": "stdout",
     "output_type": "stream",
     "text": [
      "('L.A', '88', 'OOP', '92')\n",
      "88\n",
      "('88', 'OOP')\n"
     ]
    }
   ],
   "source": [
    "tup = ('L.A','88', 'OOP', '92')\n",
    "print (tup)\n",
    "print(tup[1])\n",
    "print(tup[1:3])"
   ]
  },
  {
   "cell_type": "code",
   "execution_count": 46,
   "metadata": {},
   "outputs": [
    {
     "name": "stdout",
     "output_type": "stream",
     "text": [
      "88\n"
     ]
    }
   ],
   "source": [
    "print(tup[1])"
   ]
  },
  {
   "cell_type": "code",
   "execution_count": 45,
   "metadata": {
    "scrolled": true
   },
   "outputs": [
    {
     "name": "stdout",
     "output_type": "stream",
     "text": [
      "('python', 'python', 'python')\n"
     ]
    }
   ],
   "source": [
    "# Code to create a tuple with repetition \n",
    "tuple3 = ('python',)*3\n",
    "print(tuple3)"
   ]
  },
  {
   "cell_type": "markdown",
   "metadata": {},
   "source": [
    "### Updating Tuples"
   ]
  },
  {
   "cell_type": "markdown",
   "metadata": {},
   "source": [
    "* Tuples are immutable means we can't change it. \n",
    "* It is read only. We are able to take portions of tuples to make a new tuple.\n",
    "\n",
    "Example"
   ]
  },
  {
   "cell_type": "code",
   "execution_count": 48,
   "metadata": {},
   "outputs": [
    {
     "ename": "TypeError",
     "evalue": "'tuple' object does not support item assignment",
     "output_type": "error",
     "traceback": [
      "\u001b[0;31m---------------------------------------------------------------------------\u001b[0m",
      "\u001b[0;31mTypeError\u001b[0m                                 Traceback (most recent call last)",
      "\u001b[0;32m<ipython-input-48-5e1439d444f2>\u001b[0m in \u001b[0;36m<module>\u001b[0;34m\u001b[0m\n\u001b[1;32m      2\u001b[0m \u001b[0;34m\u001b[0m\u001b[0m\n\u001b[1;32m      3\u001b[0m \u001b[0mtuple1\u001b[0m \u001b[0;34m=\u001b[0m \u001b[0;34m(\u001b[0m\u001b[0;36m0\u001b[0m\u001b[0;34m,\u001b[0m \u001b[0;36m1\u001b[0m\u001b[0;34m,\u001b[0m \u001b[0;36m2\u001b[0m\u001b[0;34m,\u001b[0m \u001b[0;36m3\u001b[0m\u001b[0;34m)\u001b[0m\u001b[0;34m\u001b[0m\u001b[0;34m\u001b[0m\u001b[0m\n\u001b[0;32m----> 4\u001b[0;31m \u001b[0mtuple1\u001b[0m\u001b[0;34m[\u001b[0m\u001b[0;36m0\u001b[0m\u001b[0;34m]\u001b[0m \u001b[0;34m=\u001b[0m \u001b[0;36m4\u001b[0m\u001b[0;34m\u001b[0m\u001b[0;34m\u001b[0m\u001b[0m\n\u001b[0m\u001b[1;32m      5\u001b[0m \u001b[0mprint\u001b[0m\u001b[0;34m(\u001b[0m\u001b[0mtuple1\u001b[0m\u001b[0;34m)\u001b[0m\u001b[0;34m\u001b[0m\u001b[0;34m\u001b[0m\u001b[0m\n",
      "\u001b[0;31mTypeError\u001b[0m: 'tuple' object does not support item assignment"
     ]
    }
   ],
   "source": [
    "#code to test that tuples are immutable \n",
    "  \n",
    "tuple1 = (0, 1, 2, 3) \n",
    "tuple1[0] = 4\n",
    "print(tuple1) "
   ]
  },
  {
   "cell_type": "code",
   "execution_count": 47,
   "metadata": {},
   "outputs": [
    {
     "name": "stdout",
     "output_type": "stream",
     "text": [
      "(12, 34.56, 'abc', 'xyz')\n"
     ]
    }
   ],
   "source": [
    "tup1 = (12, 34.56);\n",
    "tup2 = ('abc', 'xyz');\n",
    "# Following action is not valid for tuples\n",
    "# tup1[0] = 100;\n",
    "# So let's create a new tuple as follows\n",
    "tup3 = tup1 + tup2;\n",
    "print (tup3);"
   ]
  },
  {
   "cell_type": "markdown",
   "metadata": {},
   "source": [
    "### Delete Tuple elements"
   ]
  },
  {
   "cell_type": "markdown",
   "metadata": {},
   "source": [
    "* Removing individual element in Tuple is not possible because they can't be updated.\n",
    "* del statment is used to remove entire Tuple.\n",
    "\n",
    "Example"
   ]
  },
  {
   "cell_type": "code",
   "execution_count": 49,
   "metadata": {},
   "outputs": [
    {
     "name": "stdout",
     "output_type": "stream",
     "text": [
      "('physics', 'chemistry', 1997, 2000)\n",
      "After deleting tup : \n"
     ]
    },
    {
     "ename": "NameError",
     "evalue": "name 'tup' is not defined",
     "output_type": "error",
     "traceback": [
      "\u001b[0;31m---------------------------------------------------------------------------\u001b[0m",
      "\u001b[0;31mNameError\u001b[0m                                 Traceback (most recent call last)",
      "\u001b[0;32m<ipython-input-49-750b57655605>\u001b[0m in \u001b[0;36m<module>\u001b[0;34m\u001b[0m\n\u001b[1;32m      3\u001b[0m \u001b[0;32mdel\u001b[0m \u001b[0mtup\u001b[0m\u001b[0;34m;\u001b[0m\u001b[0;34m\u001b[0m\u001b[0;34m\u001b[0m\u001b[0m\n\u001b[1;32m      4\u001b[0m \u001b[0mprint\u001b[0m \u001b[0;34m(\u001b[0m\u001b[0;34m\"After deleting tup : \"\u001b[0m\u001b[0;34m)\u001b[0m\u001b[0;34m;\u001b[0m\u001b[0;34m\u001b[0m\u001b[0;34m\u001b[0m\u001b[0m\n\u001b[0;32m----> 5\u001b[0;31m \u001b[0mprint\u001b[0m \u001b[0;34m(\u001b[0m\u001b[0mtup\u001b[0m\u001b[0;34m)\u001b[0m\u001b[0;34m;\u001b[0m\u001b[0;34m\u001b[0m\u001b[0;34m\u001b[0m\u001b[0m\n\u001b[0m",
      "\u001b[0;31mNameError\u001b[0m: name 'tup' is not defined"
     ]
    }
   ],
   "source": [
    "tup = ('physics', 'chemistry', 1997, 2000);\n",
    "print (tup);\n",
    "del tup;\n",
    "print (\"After deleting tup : \");\n",
    "print (tup);"
   ]
  },
  {
   "cell_type": "code",
   "execution_count": 55,
   "metadata": {},
   "outputs": [
    {
     "name": "stdout",
     "output_type": "stream",
     "text": [
      "('Jafeel', 'Superior', 'Gold Campus')\n"
     ]
    },
    {
     "ename": "NameError",
     "evalue": "name 'tup' is not defined",
     "output_type": "error",
     "traceback": [
      "\u001b[0;31m---------------------------------------------------------------------------\u001b[0m",
      "\u001b[0;31mNameError\u001b[0m                                 Traceback (most recent call last)",
      "\u001b[0;32m<ipython-input-55-55b21c068e9f>\u001b[0m in \u001b[0;36m<module>\u001b[0;34m\u001b[0m\n\u001b[1;32m      2\u001b[0m \u001b[0mprint\u001b[0m\u001b[0;34m(\u001b[0m\u001b[0mtup\u001b[0m\u001b[0;34m)\u001b[0m\u001b[0;34m\u001b[0m\u001b[0;34m\u001b[0m\u001b[0m\n\u001b[1;32m      3\u001b[0m \u001b[0;32mdel\u001b[0m \u001b[0mtup\u001b[0m\u001b[0;34m\u001b[0m\u001b[0;34m\u001b[0m\u001b[0m\n\u001b[0;32m----> 4\u001b[0;31m \u001b[0mprint\u001b[0m\u001b[0;34m(\u001b[0m\u001b[0mtup\u001b[0m\u001b[0;34m)\u001b[0m\u001b[0;34m\u001b[0m\u001b[0;34m\u001b[0m\u001b[0m\n\u001b[0m",
      "\u001b[0;31mNameError\u001b[0m: name 'tup' is not defined"
     ]
    }
   ],
   "source": [
    "tup = (\"Jafeel\",\"Superior\",\"Gold Campus\")\n",
    "print(tup)\n",
    "del tup\n",
    "print(tup)"
   ]
  },
  {
   "cell_type": "markdown",
   "metadata": {},
   "source": [
    "# 2.7 Sets"
   ]
  },
  {
   "cell_type": "markdown",
   "metadata": {},
   "source": [
    "* A set is collection of unordered items.\n",
    "* Every element is unique (No duplicates).\n",
    "* Every element is immutable (can't be changed).\n",
    "* However, the set itself is mutable. We can add or remove items from it.\n",
    "* Sets can be used to perform mathematical set operations like union, intersection, symmetric difference etc. Empty set will be written as {}.\n",
    "* Each item in set will be comma (,) seperated.\n",
    "* We can make a set from a list using set() function.\n",
    "* Data type can be found using type() function.\n",
    "* add() is used to add single value, update() is used for adding multiple values.\n",
    "* update() function can take tupe, strings, list or other set as argument. In all cases, duplicates will be avoided. discard() and remove() are used to to delete particular item from set.\n",
    "* discard() will not raise an error if item doesn't exists in set.\n",
    "* remove() will raise an error if item doesn't exists in set.\n",
    "\n",
    "Example\n",
    "\n",
    "\n",
    "##### Sets can be used to perform mathematical set operations like union, intersection, symmetric difference etc.\n",
    "##### Use a set if you need uniqueness for the elements.\n",
    "##### if what we need is to remove duplicates, or do mathematical operations like combining lists (unions), we can, and SHOULD always use Sets."
   ]
  },
  {
   "cell_type": "code",
   "execution_count": 59,
   "metadata": {},
   "outputs": [
    {
     "name": "stdout",
     "output_type": "stream",
     "text": [
      "Normal Set\n",
      "{'c', 'd', 'a', 'b'}\n"
     ]
    }
   ],
   "source": [
    "# Python program to demonstrate differences \n",
    "# between normal and frozen set \n",
    "  \n",
    "# Same as {\"a\", \"b\",\"c\"} \n",
    "normal_set = set([\"a\", \"b\",\"c\"]) \n",
    "  \n",
    "# Adding an element to normal set is fine \n",
    "normal_set.add(\"d\") \n",
    "  \n",
    "print(\"Normal Set\") \n",
    "print(normal_set) \n",
    "  "
   ]
  },
  {
   "cell_type": "code",
   "execution_count": 60,
   "metadata": {},
   "outputs": [
    {
     "name": "stdout",
     "output_type": "stream",
     "text": [
      "<class 'list'>\n",
      "{1, 2, 3, 4, 5}\n",
      "<class 'set'>\n",
      "{1, 2, 3}\n",
      "{1, 1.2, 2, 3, 4, 5, 'D', 'C', 'Hello'}\n"
     ]
    }
   ],
   "source": [
    "#list\n",
    "list1 = [1,2,3,4,5]\n",
    "print (type(list1))\n",
    "my_set = set(list1)\n",
    "print(my_set)\n",
    "print (type(my_set))\n",
    "# set of integers\n",
    "my_set = {1,2,3}\n",
    "print (my_set)\n",
    "# set of mixed data types\n",
    "my_set = {1,\"Hello\", 1.2,'C'}\n",
    "# adding a single value\n",
    "my_set.add('D')\n",
    "#adding multiple values\n",
    "my_set.update(list1)\n",
    "print (my_set)\n",
    "my_set.discard('G') # it will not raise an error"
   ]
  },
  {
   "cell_type": "code",
   "execution_count": 1,
   "metadata": {},
   "outputs": [
    {
     "name": "stdout",
     "output_type": "stream",
     "text": [
      "{1, 2, 3}\n",
      "{1.0, (1, 2, 3), 'Hello'}\n"
     ]
    }
   ],
   "source": [
    "# set of integers\n",
    "my_set = {1, 2, 3}\n",
    "print(my_set)\n",
    "\n",
    "# set of mixed datatypes\n",
    "my_set = {1.0, \"Hello\", (1, 2, 3)}\n",
    "print(my_set)"
   ]
  },
  {
   "cell_type": "markdown",
   "metadata": {},
   "source": [
    "# 3. Comparison Operators"
   ]
  },
  {
   "cell_type": "markdown",
   "metadata": {},
   "source": [
    "* These are used to compare values (string or numbers) and return true/false according to situation.\n",
    "\n",
    "Some Operator Are Following:\n",
    "\n",
    "* Less Than <\n",
    "* Greater Than >\n",
    "* Comparison ==\n",
    "* Not Operator !\n",
    "* or operator \n",
    "* and operator\n",
    "\n",
    "Example"
   ]
  },
  {
   "cell_type": "code",
   "execution_count": 3,
   "metadata": {},
   "outputs": [
    {
     "data": {
      "text/plain": [
       "True"
      ]
     },
     "execution_count": 3,
     "metadata": {},
     "output_type": "execute_result"
    }
   ],
   "source": [
    "1<10"
   ]
  },
  {
   "cell_type": "code",
   "execution_count": 4,
   "metadata": {},
   "outputs": [
    {
     "data": {
      "text/plain": [
       "False"
      ]
     },
     "execution_count": 4,
     "metadata": {},
     "output_type": "execute_result"
    }
   ],
   "source": [
    "10<4"
   ]
  },
  {
   "cell_type": "code",
   "execution_count": 5,
   "metadata": {},
   "outputs": [
    {
     "data": {
      "text/plain": [
       "True"
      ]
     },
     "execution_count": 5,
     "metadata": {},
     "output_type": "execute_result"
    }
   ],
   "source": [
    "5>3"
   ]
  },
  {
   "cell_type": "code",
   "execution_count": 6,
   "metadata": {},
   "outputs": [
    {
     "data": {
      "text/plain": [
       "False"
      ]
     },
     "execution_count": 6,
     "metadata": {},
     "output_type": "execute_result"
    }
   ],
   "source": [
    "5>10"
   ]
  },
  {
   "cell_type": "code",
   "execution_count": 7,
   "metadata": {},
   "outputs": [
    {
     "data": {
      "text/plain": [
       "True"
      ]
     },
     "execution_count": 7,
     "metadata": {},
     "output_type": "execute_result"
    }
   ],
   "source": [
    "2 == 2"
   ]
  },
  {
   "cell_type": "code",
   "execution_count": 8,
   "metadata": {},
   "outputs": [
    {
     "data": {
      "text/plain": [
       "False"
      ]
     },
     "execution_count": 8,
     "metadata": {},
     "output_type": "execute_result"
    }
   ],
   "source": [
    "2 == 3"
   ]
  },
  {
   "cell_type": "code",
   "execution_count": 9,
   "metadata": {},
   "outputs": [
    {
     "data": {
      "text/plain": [
       "True"
      ]
     },
     "execution_count": 9,
     "metadata": {},
     "output_type": "execute_result"
    }
   ],
   "source": [
    "2 != 9"
   ]
  },
  {
   "cell_type": "code",
   "execution_count": 43,
   "metadata": {},
   "outputs": [
    {
     "data": {
      "text/plain": [
       "False"
      ]
     },
     "execution_count": 43,
     "metadata": {},
     "output_type": "execute_result"
    }
   ],
   "source": [
    "5 !=5"
   ]
  },
  {
   "cell_type": "code",
   "execution_count": 12,
   "metadata": {},
   "outputs": [
    {
     "data": {
      "text/plain": [
       "True"
      ]
     },
     "execution_count": 12,
     "metadata": {},
     "output_type": "execute_result"
    }
   ],
   "source": [
    "(3 == 3) or (3 != 10)"
   ]
  },
  {
   "cell_type": "code",
   "execution_count": 13,
   "metadata": {},
   "outputs": [
    {
     "data": {
      "text/plain": [
       "True"
      ]
     },
     "execution_count": 13,
     "metadata": {},
     "output_type": "execute_result"
    }
   ],
   "source": [
    "a = 10\n",
    "b=5\n",
    "(a==a) or (a == b)"
   ]
  },
  {
   "cell_type": "code",
   "execution_count": 14,
   "metadata": {},
   "outputs": [
    {
     "data": {
      "text/plain": [
       "True"
      ]
     },
     "execution_count": 14,
     "metadata": {},
     "output_type": "execute_result"
    }
   ],
   "source": [
    "(1==1) and (1!=20)"
   ]
  },
  {
   "cell_type": "code",
   "execution_count": 15,
   "metadata": {},
   "outputs": [
    {
     "data": {
      "text/plain": [
       "True"
      ]
     },
     "execution_count": 15,
     "metadata": {},
     "output_type": "execute_result"
    }
   ],
   "source": [
    "a = 10\n",
    "b=5\n",
    "(a==a) or (a == b)"
   ]
  },
  {
   "cell_type": "markdown",
   "metadata": {},
   "source": [
    "# 4. If-Else Statements"
   ]
  },
  {
   "cell_type": "markdown",
   "metadata": {},
   "source": [
    "* If-Else statments are used to execute a block of code depending on conditions. If block if condition is true otherwise else block. \n",
    "\n",
    "See following example:"
   ]
  },
  {
   "cell_type": "code",
   "execution_count": 19,
   "metadata": {},
   "outputs": [
    {
     "name": "stdout",
     "output_type": "stream",
     "text": [
      "True\n"
     ]
    }
   ],
   "source": [
    "if 2 == 2:\n",
    "    print(\"True\")\n",
    "else:\n",
    "    print(\"False\")"
   ]
  },
  {
   "cell_type": "code",
   "execution_count": 20,
   "metadata": {},
   "outputs": [
    {
     "name": "stdout",
     "output_type": "stream",
     "text": [
      "Even\n"
     ]
    }
   ],
   "source": [
    "a = 10\n",
    "if a%2 == 0:\n",
    "    print(\"Even\")\n",
    "else : \n",
    "    print(\"Odd\")"
   ]
  },
  {
   "cell_type": "code",
   "execution_count": 21,
   "metadata": {},
   "outputs": [
    {
     "name": "stdout",
     "output_type": "stream",
     "text": [
      "A And B Both Are Not Same\n"
     ]
    }
   ],
   "source": [
    "b = 12\n",
    "if a == b:\n",
    "    print(\"A And B Both Are Same\")\n",
    "else :\n",
    "    print(\"A And B Both Are Not Same\")"
   ]
  },
  {
   "cell_type": "markdown",
   "metadata": {},
   "source": [
    "# 5. For and While Loop"
   ]
  },
  {
   "cell_type": "markdown",
   "metadata": {},
   "source": [
    "* Python has for and while loop for iteration, used when we want to perform a specific a task repeatedly.\n",
    "\n",
    "### For Loop Example"
   ]
  },
  {
   "cell_type": "code",
   "execution_count": 23,
   "metadata": {},
   "outputs": [
    {
     "name": "stdout",
     "output_type": "stream",
     "text": [
      "120\n"
     ]
    }
   ],
   "source": [
    "#example of for loop fact = 1\n",
    "Number=5\n",
    "fac=1\n",
    "for i in range (1,Number+1):\n",
    "    fac*=i\n",
    "print (fac)"
   ]
  },
  {
   "cell_type": "code",
   "execution_count": 33,
   "metadata": {
    "scrolled": true
   },
   "outputs": [
    {
     "name": "stdout",
     "output_type": "stream",
     "text": [
      " \n",
      "1  \n",
      "2 2  \n",
      "3 3 3  \n",
      "4 4 4 4  \n",
      "5 5 5 5 5  \n",
      "6 6 6 6 6 6  \n",
      "7 7 7 7 7 7 7  \n",
      "8 8 8 8 8 8 8 8  \n",
      "9 9 9 9 9 9 9 9 9  \n"
     ]
    }
   ],
   "source": [
    "for i in range(10):\n",
    "    for k in range(i):\n",
    "        print(i,end =\" \")\n",
    "    print(\" \")"
   ]
  },
  {
   "cell_type": "code",
   "execution_count": 35,
   "metadata": {},
   "outputs": [
    {
     "name": "stdout",
     "output_type": "stream",
     "text": [
      " \n",
      "*  \n",
      "* *  \n",
      "* * *  \n",
      "* * * *  \n",
      "* * * * *  \n",
      "* * * * * *  \n",
      "* * * * * * *  \n",
      "* * * * * * * *  \n",
      "* * * * * * * * *  \n"
     ]
    }
   ],
   "source": [
    "for i in range(10):\n",
    "    for k in range(i):\n",
    "        print(\"*\",end =\" \")\n",
    "    print(\" \")"
   ]
  },
  {
   "cell_type": "markdown",
   "metadata": {},
   "source": [
    "### While Loop Example"
   ]
  },
  {
   "cell_type": "code",
   "execution_count": 44,
   "metadata": {},
   "outputs": [
    {
     "name": "stdout",
     "output_type": "stream",
     "text": [
      "1\n",
      "2\n",
      "3\n",
      "4\n",
      "5\n"
     ]
    }
   ],
   "source": [
    "i = 1\n",
    "while i < 6:\n",
    "  print(i)\n",
    "  i += 1\n"
   ]
  },
  {
   "cell_type": "code",
   "execution_count": 56,
   "metadata": {},
   "outputs": [
    {
     "name": "stdout",
     "output_type": "stream",
     "text": [
      "1 2 3 4 5 6 7 8 9 10 11 12 13 14 15 16 17 18 19 20 "
     ]
    }
   ],
   "source": [
    "a =20\n",
    "i =1;\n",
    "while i<=a:\n",
    "    print(i, end=\" \")\n",
    "    i = i +1"
   ]
  },
  {
   "cell_type": "markdown",
   "metadata": {},
   "source": [
    "# 6. Functions"
   ]
  },
  {
   "cell_type": "markdown",
   "metadata": {},
   "source": [
    "* It is a block of organized and reusable code.\n",
    "* It is used to perform a single, related action.\n",
    "* It provides high modularity for your application. It has a hight degree of code reusing.\n",
    "* The syntax is:\n",
    "\n",
    "  def functionname( parameters ):\n",
    "  \n",
    "  \"function_docstring\"\n",
    "  \n",
    "  function_suite\n",
    "  \n",
    "  return [expression]"
   ]
  },
  {
   "cell_type": "code",
   "execution_count": null,
   "metadata": {},
   "outputs": [],
   "source": [
    "# Function definition is here\n",
    "def printme( str ):\n",
    " #This prints a passed string into this function\n",
    "    print (str)\n",
    "    return;\n",
    "# Now you can call printme function\n",
    "printme(\"I'm first call to user defined function!\")"
   ]
  },
  {
   "cell_type": "code",
   "execution_count": 63,
   "metadata": {},
   "outputs": [
    {
     "name": "stdout",
     "output_type": "stream",
     "text": [
      "Number is  even\n"
     ]
    }
   ],
   "source": [
    "def evenorodd(int):\n",
    "    if int%2 == 0:\n",
    "        return \"even\";\n",
    "    else:\n",
    "        return \"odd\";\n",
    "\n",
    "print(\"Number is \",evenorodd(2))"
   ]
  },
  {
   "cell_type": "code",
   "execution_count": 67,
   "metadata": {},
   "outputs": [
    {
     "name": "stdout",
     "output_type": "stream",
     "text": [
      "Factorial 120\n"
     ]
    }
   ],
   "source": [
    "def fac(int):\n",
    "    fac = 1\n",
    "    for i in range(1,int+1):\n",
    "        fac*=i\n",
    "    return fac\n",
    "\n",
    "print(\"Factorial\",fac(5))"
   ]
  },
  {
   "cell_type": "markdown",
   "metadata": {},
   "source": [
    "# 7. Lambda Functions"
   ]
  },
  {
   "cell_type": "markdown",
   "metadata": {},
   "source": [
    "* The creation of anonymous functions at runtime, using a construct called \"lambda\".\n",
    "* Lambda function doesn't include return statement, it always contains an expression which is returned.\n",
    "* This piece of code shows the difference between a normal function definition (\"f\") and a lambda function (\"g\"):\n",
    "\n",
    "Example"
   ]
  },
  {
   "cell_type": "code",
   "execution_count": 68,
   "metadata": {},
   "outputs": [
    {
     "name": "stdout",
     "output_type": "stream",
     "text": [
      "9\n"
     ]
    }
   ],
   "source": [
    "#Normal function\n",
    "def f (x):\n",
    "    return x**2\n",
    "print (f(3))"
   ]
  },
  {
   "cell_type": "code",
   "execution_count": 70,
   "metadata": {},
   "outputs": [
    {
     "name": "stdout",
     "output_type": "stream",
     "text": [
      "30\n"
     ]
    }
   ],
   "source": [
    "#Lambda Function\n",
    "#lambda expressions\n",
    "times3 = lambda var:var*3\n",
    "print(times3(10))\n",
    "#lambda expressions: another way to write a function in line"
   ]
  },
  {
   "cell_type": "code",
   "execution_count": 72,
   "metadata": {},
   "outputs": [
    {
     "name": "stdout",
     "output_type": "stream",
     "text": [
      "Good Morning Dear Jafeel\n"
     ]
    }
   ],
   "source": [
    "good = lambda name : \"Good Morning Dear \" + name\n",
    "print(good(\"Jafeel\"))"
   ]
  },
  {
   "cell_type": "markdown",
   "metadata": {},
   "source": [
    "### 7.1 Map()"
   ]
  },
  {
   "cell_type": "markdown",
   "metadata": {},
   "source": [
    "* Map() function is used with two arguments. Just like: r = map(func, seq)\n",
    "* The first argument func is the name of a function and the second a sequence (e.g. a list).\n",
    "* seq. map() applies the function func to all the elements of the sequence seq. It returns a new list with the elements changed by func.\n",
    "\n",
    "Example"
   ]
  },
  {
   "cell_type": "code",
   "execution_count": 73,
   "metadata": {},
   "outputs": [
    {
     "name": "stdout",
     "output_type": "stream",
     "text": [
      "['It', 'is', 'raining', 'cats', 'and', 'dogs']\n"
     ]
    },
    {
     "data": {
      "text/plain": [
       "[2, 2, 7, 4, 3, 4]"
      ]
     },
     "execution_count": 73,
     "metadata": {},
     "output_type": "execute_result"
    }
   ],
   "source": [
    "sentence = 'It is raining cats and dogs'\n",
    "words = sentence.split()\n",
    "print (words)\n",
    "lengths = map(lambda word: len(word), words)\n",
    "list(lengths)"
   ]
  },
  {
   "cell_type": "code",
   "execution_count": 81,
   "metadata": {},
   "outputs": [
    {
     "name": "stdout",
     "output_type": "stream",
     "text": [
      "<map object at 0x106ab3240>\n",
      "['appleorange', 'bananalemon', 'cherrypineapple']\n"
     ]
    }
   ],
   "source": [
    "def myfunc(a, b):\n",
    "  return a + b\n",
    "\n",
    "x = map(myfunc, ('apple', 'banana', 'cherry'), ('orange', 'lemon', 'pineapple'))\n",
    "\n",
    "print(x)\n",
    "\n",
    "#convert the map into a list, for readability:\n",
    "print(list(x))\n"
   ]
  },
  {
   "cell_type": "code",
   "execution_count": 82,
   "metadata": {},
   "outputs": [
    {
     "name": "stdout",
     "output_type": "stream",
     "text": [
      "['Jafeel', 'Ali', 'Shahroz', 'Naveed', 'Bilal', 'Faiz', 'Wasif']\n"
     ]
    },
    {
     "data": {
      "text/plain": [
       "[6, 3, 7, 6, 5, 4, 5]"
      ]
     },
     "execution_count": 82,
     "metadata": {},
     "output_type": "execute_result"
    }
   ],
   "source": [
    "name = \"Jafeel, Ali, Shahroz, Naveed, Bilal, Faiz, Wasif\"\n",
    "student = name.split(\", \")\n",
    "print(student)\n",
    "total = map(lambda student: len(student),student)\n",
    "list(total)"
   ]
  },
  {
   "cell_type": "markdown",
   "metadata": {},
   "source": [
    "### 7.2 Filter()"
   ]
  },
  {
   "cell_type": "markdown",
   "metadata": {},
   "source": [
    "* The function filter(function, list) offers an elegant way to filter out all the elements of a list.\n",
    "* The function filter(f,l) needs a function f as its first argument. f returns a Boolean value, i.e. either True or False. \n",
    "* This function will be applied to every element of the list l.\n",
    "* Only if f returns True will the element of the list be included in the result list.\n",
    "\n",
    "Example"
   ]
  },
  {
   "cell_type": "code",
   "execution_count": 84,
   "metadata": {},
   "outputs": [
    {
     "name": "stdout",
     "output_type": "stream",
     "text": [
      "Odd Number [1, 1, 3, 5, 13, 21, 55]\n"
     ]
    }
   ],
   "source": [
    "fib = [0,1,1,2,3,5,8,13,21,34,55]\n",
    "result1 = filter(lambda x: x % 2, fib)\n",
    "print(\"Odd Number\",list(result1))"
   ]
  },
  {
   "cell_type": "code",
   "execution_count": 87,
   "metadata": {},
   "outputs": [
    {
     "name": "stdout",
     "output_type": "stream",
     "text": [
      "Even Number [0, 2, 8, 34]\n"
     ]
    }
   ],
   "source": [
    "fib = [0,1,1,2,3,5,8,13,21,34,55]\n",
    "result1 = filter(lambda x: x % 2 ==0, fib)\n",
    "print(\"Even Number\",list(result1))"
   ]
  },
  {
   "cell_type": "code",
   "execution_count": 88,
   "metadata": {},
   "outputs": [
    {
     "name": "stdout",
     "output_type": "stream",
     "text": [
      "18\n",
      "24\n",
      "32\n"
     ]
    }
   ],
   "source": [
    "ages = [5, 12, 17, 18, 24, 32]\n",
    "\n",
    "def myFunc(x):\n",
    "  if x < 18:\n",
    "    return False\n",
    "  else:\n",
    "    return True\n",
    "\n",
    "adults = filter(myFunc, ages)\n",
    "\n",
    "for x in adults:\n",
    "  print(x)"
   ]
  },
  {
   "cell_type": "markdown",
   "metadata": {},
   "source": [
    "# 8. File I/O"
   ]
  },
  {
   "cell_type": "markdown",
   "metadata": {},
   "source": [
    "* In this section, we'll cover all basic I/O function(methods)."
   ]
  },
  {
   "cell_type": "markdown",
   "metadata": {},
   "source": [
    "### 8.1 Reading input from Keyboard"
   ]
  },
  {
   "cell_type": "markdown",
   "metadata": {},
   "source": [
    "* For reading input from keyboard, raw_input() method is used.\n",
    "* It reads only one line from standard input and returns it as a string.\n",
    "\n",
    "Example"
   ]
  },
  {
   "cell_type": "code",
   "execution_count": 90,
   "metadata": {},
   "outputs": [
    {
     "name": "stdout",
     "output_type": "stream",
     "text": [
      "Enter your name: Jafeel\n",
      "Jafeel\n"
     ]
    }
   ],
   "source": [
    "from six.moves import input\n",
    "string = input(\"Enter your name: \");\n",
    "print(string)"
   ]
  },
  {
   "cell_type": "code",
   "execution_count": 94,
   "metadata": {},
   "outputs": [
    {
     "name": "stdout",
     "output_type": "stream",
     "text": [
      "Enter Age Here 18\n",
      "You Are Eligible\n"
     ]
    }
   ],
   "source": [
    "age = input(\"Enter Age Here \")\n",
    "if int(age) < 18 :\n",
    "    print(\"You Are Not Eligible\")\n",
    "else :\n",
    "    print(\"You Are Eligible\")"
   ]
  },
  {
   "cell_type": "markdown",
   "metadata": {},
   "source": [
    "### 8.2 I/O from or to Text File\n"
   ]
  },
  {
   "cell_type": "markdown",
   "metadata": {},
   "source": [
    "* In this scenario, we'll read and write to a text file. r opens a file in read only mode.\n",
    "* r+ opens a file read and write mode.\n",
    "* w opens a file in write mode only.\n",
    "* a opens a file in append mode\n",
    "* a+ opens a file in append and read mode."
   ]
  },
  {
   "cell_type": "code",
   "execution_count": 100,
   "metadata": {
    "scrolled": true
   },
   "outputs": [
    {
     "name": "stdout",
     "output_type": "stream",
     "text": [
      "Name: Jafeel Waheed\n",
      "Semester: 3rd\n",
      "Department: BSCS\n",
      "University: Superior University\n"
     ]
    }
   ],
   "source": [
    "# Open a file to read\n",
    "fileOpen = open(\"file.txt\", \"r+\")\n",
    "str = fileOpen.read(); #to read specific content from start you can use read(12). It will read 12 characters from the start of file\n",
    "print (str)\n",
    "# Close opend file\n",
    "fileOpen.close()"
   ]
  },
  {
   "cell_type": "code",
   "execution_count": 108,
   "metadata": {},
   "outputs": [
    {
     "name": "stdout",
     "output_type": "stream",
     "text": [
      "Result \n",
      "OOP : 86\n",
      "MVC : 91\n",
      "Discrete : 70\n",
      "Isl : 80\n",
      "Pak Study : 75\n",
      "Technical : 76\n"
     ]
    }
   ],
   "source": [
    "# Open a file to read\n",
    "fileOpen = open(\"result.txt\", \"r+\")\n",
    "str = fileOpen.read(); #to read specific content from start you can use read(12). It will read 12 characters from the start of file\n",
    "print (\"Result\",\"\\n\"+str)\n",
    "# Close opend file\n",
    "fileOpen.close()"
   ]
  },
  {
   "cell_type": "code",
   "execution_count": 109,
   "metadata": {},
   "outputs": [
    {
     "name": "stdout",
     "output_type": "stream",
     "text": [
      "GPA \n",
      "SGPA 1 : 3.6\n",
      "SGPA 2 : 3.55\n",
      "CGPA : 3.58\n"
     ]
    }
   ],
   "source": [
    "# Open a file to read\n",
    "fileOpen = open(\"gpa.txt\", \"r+\")\n",
    "str = fileOpen.read(); #to read specific content from start you can use read(12). It will read 12 characters from the start of file\n",
    "print (\"GPA\",\"\\n\"+str)\n",
    "# Close opend file\n",
    "fileOpen.close()"
   ]
  },
  {
   "cell_type": "code",
   "execution_count": 104,
   "metadata": {},
   "outputs": [
    {
     "name": "stdout",
     "output_type": "stream",
     "text": [
      "Name: Jafeel Waheed\n",
      "Semester: 3rd\n",
      "Department: BSCS\n",
      "University: Superior University\n",
      "Age: 18\n"
     ]
    }
   ],
   "source": [
    "# Open a file to append\n",
    "fileOpen = open(\"file.txt\", \"a+\")\n",
    "fileOpen.write(\"\\nAge: 18\");\n",
    "fileOpen.close()\n",
    "# Open a file to read\n",
    "fileOpen = open(\"file.txt\", \"r+\")\n",
    "string = fileOpen.read(); #to read specific content from start you can use read(12). It will read 12 characters from the start of file\n",
    "print (string)\n",
    "# Close opend file\n",
    "fileOpen.close()"
   ]
  },
  {
   "cell_type": "code",
   "execution_count": 110,
   "metadata": {},
   "outputs": [
    {
     "name": "stdout",
     "output_type": "stream",
     "text": [
      "OOP : 86\n",
      "MVC : 91\n",
      "Discrete : 70\n",
      "Isl : 80\n",
      "Pak Study : 75\n",
      "Technical : 76\n",
      "PF: 92\n"
     ]
    }
   ],
   "source": [
    "# Open a file to append\n",
    "fileOpen = open(\"result.txt\", \"a+\")\n",
    "fileOpen.write(\"\\nPF: 92\");\n",
    "fileOpen.close()\n",
    "# Open a file to read\n",
    "fileOpen = open(\"result.txt\", \"r+\")\n",
    "string = fileOpen.read(); #to read specific content from start you can use read(12). It will read 12 characters from the start of file\n",
    "print (string)\n",
    "# Close opend file\n",
    "fileOpen.close()"
   ]
  },
  {
   "cell_type": "code",
   "execution_count": 111,
   "metadata": {},
   "outputs": [
    {
     "name": "stdout",
     "output_type": "stream",
     "text": [
      "SGPA 1 : 3.6\n",
      "SGPA 2 : 3.55\n",
      "CGPA : 3.58\n",
      "SGPA 3: 3.85\n"
     ]
    }
   ],
   "source": [
    "# Open a file to append\n",
    "fileOpen = open(\"gpa.txt\", \"a+\")\n",
    "fileOpen.write(\"\\nSGPA 3: 3.85\");\n",
    "fileOpen.close()\n",
    "# Open a file to read\n",
    "fileOpen = open(\"gpa.txt\", \"r+\")\n",
    "string = fileOpen.read(); #to read specific content from start you can use read(12). It will read 12 characters from the start of file\n",
    "print (string)\n",
    "# Close opend file\n",
    "fileOpen.close()"
   ]
  },
  {
   "cell_type": "markdown",
   "metadata": {},
   "source": [
    "### 8.3 File Position"
   ]
  },
  {
   "cell_type": "markdown",
   "metadata": {},
   "source": [
    "* tell() method tells the currenct position within the file. \n",
    "* seek() method changes the current file location.\n",
    "\n",
    "Example"
   ]
  },
  {
   "cell_type": "code",
   "execution_count": 115,
   "metadata": {},
   "outputs": [
    {
     "name": "stdout",
     "output_type": "stream",
     "text": [
      "Read String is : \n",
      " Name: Jafe\n",
      "Current file position : \n",
      " 10\n",
      "Again read String is : \n",
      " Name: Jafeel Waheed\n",
      "\n"
     ]
    }
   ],
   "source": [
    "# Open a file\n",
    "fo = open(\"file.txt\", \"r+\")\n",
    "str = fo.read(10);\n",
    "print (\"Read String is : \\n\", str)\n",
    "# Check current position\n",
    "position = fo.tell();\n",
    "print (\"Current file position : \\n\", position)\n",
    "# Reposition pointer at the beginning once again\n",
    "position = fo.seek(0, 0);\n",
    "str = fo.read(20);\n",
    "print (\"Again read String is : \\n\", str)\n",
    "# Close opend file\n",
    "fo.close()"
   ]
  },
  {
   "cell_type": "code",
   "execution_count": 118,
   "metadata": {},
   "outputs": [
    {
     "name": "stdout",
     "output_type": "stream",
     "text": [
      "SGPA 1 : \n",
      " SGPA 1 : 3.6\n",
      "Again read String is : \n",
      " SGPA 1 : 3.6\n",
      "SGPA 2 : 3.\n"
     ]
    }
   ],
   "source": [
    "# Open a file\n",
    "fo = open(\"gpa.txt\", \"r+\")\n",
    "str = fo.read(12);\n",
    "print (\"SGPA 1 : \\n\", str)\n",
    "# Check current position\n",
    "position = fo.tell();\n",
    "# Reposition pointer at the beginning once again\n",
    "position = fo.seek(0, 0);\n",
    "str = fo.read(24);\n",
    "print (\"Again read String is : \\n\", str)\n",
    "# Close opend file\n",
    "fo.close()"
   ]
  },
  {
   "cell_type": "code",
   "execution_count": 119,
   "metadata": {},
   "outputs": [],
   "source": [
    "import os\n",
    "# rename a file\n",
    "os.rename(\"file.txt\", \"newfile.txt\")"
   ]
  },
  {
   "cell_type": "code",
   "execution_count": 120,
   "metadata": {},
   "outputs": [],
   "source": [
    "import os\n",
    "# rename a file\n",
    "os.rename(\"newfile.txt\", \"file.txt\")"
   ]
  },
  {
   "cell_type": "code",
   "execution_count": 121,
   "metadata": {},
   "outputs": [
    {
     "data": {
      "text/plain": [
       "'duplicate.txt'"
      ]
     },
     "execution_count": 121,
     "metadata": {},
     "output_type": "execute_result"
    }
   ],
   "source": [
    "import shutil\n",
    "# Duplicate File\n",
    "shutil.copy('file.txt', 'duplicate.txt')"
   ]
  },
  {
   "cell_type": "code",
   "execution_count": 122,
   "metadata": {},
   "outputs": [],
   "source": [
    "#remove file\n",
    "os.remove(\"duplicate.txt\")"
   ]
  },
  {
   "cell_type": "markdown",
   "metadata": {},
   "source": [
    "# 9. Pandas Introduction"
   ]
  },
  {
   "cell_type": "markdown",
   "metadata": {},
   "source": [
    "* Pandas is an open source library built on top of NumPy\n",
    "* It allows for fast analysis and data cleaning and preparation It excels in proformance and productivity\n",
    "* It also has built-in visualization features\n",
    "* It can work with data from a wide variety of sources\n"
   ]
  },
  {
   "cell_type": "markdown",
   "metadata": {},
   "source": [
    "# 10. Series"
   ]
  },
  {
   "cell_type": "markdown",
   "metadata": {},
   "source": [
    "* A series is very similar to NumPy array.\n",
    "* Series is 1-D array labeled array capable of holding any type of data.\n",
    "* The difference between the NumPy array from a Series, is that a Series can have axis labels, meaning it can be indexed by a label, instead of just a number location\n",
    "* The axis labels are collectively referred to as the index.\n",
    "* Following function is used to create a series:\n",
    "s= pd.Series(data,index = index)\n",
    "* In above function, data can be many different things:\n",
    "* A python dict\n",
    "* An ndarray\n",
    "* A scalar value (For exmple: 5)\n",
    "* The passed index is a list of axis labels. So, this seperates into a few cases depending on what data is:\n",
    "\n",
    "##### We Used Pandas Series When We want two-dimensional size-mutable, potentially heterogeneous tabular data structure with labeled axes (rows and columns).\n",
    "##### It used for data frames\n",
    "##### It helpfull for data structing of CSV, pdf, Sql table etc"
   ]
  },
  {
   "cell_type": "code",
   "execution_count": 123,
   "metadata": {},
   "outputs": [
    {
     "name": "stdout",
     "output_type": "stream",
     "text": [
      "0    g\n",
      "1    e\n",
      "2    e\n",
      "3    k\n",
      "4    s\n",
      "dtype: object\n"
     ]
    }
   ],
   "source": [
    "# import pandas as pd\n",
    "import pandas as pd\n",
    " \n",
    "# import numpy as np\n",
    "import numpy as np\n",
    " \n",
    "# simple array\n",
    "data = np.array(['g','e','e','k','s'])\n",
    " \n",
    "ser = pd.Series(data)\n",
    "print(ser)"
   ]
  },
  {
   "cell_type": "code",
   "execution_count": 124,
   "metadata": {},
   "outputs": [
    {
     "name": "stdout",
     "output_type": "stream",
     "text": [
      "0    g\n",
      "1    e\n",
      "2    e\n",
      "3    k\n",
      "4    s\n",
      "dtype: object\n"
     ]
    }
   ],
   "source": [
    "# a simple list\n",
    "list = ['g', 'e', 'e', 'k', 's']\n",
    "  \n",
    "# create series form a list\n",
    "ser = pd.Series(list)\n",
    "print(ser)"
   ]
  },
  {
   "cell_type": "code",
   "execution_count": 126,
   "metadata": {},
   "outputs": [
    {
     "name": "stdout",
     "output_type": "stream",
     "text": [
      "o\n"
     ]
    }
   ],
   "source": [
    "# creating simple array\n",
    "data = np.array(['g','e','e','k','s','f', 'o','r','g','e','e','k','s'])\n",
    "ser = pd.Series(data,index=[10,11,12,13,14,15,16,17,18,19,20,21,22])\n",
    "  \n",
    "  \n",
    "# accessing a element using index element\n",
    "print(ser[16])"
   ]
  },
  {
   "cell_type": "markdown",
   "metadata": {},
   "source": [
    "### 10.1 From ndarray"
   ]
  },
  {
   "cell_type": "markdown",
   "metadata": {},
   "source": [
    "* If data is an ndarray, index must be the same length as data.\n",
    "* If no index is passed, one will be created having values [0, ..., len(data) - 1]."
   ]
  },
  {
   "cell_type": "code",
   "execution_count": 130,
   "metadata": {},
   "outputs": [
    {
     "name": "stdout",
     "output_type": "stream",
     "text": [
      "a    0.515732\n",
      "b    0.703918\n",
      "c    1.569997\n",
      "d   -1.047106\n",
      "e   -0.519497\n",
      "dtype: float64\n"
     ]
    }
   ],
   "source": [
    "import matplotlib.pyplot as plt\n",
    "\"\"\"following a fucntion is called from panas to create a series.\n",
    "   data would be 5 random values and indexes are assigned a-e\"\"\"\n",
    "s = pd.Series(np.random.randn(5), index=['a', 'b', 'c', 'd', 'e'])\n",
    "print(s)"
   ]
  },
  {
   "cell_type": "code",
   "execution_count": 131,
   "metadata": {},
   "outputs": [
    {
     "data": {
      "text/plain": [
       "Index(['a', 'b', 'c', 'd', 'e'], dtype='object')"
      ]
     },
     "execution_count": 131,
     "metadata": {},
     "output_type": "execute_result"
    }
   ],
   "source": [
    "\"\"\"Following function will print the index and its datatype\"\"\"\n",
    "s.index"
   ]
  },
  {
   "cell_type": "code",
   "execution_count": 132,
   "metadata": {},
   "outputs": [
    {
     "name": "stdout",
     "output_type": "stream",
     "text": [
      "1000    a\n",
      "1001    b\n",
      "1002    c\n",
      "1003    d\n",
      "1004    e\n",
      "dtype: object\n"
     ]
    }
   ],
   "source": [
    "data = np.array(['a', 'b', 'c', 'd', 'e']) \n",
    "  \n",
    "# creating series \n",
    "s = pd.Series(data, index =[1000, 1001, 1002, 1003, 1004]) \n",
    "print(s) "
   ]
  },
  {
   "cell_type": "code",
   "execution_count": 134,
   "metadata": {},
   "outputs": [
    {
     "data": {
      "text/plain": [
       "Int64Index([1000, 1001, 1002, 1003, 1004], dtype='int64')"
      ]
     },
     "execution_count": 134,
     "metadata": {},
     "output_type": "execute_result"
    }
   ],
   "source": [
    "\"\"\"Following function will print the index and its datatype\"\"\"\n",
    "s.index"
   ]
  },
  {
   "cell_type": "code",
   "execution_count": 135,
   "metadata": {},
   "outputs": [
    {
     "data": {
      "text/plain": [
       "0    0.833537\n",
       "1   -0.388963\n",
       "2    0.501565\n",
       "3   -0.052195\n",
       "4   -0.345565\n",
       "dtype: float64"
      ]
     },
     "execution_count": 135,
     "metadata": {},
     "output_type": "execute_result"
    }
   ],
   "source": [
    "\"\"\"If we don't assign the index then it will of length having values [0......len(data-1)]\"\"\"\n",
    "pd.Series(np.random.randn(5))"
   ]
  },
  {
   "cell_type": "markdown",
   "metadata": {},
   "source": [
    "### 10.2 From dict"
   ]
  },
  {
   "cell_type": "markdown",
   "metadata": {},
   "source": [
    "* If data is a dict, if index is passed the values in data corresponding to the labels in the index will be pulled out. \n",
    "* If index is not passed then it will be constructed from the sorted keys of the dict, if possible."
   ]
  },
  {
   "cell_type": "code",
   "execution_count": 139,
   "metadata": {},
   "outputs": [
    {
     "data": {
      "text/plain": [
       "e    0.0\n",
       "n    1.0\n",
       "a    2.0\n",
       "dtype: float64"
      ]
     },
     "execution_count": 139,
     "metadata": {},
     "output_type": "execute_result"
    }
   ],
   "source": [
    "\"\"\" In following example, indexes are not given to it is constructed from the sorted keys of the dict\"\"\"\n",
    "d = {'e' : 0., 'n' : 1., 'a' : 2.} # a python dict\n",
    "pd.Series(d)"
   ]
  },
  {
   "cell_type": "code",
   "execution_count": 140,
   "metadata": {},
   "outputs": [
    {
     "data": {
      "text/plain": [
       "e    0.0\n",
       "n    1.0\n",
       "d    NaN\n",
       "a    2.0\n",
       "dtype: float64"
      ]
     },
     "execution_count": 140,
     "metadata": {},
     "output_type": "execute_result"
    }
   ],
   "source": [
    "\"\"\" In following example, index are given, so the values in data corresponding in the index will be pulled ou\n",
    "t\"\"\"\n",
    "pd.Series(d, index=['e', 'n', 'd', 'a'])"
   ]
  },
  {
   "cell_type": "code",
   "execution_count": 141,
   "metadata": {},
   "outputs": [
    {
     "data": {
      "text/html": [
       "<div>\n",
       "<style scoped>\n",
       "    .dataframe tbody tr th:only-of-type {\n",
       "        vertical-align: middle;\n",
       "    }\n",
       "\n",
       "    .dataframe tbody tr th {\n",
       "        vertical-align: top;\n",
       "    }\n",
       "\n",
       "    .dataframe thead th {\n",
       "        text-align: right;\n",
       "    }\n",
       "</style>\n",
       "<table border=\"1\" class=\"dataframe\">\n",
       "  <thead>\n",
       "    <tr style=\"text-align: right;\">\n",
       "      <th></th>\n",
       "      <th>name</th>\n",
       "      <th>degree</th>\n",
       "      <th>score</th>\n",
       "    </tr>\n",
       "  </thead>\n",
       "  <tbody>\n",
       "    <tr>\n",
       "      <th>0</th>\n",
       "      <td>aparna</td>\n",
       "      <td>MBA</td>\n",
       "      <td>90</td>\n",
       "    </tr>\n",
       "    <tr>\n",
       "      <th>1</th>\n",
       "      <td>pankaj</td>\n",
       "      <td>BCA</td>\n",
       "      <td>40</td>\n",
       "    </tr>\n",
       "    <tr>\n",
       "      <th>2</th>\n",
       "      <td>sudhir</td>\n",
       "      <td>M.Tech</td>\n",
       "      <td>80</td>\n",
       "    </tr>\n",
       "    <tr>\n",
       "      <th>3</th>\n",
       "      <td>Geeku</td>\n",
       "      <td>MBA</td>\n",
       "      <td>98</td>\n",
       "    </tr>\n",
       "  </tbody>\n",
       "</table>\n",
       "</div>"
      ],
      "text/plain": [
       "     name  degree  score\n",
       "0  aparna     MBA     90\n",
       "1  pankaj     BCA     40\n",
       "2  sudhir  M.Tech     80\n",
       "3   Geeku     MBA     98"
      ]
     },
     "execution_count": 141,
     "metadata": {},
     "output_type": "execute_result"
    }
   ],
   "source": [
    "# importing pandas as pd \n",
    "import pandas as pd \n",
    "  \n",
    "# dictionary of lists \n",
    "dict = {'name':[\"aparna\", \"pankaj\", \"sudhir\", \"Geeku\"], \n",
    "        'degree': [\"MBA\", \"BCA\", \"M.Tech\", \"MBA\"], \n",
    "        'score':[90, 40, 80, 98]} \n",
    "  \n",
    "df = pd.DataFrame.from_dict(dict) \n",
    "  \n",
    "df"
   ]
  },
  {
   "cell_type": "code",
   "execution_count": null,
   "metadata": {},
   "outputs": [],
   "source": [
    "import pandas as pd \n",
    "# dictionary of lists \n",
    "dict = {'name':[\"umair\", \"ahmad\", \"sudhir\", \"Geeku\"], \n",
    "        'Job': [\"Accountant\", \"data analyst\", \"engr\", \"backend developer\"], \n",
    "        'salary':[100000, 25000, 80000, 9800000]} \n",
    "  \n",
    "df = pd.DataFrame.from_dict(dict) \n",
    "df"
   ]
  },
  {
   "cell_type": "markdown",
   "metadata": {},
   "source": [
    "# 11. Data Frames\n",
    "- DataFrames are the workhorse of pandas and are directly inspired by the R programming language.\n",
    "- Like Series, DataFrame accepts many different kinds of input:\n",
    "     - Dict of 1D ndarrays, lists, dicts, or Series\n",
    "     - 2-D numpy.ndarray\n",
    "     - Structured or record ndarray\n",
    "     - A Series\n",
    "     - Another DataFrame\n",
    "- Along with the data, you can optionally pass index (row labels) and columns (column labels) arguments.\n",
    "- If you pass an index and / or columns, you are guaranteeing the index and / or columns of the resulting DataFrame.\n",
    "- Thus, a dict of Series plus a specific index will discard all data not matching up to the passed index.\n",
    "- If axis labels are not passed, they will be constructed from the input data based on common sense rules"
   ]
  },
  {
   "cell_type": "markdown",
   "metadata": {},
   "source": [
    "# 11.1 From dict of Series or dicts\n",
    "- The result index will be the union of the indexes of the various Series.\n",
    "- If there are any nested dicts, these will be first converted to Series.\n",
    "- If no columns are passed, the columns will be the sorted list of dict keys."
   ]
  },
  {
   "cell_type": "code",
   "execution_count": 6,
   "metadata": {},
   "outputs": [
    {
     "data": {
      "text/html": [
       "<div>\n",
       "<style scoped>\n",
       "    .dataframe tbody tr th:only-of-type {\n",
       "        vertical-align: middle;\n",
       "    }\n",
       "\n",
       "    .dataframe tbody tr th {\n",
       "        vertical-align: top;\n",
       "    }\n",
       "\n",
       "    .dataframe thead th {\n",
       "        text-align: right;\n",
       "    }\n",
       "</style>\n",
       "<table border=\"1\" class=\"dataframe\">\n",
       "  <thead>\n",
       "    <tr style=\"text-align: right;\">\n",
       "      <th></th>\n",
       "      <th>one</th>\n",
       "      <th>two</th>\n",
       "    </tr>\n",
       "  </thead>\n",
       "  <tbody>\n",
       "    <tr>\n",
       "      <th>a</th>\n",
       "      <td>1.0</td>\n",
       "      <td>1.0</td>\n",
       "    </tr>\n",
       "    <tr>\n",
       "      <th>b</th>\n",
       "      <td>2.0</td>\n",
       "      <td>2.0</td>\n",
       "    </tr>\n",
       "    <tr>\n",
       "      <th>c</th>\n",
       "      <td>3.0</td>\n",
       "      <td>3.0</td>\n",
       "    </tr>\n",
       "    <tr>\n",
       "      <th>d</th>\n",
       "      <td>NaN</td>\n",
       "      <td>4.0</td>\n",
       "    </tr>\n",
       "  </tbody>\n",
       "</table>\n",
       "</div>"
      ],
      "text/plain": [
       "   one  two\n",
       "a  1.0  1.0\n",
       "b  2.0  2.0\n",
       "c  3.0  3.0\n",
       "d  NaN  4.0"
      ]
     },
     "execution_count": 6,
     "metadata": {},
     "output_type": "execute_result"
    }
   ],
   "source": [
    "\"\"\" A dict is created \"\"\"\n",
    "d = {\n",
    " 'one' : pd.Series([1., 2., 3.], index=['a', 'b', 'c']),\n",
    " 'two' : pd.Series([1., 2., 3., 4.], index=['a', 'b', 'c', 'd'])\n",
    " }\n",
    "\"\"\"create a dataframe. row label will be the indes of a series. As coloum labels are not given so it\n",
    " will be sorted list of dict keys\"\"\"\n",
    "df = pd.DataFrame(d)\n",
    "df\n"
   ]
  },
  {
   "cell_type": "code",
   "execution_count": 7,
   "metadata": {},
   "outputs": [
    {
     "data": {
      "text/html": [
       "<div>\n",
       "<style scoped>\n",
       "    .dataframe tbody tr th:only-of-type {\n",
       "        vertical-align: middle;\n",
       "    }\n",
       "\n",
       "    .dataframe tbody tr th {\n",
       "        vertical-align: top;\n",
       "    }\n",
       "\n",
       "    .dataframe thead th {\n",
       "        text-align: right;\n",
       "    }\n",
       "</style>\n",
       "<table border=\"1\" class=\"dataframe\">\n",
       "  <thead>\n",
       "    <tr style=\"text-align: right;\">\n",
       "      <th></th>\n",
       "      <th>std1</th>\n",
       "      <th>std2</th>\n",
       "    </tr>\n",
       "  </thead>\n",
       "  <tbody>\n",
       "    <tr>\n",
       "      <th>1</th>\n",
       "      <td>chemistry</td>\n",
       "      <td>ITC</td>\n",
       "    </tr>\n",
       "    <tr>\n",
       "      <th>2</th>\n",
       "      <td>bio</td>\n",
       "      <td>PF</td>\n",
       "    </tr>\n",
       "    <tr>\n",
       "      <th>3</th>\n",
       "      <td>phy</td>\n",
       "      <td>OOP</td>\n",
       "    </tr>\n",
       "  </tbody>\n",
       "</table>\n",
       "</div>"
      ],
      "text/plain": [
       "        std1 std2\n",
       "1  chemistry  ITC\n",
       "2        bio   PF\n",
       "3        phy  OOP"
      ]
     },
     "execution_count": 7,
     "metadata": {},
     "output_type": "execute_result"
    }
   ],
   "source": [
    "\"\"\" A dict is created \"\"\"\n",
    "d2 = {\n",
    " 'std1' : pd.Series(['chemistry', 'bio', 'phy'], index=['1', '2', '3']),\n",
    " 'std2' : pd.Series(['ITC', 'PF', 'OOP'], index=['1', '2', '3'])\n",
    " }\n",
    "df = pd.DataFrame(d2)\n",
    "df\n"
   ]
  },
  {
   "cell_type": "code",
   "execution_count": 11,
   "metadata": {},
   "outputs": [
    {
     "data": {
      "text/html": [
       "<div>\n",
       "<style scoped>\n",
       "    .dataframe tbody tr th:only-of-type {\n",
       "        vertical-align: middle;\n",
       "    }\n",
       "\n",
       "    .dataframe tbody tr th {\n",
       "        vertical-align: top;\n",
       "    }\n",
       "\n",
       "    .dataframe thead th {\n",
       "        text-align: right;\n",
       "    }\n",
       "</style>\n",
       "<table border=\"1\" class=\"dataframe\">\n",
       "  <thead>\n",
       "    <tr style=\"text-align: right;\">\n",
       "      <th></th>\n",
       "      <th>std1</th>\n",
       "      <th>std2</th>\n",
       "    </tr>\n",
       "  </thead>\n",
       "  <tbody>\n",
       "    <tr>\n",
       "      <th>1</th>\n",
       "      <td>chemistry</td>\n",
       "      <td>ITC</td>\n",
       "    </tr>\n",
       "    <tr>\n",
       "      <th>2</th>\n",
       "      <td>bio</td>\n",
       "      <td>PF</td>\n",
       "    </tr>\n",
       "    <tr>\n",
       "      <th>3</th>\n",
       "      <td>phy</td>\n",
       "      <td>OOP</td>\n",
       "    </tr>\n",
       "  </tbody>\n",
       "</table>\n",
       "</div>"
      ],
      "text/plain": [
       "        std1 std2\n",
       "1  chemistry  ITC\n",
       "2        bio   PF\n",
       "3        phy  OOP"
      ]
     },
     "execution_count": 11,
     "metadata": {},
     "output_type": "execute_result"
    }
   ],
   "source": [
    "\"\"\" a data frame will be constructed for given row labels\"\"\"\n",
    "pd.DataFrame(d2, index=['1', '2', '3'])"
   ]
  },
  {
   "cell_type": "code",
   "execution_count": 18,
   "metadata": {},
   "outputs": [
    {
     "data": {
      "text/html": [
       "<div>\n",
       "<style scoped>\n",
       "    .dataframe tbody tr th:only-of-type {\n",
       "        vertical-align: middle;\n",
       "    }\n",
       "\n",
       "    .dataframe tbody tr th {\n",
       "        vertical-align: top;\n",
       "    }\n",
       "\n",
       "    .dataframe thead th {\n",
       "        text-align: right;\n",
       "    }\n",
       "</style>\n",
       "<table border=\"1\" class=\"dataframe\">\n",
       "  <thead>\n",
       "    <tr style=\"text-align: right;\">\n",
       "      <th></th>\n",
       "      <th>two</th>\n",
       "      <th>three</th>\n",
       "    </tr>\n",
       "  </thead>\n",
       "  <tbody>\n",
       "    <tr>\n",
       "      <th>d</th>\n",
       "      <td>4.0</td>\n",
       "      <td>NaN</td>\n",
       "    </tr>\n",
       "    <tr>\n",
       "      <th>b</th>\n",
       "      <td>2.0</td>\n",
       "      <td>NaN</td>\n",
       "    </tr>\n",
       "    <tr>\n",
       "      <th>a</th>\n",
       "      <td>1.0</td>\n",
       "      <td>NaN</td>\n",
       "    </tr>\n",
       "  </tbody>\n",
       "</table>\n",
       "</div>"
      ],
      "text/plain": [
       "   two three\n",
       "d  4.0   NaN\n",
       "b  2.0   NaN\n",
       "a  1.0   NaN"
      ]
     },
     "execution_count": 18,
     "metadata": {},
     "output_type": "execute_result"
    }
   ],
   "source": [
    "\"\"\"following example shows a data frame when we give coloumn labels\"\"\"\n",
    "pd.DataFrame(d, index=['d', 'b', 'a'], columns=['two', 'three'])"
   ]
  },
  {
   "cell_type": "code",
   "execution_count": 19,
   "metadata": {},
   "outputs": [
    {
     "data": {
      "text/plain": [
       "Index(['std1', 'std2'], dtype='object')"
      ]
     },
     "execution_count": 19,
     "metadata": {},
     "output_type": "execute_result"
    }
   ],
   "source": [
    "df.columns\n"
   ]
  },
  {
   "cell_type": "markdown",
   "metadata": {},
   "source": [
    "## 11.2 From dict of ndarrays / lists\n",
    "The ndarrays must all be the same length.\n",
    "If an index is passed, it must clearly also be the same length as the arrays.\n",
    "If no index is passed, the result will be range(n), where n is the array length."
   ]
  },
  {
   "cell_type": "code",
   "execution_count": 20,
   "metadata": {},
   "outputs": [
    {
     "data": {
      "text/html": [
       "<div>\n",
       "<style scoped>\n",
       "    .dataframe tbody tr th:only-of-type {\n",
       "        vertical-align: middle;\n",
       "    }\n",
       "\n",
       "    .dataframe tbody tr th {\n",
       "        vertical-align: top;\n",
       "    }\n",
       "\n",
       "    .dataframe thead th {\n",
       "        text-align: right;\n",
       "    }\n",
       "</style>\n",
       "<table border=\"1\" class=\"dataframe\">\n",
       "  <thead>\n",
       "    <tr style=\"text-align: right;\">\n",
       "      <th></th>\n",
       "      <th>one</th>\n",
       "      <th>two</th>\n",
       "    </tr>\n",
       "  </thead>\n",
       "  <tbody>\n",
       "    <tr>\n",
       "      <th>0</th>\n",
       "      <td>1.0</td>\n",
       "      <td>4.0</td>\n",
       "    </tr>\n",
       "    <tr>\n",
       "      <th>1</th>\n",
       "      <td>2.0</td>\n",
       "      <td>3.0</td>\n",
       "    </tr>\n",
       "    <tr>\n",
       "      <th>2</th>\n",
       "      <td>3.0</td>\n",
       "      <td>2.0</td>\n",
       "    </tr>\n",
       "    <tr>\n",
       "      <th>3</th>\n",
       "      <td>4.0</td>\n",
       "      <td>1.0</td>\n",
       "    </tr>\n",
       "  </tbody>\n",
       "</table>\n",
       "</div>"
      ],
      "text/plain": [
       "   one  two\n",
       "0  1.0  4.0\n",
       "1  2.0  3.0\n",
       "2  3.0  2.0\n",
       "3  4.0  1.0"
      ]
     },
     "execution_count": 20,
     "metadata": {},
     "output_type": "execute_result"
    }
   ],
   "source": [
    "\"\"\"followind examples shows that ndarray has same length\"\"\"\n",
    "d = {\n",
    " 'one' : [1., 2., 3., 4.],\n",
    " 'two' : [4., 3., 2., 1.]\n",
    " }\n",
    "\"\"\"column labels are not given so the result will be range(n), where n is the array length\"\"\"\n",
    "pd.DataFrame(d)\n"
   ]
  },
  {
   "cell_type": "code",
   "execution_count": 22,
   "metadata": {},
   "outputs": [
    {
     "data": {
      "text/html": [
       "<div>\n",
       "<style scoped>\n",
       "    .dataframe tbody tr th:only-of-type {\n",
       "        vertical-align: middle;\n",
       "    }\n",
       "\n",
       "    .dataframe tbody tr th {\n",
       "        vertical-align: top;\n",
       "    }\n",
       "\n",
       "    .dataframe thead th {\n",
       "        text-align: right;\n",
       "    }\n",
       "</style>\n",
       "<table border=\"1\" class=\"dataframe\">\n",
       "  <thead>\n",
       "    <tr style=\"text-align: right;\">\n",
       "      <th></th>\n",
       "      <th>std1</th>\n",
       "      <th>std2</th>\n",
       "    </tr>\n",
       "  </thead>\n",
       "  <tbody>\n",
       "    <tr>\n",
       "      <th>0</th>\n",
       "      <td>1.0</td>\n",
       "      <td>4.0</td>\n",
       "    </tr>\n",
       "    <tr>\n",
       "      <th>1</th>\n",
       "      <td>2.0</td>\n",
       "      <td>3.0</td>\n",
       "    </tr>\n",
       "    <tr>\n",
       "      <th>2</th>\n",
       "      <td>3.0</td>\n",
       "      <td>2.0</td>\n",
       "    </tr>\n",
       "    <tr>\n",
       "      <th>3</th>\n",
       "      <td>4.0</td>\n",
       "      <td>1.0</td>\n",
       "    </tr>\n",
       "  </tbody>\n",
       "</table>\n",
       "</div>"
      ],
      "text/plain": [
       "   std1  std2\n",
       "0   1.0   4.0\n",
       "1   2.0   3.0\n",
       "2   3.0   2.0\n",
       "3   4.0   1.0"
      ]
     },
     "execution_count": 22,
     "metadata": {},
     "output_type": "execute_result"
    }
   ],
   "source": [
    "\n",
    "dict2 = {\n",
    " 'std1' : [1., 2., 3., 4.],\n",
    " 'std2' : [4., 3., 2., 1.]\n",
    " }\n",
    "\"\"\"column labels are not given so the result will be range(n), where n is the array length\"\"\"\n",
    "pd.DataFrame(dict2)\n"
   ]
  },
  {
   "cell_type": "code",
   "execution_count": 24,
   "metadata": {},
   "outputs": [
    {
     "data": {
      "text/html": [
       "<div>\n",
       "<style scoped>\n",
       "    .dataframe tbody tr th:only-of-type {\n",
       "        vertical-align: middle;\n",
       "    }\n",
       "\n",
       "    .dataframe tbody tr th {\n",
       "        vertical-align: top;\n",
       "    }\n",
       "\n",
       "    .dataframe thead th {\n",
       "        text-align: right;\n",
       "    }\n",
       "</style>\n",
       "<table border=\"1\" class=\"dataframe\">\n",
       "  <thead>\n",
       "    <tr style=\"text-align: right;\">\n",
       "      <th></th>\n",
       "      <th>std1</th>\n",
       "      <th>std2</th>\n",
       "      <th>std3</th>\n",
       "    </tr>\n",
       "  </thead>\n",
       "  <tbody>\n",
       "    <tr>\n",
       "      <th>0</th>\n",
       "      <td>1.0</td>\n",
       "      <td>4.0</td>\n",
       "      <td>4.0</td>\n",
       "    </tr>\n",
       "    <tr>\n",
       "      <th>1</th>\n",
       "      <td>2.0</td>\n",
       "      <td>3.0</td>\n",
       "      <td>3.0</td>\n",
       "    </tr>\n",
       "    <tr>\n",
       "      <th>2</th>\n",
       "      <td>3.0</td>\n",
       "      <td>2.0</td>\n",
       "      <td>2.0</td>\n",
       "    </tr>\n",
       "    <tr>\n",
       "      <th>3</th>\n",
       "      <td>4.0</td>\n",
       "      <td>1.0</td>\n",
       "      <td>1.0</td>\n",
       "    </tr>\n",
       "  </tbody>\n",
       "</table>\n",
       "</div>"
      ],
      "text/plain": [
       "   std1  std2  std3\n",
       "0   1.0   4.0   4.0\n",
       "1   2.0   3.0   3.0\n",
       "2   3.0   2.0   2.0\n",
       "3   4.0   1.0   1.0"
      ]
     },
     "execution_count": 24,
     "metadata": {},
     "output_type": "execute_result"
    }
   ],
   "source": [
    "dict3 = {\n",
    " 'std1' : [1., 2., 3., 4.],\n",
    " 'std2' : [4., 3., 2., 1.],\n",
    " 'std3' : [4., 3., 2., 1.]\n",
    " }\n",
    "\"\"\"column labels are not given so the result will be range(n), where n is the array length\"\"\"\n",
    "pd.DataFrame(dict3)"
   ]
  },
  {
   "cell_type": "code",
   "execution_count": null,
   "metadata": {},
   "outputs": [],
   "source": [
    "\"\"\"If indexs are given then it would be same length as arrays\"\"\"\n",
    "pd.DataFrame(d, index=['a', 'b', 'c', 'd'])\n"
   ]
  },
  {
   "cell_type": "markdown",
   "metadata": {},
   "source": [
    "## 11.3 From a list of dicts"
   ]
  },
  {
   "cell_type": "code",
   "execution_count": 25,
   "metadata": {},
   "outputs": [
    {
     "data": {
      "text/html": [
       "<div>\n",
       "<style scoped>\n",
       "    .dataframe tbody tr th:only-of-type {\n",
       "        vertical-align: middle;\n",
       "    }\n",
       "\n",
       "    .dataframe tbody tr th {\n",
       "        vertical-align: top;\n",
       "    }\n",
       "\n",
       "    .dataframe thead th {\n",
       "        text-align: right;\n",
       "    }\n",
       "</style>\n",
       "<table border=\"1\" class=\"dataframe\">\n",
       "  <thead>\n",
       "    <tr style=\"text-align: right;\">\n",
       "      <th></th>\n",
       "      <th>a</th>\n",
       "      <th>b</th>\n",
       "      <th>c</th>\n",
       "    </tr>\n",
       "  </thead>\n",
       "  <tbody>\n",
       "    <tr>\n",
       "      <th>0</th>\n",
       "      <td>1</td>\n",
       "      <td>2</td>\n",
       "      <td>NaN</td>\n",
       "    </tr>\n",
       "    <tr>\n",
       "      <th>1</th>\n",
       "      <td>5</td>\n",
       "      <td>10</td>\n",
       "      <td>20.0</td>\n",
       "    </tr>\n",
       "  </tbody>\n",
       "</table>\n",
       "</div>"
      ],
      "text/plain": [
       "   a   b     c\n",
       "0  1   2   NaN\n",
       "1  5  10  20.0"
      ]
     },
     "execution_count": 25,
     "metadata": {},
     "output_type": "execute_result"
    }
   ],
   "source": [
    "\"\"\"constructing data frame from a list of dicts\"\"\"\n",
    "data2 = [{'a': 1, 'b': 2}, {'a': 5, 'b': 10, 'c': 20}]\n",
    "pd.DataFrame(data2)"
   ]
  },
  {
   "cell_type": "code",
   "execution_count": 27,
   "metadata": {},
   "outputs": [
    {
     "data": {
      "text/html": [
       "<div>\n",
       "<style scoped>\n",
       "    .dataframe tbody tr th:only-of-type {\n",
       "        vertical-align: middle;\n",
       "    }\n",
       "\n",
       "    .dataframe tbody tr th {\n",
       "        vertical-align: top;\n",
       "    }\n",
       "\n",
       "    .dataframe thead th {\n",
       "        text-align: right;\n",
       "    }\n",
       "</style>\n",
       "<table border=\"1\" class=\"dataframe\">\n",
       "  <thead>\n",
       "    <tr style=\"text-align: right;\">\n",
       "      <th></th>\n",
       "      <th>std1</th>\n",
       "      <th>std2</th>\n",
       "      <th>std3</th>\n",
       "    </tr>\n",
       "  </thead>\n",
       "  <tbody>\n",
       "    <tr>\n",
       "      <th>0</th>\n",
       "      <td>1</td>\n",
       "      <td>2</td>\n",
       "      <td>NaN</td>\n",
       "    </tr>\n",
       "    <tr>\n",
       "      <th>1</th>\n",
       "      <td>5</td>\n",
       "      <td>10</td>\n",
       "      <td>20.0</td>\n",
       "    </tr>\n",
       "  </tbody>\n",
       "</table>\n",
       "</div>"
      ],
      "text/plain": [
       "   std1  std2  std3\n",
       "0     1     2   NaN\n",
       "1     5    10  20.0"
      ]
     },
     "execution_count": 27,
     "metadata": {},
     "output_type": "execute_result"
    }
   ],
   "source": [
    "\"\"\"constructing data frame from a list of dicts\"\"\"\n",
    "data3 = [{'std1': 1, 'std2': 2}, {'std1': 5, 'std2': 10, 'std3': 20}]\n",
    "pd.DataFrame(data3)\n"
   ]
  },
  {
   "cell_type": "markdown",
   "metadata": {},
   "source": [
    "## 11.4 From a dict of tuples\n",
    "You can automatically create a multi-indexed frame by passing a tuples dictionary"
   ]
  },
  {
   "cell_type": "code",
   "execution_count": 28,
   "metadata": {},
   "outputs": [
    {
     "data": {
      "text/html": [
       "<div>\n",
       "<style scoped>\n",
       "    .dataframe tbody tr th:only-of-type {\n",
       "        vertical-align: middle;\n",
       "    }\n",
       "\n",
       "    .dataframe tbody tr th {\n",
       "        vertical-align: top;\n",
       "    }\n",
       "\n",
       "    .dataframe thead tr th {\n",
       "        text-align: left;\n",
       "    }\n",
       "</style>\n",
       "<table border=\"1\" class=\"dataframe\">\n",
       "  <thead>\n",
       "    <tr>\n",
       "      <th></th>\n",
       "      <th></th>\n",
       "      <th colspan=\"3\" halign=\"left\">a</th>\n",
       "      <th colspan=\"2\" halign=\"left\">b</th>\n",
       "    </tr>\n",
       "    <tr>\n",
       "      <th></th>\n",
       "      <th></th>\n",
       "      <th>b</th>\n",
       "      <th>a</th>\n",
       "      <th>c</th>\n",
       "      <th>a</th>\n",
       "      <th>b</th>\n",
       "    </tr>\n",
       "  </thead>\n",
       "  <tbody>\n",
       "    <tr>\n",
       "      <th rowspan=\"3\" valign=\"top\">A</th>\n",
       "      <th>B</th>\n",
       "      <td>1.0</td>\n",
       "      <td>4.0</td>\n",
       "      <td>5.0</td>\n",
       "      <td>8.0</td>\n",
       "      <td>10.0</td>\n",
       "    </tr>\n",
       "    <tr>\n",
       "      <th>C</th>\n",
       "      <td>2.0</td>\n",
       "      <td>3.0</td>\n",
       "      <td>6.0</td>\n",
       "      <td>7.0</td>\n",
       "      <td>NaN</td>\n",
       "    </tr>\n",
       "    <tr>\n",
       "      <th>D</th>\n",
       "      <td>NaN</td>\n",
       "      <td>NaN</td>\n",
       "      <td>NaN</td>\n",
       "      <td>NaN</td>\n",
       "      <td>9.0</td>\n",
       "    </tr>\n",
       "  </tbody>\n",
       "</table>\n",
       "</div>"
      ],
      "text/plain": [
       "       a              b      \n",
       "       b    a    c    a     b\n",
       "A B  1.0  4.0  5.0  8.0  10.0\n",
       "  C  2.0  3.0  6.0  7.0   NaN\n",
       "  D  NaN  NaN  NaN  NaN   9.0"
      ]
     },
     "execution_count": 28,
     "metadata": {},
     "output_type": "execute_result"
    }
   ],
   "source": [
    "pd.DataFrame({('a', 'b'): {('A', 'B'): 1, ('A', 'C'): 2},\n",
    " ('a', 'a'): {('A', 'C'): 3, ('A', 'B'): 4},\n",
    " ('a', 'c'): {('A', 'B'): 5, ('A', 'C'): 6},\n",
    " ('b', 'a'): {('A', 'C'): 7, ('A', 'B'): 8},\n",
    " ('b', 'b'): {('A', 'D'): 9, ('A', 'B'): 10}})\n",
    "#\"NaN shows missing data"
   ]
  },
  {
   "cell_type": "code",
   "execution_count": 30,
   "metadata": {},
   "outputs": [
    {
     "data": {
      "text/html": [
       "<div>\n",
       "<style scoped>\n",
       "    .dataframe tbody tr th:only-of-type {\n",
       "        vertical-align: middle;\n",
       "    }\n",
       "\n",
       "    .dataframe tbody tr th {\n",
       "        vertical-align: top;\n",
       "    }\n",
       "\n",
       "    .dataframe thead tr th {\n",
       "        text-align: left;\n",
       "    }\n",
       "</style>\n",
       "<table border=\"1\" class=\"dataframe\">\n",
       "  <thead>\n",
       "    <tr>\n",
       "      <th></th>\n",
       "      <th></th>\n",
       "      <th colspan=\"3\" halign=\"left\">a</th>\n",
       "      <th colspan=\"2\" halign=\"left\">b</th>\n",
       "    </tr>\n",
       "    <tr>\n",
       "      <th></th>\n",
       "      <th></th>\n",
       "      <th>b</th>\n",
       "      <th>a</th>\n",
       "      <th>c</th>\n",
       "      <th>a</th>\n",
       "      <th>b</th>\n",
       "    </tr>\n",
       "  </thead>\n",
       "  <tbody>\n",
       "    <tr>\n",
       "      <th rowspan=\"3\" valign=\"top\">A</th>\n",
       "      <th>B</th>\n",
       "      <td>umair</td>\n",
       "      <td>umair</td>\n",
       "      <td>umair</td>\n",
       "      <td>umair</td>\n",
       "      <td>umair</td>\n",
       "    </tr>\n",
       "    <tr>\n",
       "      <th>C</th>\n",
       "      <td>umair</td>\n",
       "      <td>umair</td>\n",
       "      <td>umair</td>\n",
       "      <td>umair</td>\n",
       "      <td>NaN</td>\n",
       "    </tr>\n",
       "    <tr>\n",
       "      <th>D</th>\n",
       "      <td>NaN</td>\n",
       "      <td>NaN</td>\n",
       "      <td>NaN</td>\n",
       "      <td>NaN</td>\n",
       "      <td>umair</td>\n",
       "    </tr>\n",
       "  </tbody>\n",
       "</table>\n",
       "</div>"
      ],
      "text/plain": [
       "         a                    b       \n",
       "         b      a      c      a      b\n",
       "A B  umair  umair  umair  umair  umair\n",
       "  C  umair  umair  umair  umair    NaN\n",
       "  D    NaN    NaN    NaN    NaN  umair"
      ]
     },
     "execution_count": 30,
     "metadata": {},
     "output_type": "execute_result"
    }
   ],
   "source": [
    "#data can be in string form\n",
    "pd.DataFrame({('a', 'b'): {('A', 'B'): 'umair', ('A', 'C'): 'umair'},\n",
    " ('a', 'a'): {('A', 'C'): 'umair', ('A', 'B'): 'umair'},\n",
    " ('a', 'c'): {('A', 'B'): 'umair', ('A', 'C'): 'umair'},\n",
    " ('b', 'a'): {('A', 'C'): 'umair', ('A', 'B'): 'umair'},\n",
    " ('b', 'b'): {('A', 'D'): 'umair', ('A', 'B'): 'umair'}})\n",
    "#\"NaN shows missing data"
   ]
  },
  {
   "cell_type": "markdown",
   "metadata": {},
   "source": [
    "## Data alignment and arithmetic\n",
    "Data alignment between DataFrame objects automatically align on both the columns and the index (row labels).\n",
    "Again, the resulting object will have the union of the column and row labels\n"
   ]
  },
  {
   "cell_type": "code",
   "execution_count": 40,
   "metadata": {},
   "outputs": [
    {
     "data": {
      "text/html": [
       "<div>\n",
       "<style scoped>\n",
       "    .dataframe tbody tr th:only-of-type {\n",
       "        vertical-align: middle;\n",
       "    }\n",
       "\n",
       "    .dataframe tbody tr th {\n",
       "        vertical-align: top;\n",
       "    }\n",
       "\n",
       "    .dataframe thead th {\n",
       "        text-align: right;\n",
       "    }\n",
       "</style>\n",
       "<table border=\"1\" class=\"dataframe\">\n",
       "  <thead>\n",
       "    <tr style=\"text-align: right;\">\n",
       "      <th></th>\n",
       "      <th>A</th>\n",
       "      <th>B</th>\n",
       "      <th>C</th>\n",
       "      <th>D</th>\n",
       "    </tr>\n",
       "  </thead>\n",
       "  <tbody>\n",
       "    <tr>\n",
       "      <th>0</th>\n",
       "      <td>0.785444</td>\n",
       "      <td>0.576489</td>\n",
       "      <td>2.895797</td>\n",
       "      <td>NaN</td>\n",
       "    </tr>\n",
       "    <tr>\n",
       "      <th>1</th>\n",
       "      <td>-0.223803</td>\n",
       "      <td>-1.354721</td>\n",
       "      <td>0.416988</td>\n",
       "      <td>NaN</td>\n",
       "    </tr>\n",
       "    <tr>\n",
       "      <th>2</th>\n",
       "      <td>-0.628345</td>\n",
       "      <td>-0.451915</td>\n",
       "      <td>-1.340527</td>\n",
       "      <td>NaN</td>\n",
       "    </tr>\n",
       "    <tr>\n",
       "      <th>3</th>\n",
       "      <td>-0.219341</td>\n",
       "      <td>-2.212263</td>\n",
       "      <td>1.006916</td>\n",
       "      <td>NaN</td>\n",
       "    </tr>\n",
       "    <tr>\n",
       "      <th>4</th>\n",
       "      <td>-0.753905</td>\n",
       "      <td>-3.229720</td>\n",
       "      <td>-2.329071</td>\n",
       "      <td>NaN</td>\n",
       "    </tr>\n",
       "    <tr>\n",
       "      <th>5</th>\n",
       "      <td>0.484629</td>\n",
       "      <td>1.066250</td>\n",
       "      <td>0.734740</td>\n",
       "      <td>NaN</td>\n",
       "    </tr>\n",
       "    <tr>\n",
       "      <th>6</th>\n",
       "      <td>0.719159</td>\n",
       "      <td>-0.275405</td>\n",
       "      <td>-0.213567</td>\n",
       "      <td>NaN</td>\n",
       "    </tr>\n",
       "    <tr>\n",
       "      <th>7</th>\n",
       "      <td>NaN</td>\n",
       "      <td>NaN</td>\n",
       "      <td>NaN</td>\n",
       "      <td>NaN</td>\n",
       "    </tr>\n",
       "    <tr>\n",
       "      <th>8</th>\n",
       "      <td>NaN</td>\n",
       "      <td>NaN</td>\n",
       "      <td>NaN</td>\n",
       "      <td>NaN</td>\n",
       "    </tr>\n",
       "    <tr>\n",
       "      <th>9</th>\n",
       "      <td>NaN</td>\n",
       "      <td>NaN</td>\n",
       "      <td>NaN</td>\n",
       "      <td>NaN</td>\n",
       "    </tr>\n",
       "  </tbody>\n",
       "</table>\n",
       "</div>"
      ],
      "text/plain": [
       "          A         B         C   D\n",
       "0  0.785444  0.576489  2.895797 NaN\n",
       "1 -0.223803 -1.354721  0.416988 NaN\n",
       "2 -0.628345 -0.451915 -1.340527 NaN\n",
       "3 -0.219341 -2.212263  1.006916 NaN\n",
       "4 -0.753905 -3.229720 -2.329071 NaN\n",
       "5  0.484629  1.066250  0.734740 NaN\n",
       "6  0.719159 -0.275405 -0.213567 NaN\n",
       "7       NaN       NaN       NaN NaN\n",
       "8       NaN       NaN       NaN NaN\n",
       "9       NaN       NaN       NaN NaN"
      ]
     },
     "execution_count": 40,
     "metadata": {},
     "output_type": "execute_result"
    }
   ],
   "source": [
    "import numpy as np\n",
    "df = pd.DataFrame(np.random.randn(10, 4), columns=['A', 'B', 'C', 'D'])\n",
    "df2 = pd.DataFrame(np.random.randn(7, 3), columns=['A', 'B', 'C'])\n",
    "df + df2 # add values of respective coloumn labels"
   ]
  },
  {
   "cell_type": "code",
   "execution_count": 54,
   "metadata": {},
   "outputs": [
    {
     "data": {
      "text/html": [
       "<div>\n",
       "<style scoped>\n",
       "    .dataframe tbody tr th:only-of-type {\n",
       "        vertical-align: middle;\n",
       "    }\n",
       "\n",
       "    .dataframe tbody tr th {\n",
       "        vertical-align: top;\n",
       "    }\n",
       "\n",
       "    .dataframe thead th {\n",
       "        text-align: right;\n",
       "    }\n",
       "</style>\n",
       "<table border=\"1\" class=\"dataframe\">\n",
       "  <thead>\n",
       "    <tr style=\"text-align: right;\">\n",
       "      <th></th>\n",
       "      <th>num1</th>\n",
       "      <th>num2</th>\n",
       "      <th>num3</th>\n",
       "      <th>num4</th>\n",
       "    </tr>\n",
       "  </thead>\n",
       "  <tbody>\n",
       "    <tr>\n",
       "      <th>0</th>\n",
       "      <td>0.544106</td>\n",
       "      <td>-1.031078</td>\n",
       "      <td>-1.562930</td>\n",
       "      <td>NaN</td>\n",
       "    </tr>\n",
       "    <tr>\n",
       "      <th>1</th>\n",
       "      <td>1.583008</td>\n",
       "      <td>-0.183626</td>\n",
       "      <td>-0.550716</td>\n",
       "      <td>NaN</td>\n",
       "    </tr>\n",
       "    <tr>\n",
       "      <th>2</th>\n",
       "      <td>-1.945449</td>\n",
       "      <td>2.667017</td>\n",
       "      <td>-0.809509</td>\n",
       "      <td>NaN</td>\n",
       "    </tr>\n",
       "    <tr>\n",
       "      <th>3</th>\n",
       "      <td>-0.626624</td>\n",
       "      <td>-0.763345</td>\n",
       "      <td>-0.612854</td>\n",
       "      <td>NaN</td>\n",
       "    </tr>\n",
       "    <tr>\n",
       "      <th>4</th>\n",
       "      <td>0.780299</td>\n",
       "      <td>1.616593</td>\n",
       "      <td>-0.615076</td>\n",
       "      <td>NaN</td>\n",
       "    </tr>\n",
       "    <tr>\n",
       "      <th>5</th>\n",
       "      <td>-0.628988</td>\n",
       "      <td>0.257284</td>\n",
       "      <td>2.267217</td>\n",
       "      <td>NaN</td>\n",
       "    </tr>\n",
       "    <tr>\n",
       "      <th>6</th>\n",
       "      <td>2.632050</td>\n",
       "      <td>-0.629746</td>\n",
       "      <td>0.731427</td>\n",
       "      <td>NaN</td>\n",
       "    </tr>\n",
       "    <tr>\n",
       "      <th>7</th>\n",
       "      <td>NaN</td>\n",
       "      <td>NaN</td>\n",
       "      <td>NaN</td>\n",
       "      <td>NaN</td>\n",
       "    </tr>\n",
       "    <tr>\n",
       "      <th>8</th>\n",
       "      <td>NaN</td>\n",
       "      <td>NaN</td>\n",
       "      <td>NaN</td>\n",
       "      <td>NaN</td>\n",
       "    </tr>\n",
       "    <tr>\n",
       "      <th>9</th>\n",
       "      <td>NaN</td>\n",
       "      <td>NaN</td>\n",
       "      <td>NaN</td>\n",
       "      <td>NaN</td>\n",
       "    </tr>\n",
       "  </tbody>\n",
       "</table>\n",
       "</div>"
      ],
      "text/plain": [
       "       num1      num2      num3  num4\n",
       "0  0.544106 -1.031078 -1.562930   NaN\n",
       "1  1.583008 -0.183626 -0.550716   NaN\n",
       "2 -1.945449  2.667017 -0.809509   NaN\n",
       "3 -0.626624 -0.763345 -0.612854   NaN\n",
       "4  0.780299  1.616593 -0.615076   NaN\n",
       "5 -0.628988  0.257284  2.267217   NaN\n",
       "6  2.632050 -0.629746  0.731427   NaN\n",
       "7       NaN       NaN       NaN   NaN\n",
       "8       NaN       NaN       NaN   NaN\n",
       "9       NaN       NaN       NaN   NaN"
      ]
     },
     "execution_count": 54,
     "metadata": {},
     "output_type": "execute_result"
    }
   ],
   "source": [
    "import numpy as np\n",
    "df = pd.DataFrame(np.random.randn(10, 4), columns=['num1', 'num2', 'num3', 'num4'])\n",
    "df2 = pd.DataFrame(np.random.randn(7, 3), columns=['num1', 'num2', 'num3'])\n",
    "df + df2 # add values of respective coloumn labels"
   ]
  },
  {
   "cell_type": "markdown",
   "metadata": {},
   "source": [
    "When doing an operation between DataFrame and Series, the default behavior is to align the Series index on the DataFrame columns. For example:"
   ]
  },
  {
   "cell_type": "code",
   "execution_count": 41,
   "metadata": {},
   "outputs": [
    {
     "data": {
      "text/html": [
       "<div>\n",
       "<style scoped>\n",
       "    .dataframe tbody tr th:only-of-type {\n",
       "        vertical-align: middle;\n",
       "    }\n",
       "\n",
       "    .dataframe tbody tr th {\n",
       "        vertical-align: top;\n",
       "    }\n",
       "\n",
       "    .dataframe thead th {\n",
       "        text-align: right;\n",
       "    }\n",
       "</style>\n",
       "<table border=\"1\" class=\"dataframe\">\n",
       "  <thead>\n",
       "    <tr style=\"text-align: right;\">\n",
       "      <th></th>\n",
       "      <th>A</th>\n",
       "      <th>B</th>\n",
       "      <th>C</th>\n",
       "      <th>D</th>\n",
       "    </tr>\n",
       "  </thead>\n",
       "  <tbody>\n",
       "    <tr>\n",
       "      <th>0</th>\n",
       "      <td>0.000000</td>\n",
       "      <td>0.000000</td>\n",
       "      <td>0.000000</td>\n",
       "      <td>0.000000</td>\n",
       "    </tr>\n",
       "    <tr>\n",
       "      <th>1</th>\n",
       "      <td>-0.607474</td>\n",
       "      <td>-1.695220</td>\n",
       "      <td>-2.368702</td>\n",
       "      <td>2.238531</td>\n",
       "    </tr>\n",
       "    <tr>\n",
       "      <th>2</th>\n",
       "      <td>-1.073322</td>\n",
       "      <td>-1.125625</td>\n",
       "      <td>-2.116291</td>\n",
       "      <td>0.614729</td>\n",
       "    </tr>\n",
       "    <tr>\n",
       "      <th>3</th>\n",
       "      <td>-0.708949</td>\n",
       "      <td>-1.870044</td>\n",
       "      <td>-1.421072</td>\n",
       "      <td>-0.578982</td>\n",
       "    </tr>\n",
       "    <tr>\n",
       "      <th>4</th>\n",
       "      <td>-1.323000</td>\n",
       "      <td>-3.082996</td>\n",
       "      <td>-4.304484</td>\n",
       "      <td>0.764278</td>\n",
       "    </tr>\n",
       "    <tr>\n",
       "      <th>5</th>\n",
       "      <td>-0.339181</td>\n",
       "      <td>-0.209667</td>\n",
       "      <td>-2.523478</td>\n",
       "      <td>-0.031448</td>\n",
       "    </tr>\n",
       "    <tr>\n",
       "      <th>6</th>\n",
       "      <td>-0.928580</td>\n",
       "      <td>0.950656</td>\n",
       "      <td>-2.381581</td>\n",
       "      <td>0.434533</td>\n",
       "    </tr>\n",
       "    <tr>\n",
       "      <th>7</th>\n",
       "      <td>1.138178</td>\n",
       "      <td>-0.624927</td>\n",
       "      <td>-1.682643</td>\n",
       "      <td>1.333098</td>\n",
       "    </tr>\n",
       "    <tr>\n",
       "      <th>8</th>\n",
       "      <td>-1.494338</td>\n",
       "      <td>-2.152229</td>\n",
       "      <td>-2.159981</td>\n",
       "      <td>2.649665</td>\n",
       "    </tr>\n",
       "    <tr>\n",
       "      <th>9</th>\n",
       "      <td>-1.667208</td>\n",
       "      <td>-0.674113</td>\n",
       "      <td>-2.711894</td>\n",
       "      <td>0.546111</td>\n",
       "    </tr>\n",
       "  </tbody>\n",
       "</table>\n",
       "</div>"
      ],
      "text/plain": [
       "          A         B         C         D\n",
       "0  0.000000  0.000000  0.000000  0.000000\n",
       "1 -0.607474 -1.695220 -2.368702  2.238531\n",
       "2 -1.073322 -1.125625 -2.116291  0.614729\n",
       "3 -0.708949 -1.870044 -1.421072 -0.578982\n",
       "4 -1.323000 -3.082996 -4.304484  0.764278\n",
       "5 -0.339181 -0.209667 -2.523478 -0.031448\n",
       "6 -0.928580  0.950656 -2.381581  0.434533\n",
       "7  1.138178 -0.624927 -1.682643  1.333098\n",
       "8 -1.494338 -2.152229 -2.159981  2.649665\n",
       "9 -1.667208 -0.674113 -2.711894  0.546111"
      ]
     },
     "execution_count": 41,
     "metadata": {},
     "output_type": "execute_result"
    }
   ],
   "source": [
    "df - df.iloc[0]"
   ]
  },
  {
   "cell_type": "code",
   "execution_count": 56,
   "metadata": {},
   "outputs": [
    {
     "data": {
      "text/html": [
       "<div>\n",
       "<style scoped>\n",
       "    .dataframe tbody tr th:only-of-type {\n",
       "        vertical-align: middle;\n",
       "    }\n",
       "\n",
       "    .dataframe tbody tr th {\n",
       "        vertical-align: top;\n",
       "    }\n",
       "\n",
       "    .dataframe thead th {\n",
       "        text-align: right;\n",
       "    }\n",
       "</style>\n",
       "<table border=\"1\" class=\"dataframe\">\n",
       "  <thead>\n",
       "    <tr style=\"text-align: right;\">\n",
       "      <th></th>\n",
       "      <th>num1</th>\n",
       "      <th>num2</th>\n",
       "      <th>num3</th>\n",
       "      <th>num4</th>\n",
       "    </tr>\n",
       "  </thead>\n",
       "  <tbody>\n",
       "    <tr>\n",
       "      <th>0</th>\n",
       "      <td>1.057898</td>\n",
       "      <td>0.547358</td>\n",
       "      <td>0.385572</td>\n",
       "      <td>-0.779718</td>\n",
       "    </tr>\n",
       "    <tr>\n",
       "      <th>1</th>\n",
       "      <td>0.000000</td>\n",
       "      <td>0.000000</td>\n",
       "      <td>0.000000</td>\n",
       "      <td>0.000000</td>\n",
       "    </tr>\n",
       "    <tr>\n",
       "      <th>2</th>\n",
       "      <td>-1.857631</td>\n",
       "      <td>2.130805</td>\n",
       "      <td>-0.261433</td>\n",
       "      <td>-0.257600</td>\n",
       "    </tr>\n",
       "    <tr>\n",
       "      <th>3</th>\n",
       "      <td>0.450722</td>\n",
       "      <td>1.068357</td>\n",
       "      <td>0.505259</td>\n",
       "      <td>0.156771</td>\n",
       "    </tr>\n",
       "    <tr>\n",
       "      <th>4</th>\n",
       "      <td>0.643234</td>\n",
       "      <td>2.415662</td>\n",
       "      <td>2.097623</td>\n",
       "      <td>0.889274</td>\n",
       "    </tr>\n",
       "    <tr>\n",
       "      <th>5</th>\n",
       "      <td>-0.909265</td>\n",
       "      <td>0.586414</td>\n",
       "      <td>2.345310</td>\n",
       "      <td>1.731511</td>\n",
       "    </tr>\n",
       "    <tr>\n",
       "      <th>6</th>\n",
       "      <td>0.958037</td>\n",
       "      <td>-0.372738</td>\n",
       "      <td>2.442494</td>\n",
       "      <td>1.144727</td>\n",
       "    </tr>\n",
       "    <tr>\n",
       "      <th>7</th>\n",
       "      <td>-0.063867</td>\n",
       "      <td>-0.748344</td>\n",
       "      <td>1.204922</td>\n",
       "      <td>1.291336</td>\n",
       "    </tr>\n",
       "    <tr>\n",
       "      <th>8</th>\n",
       "      <td>-1.434058</td>\n",
       "      <td>2.589890</td>\n",
       "      <td>0.667039</td>\n",
       "      <td>1.176523</td>\n",
       "    </tr>\n",
       "    <tr>\n",
       "      <th>9</th>\n",
       "      <td>0.203647</td>\n",
       "      <td>1.934935</td>\n",
       "      <td>1.210831</td>\n",
       "      <td>-0.169616</td>\n",
       "    </tr>\n",
       "  </tbody>\n",
       "</table>\n",
       "</div>"
      ],
      "text/plain": [
       "       num1      num2      num3      num4\n",
       "0  1.057898  0.547358  0.385572 -0.779718\n",
       "1  0.000000  0.000000  0.000000  0.000000\n",
       "2 -1.857631  2.130805 -0.261433 -0.257600\n",
       "3  0.450722  1.068357  0.505259  0.156771\n",
       "4  0.643234  2.415662  2.097623  0.889274\n",
       "5 -0.909265  0.586414  2.345310  1.731511\n",
       "6  0.958037 -0.372738  2.442494  1.144727\n",
       "7 -0.063867 -0.748344  1.204922  1.291336\n",
       "8 -1.434058  2.589890  0.667039  1.176523\n",
       "9  0.203647  1.934935  1.210831 -0.169616"
      ]
     },
     "execution_count": 56,
     "metadata": {},
     "output_type": "execute_result"
    }
   ],
   "source": [
    "#showing the location 1\n",
    "df - df.iloc[1]"
   ]
  },
  {
   "cell_type": "code",
   "execution_count": 42,
   "metadata": {},
   "outputs": [
    {
     "data": {
      "text/html": [
       "<div>\n",
       "<style scoped>\n",
       "    .dataframe tbody tr th:only-of-type {\n",
       "        vertical-align: middle;\n",
       "    }\n",
       "\n",
       "    .dataframe tbody tr th {\n",
       "        vertical-align: top;\n",
       "    }\n",
       "\n",
       "    .dataframe thead th {\n",
       "        text-align: right;\n",
       "    }\n",
       "</style>\n",
       "<table border=\"1\" class=\"dataframe\">\n",
       "  <thead>\n",
       "    <tr style=\"text-align: right;\">\n",
       "      <th></th>\n",
       "      <th>A</th>\n",
       "      <th>B</th>\n",
       "      <th>C</th>\n",
       "      <th>D</th>\n",
       "    </tr>\n",
       "  </thead>\n",
       "  <tbody>\n",
       "    <tr>\n",
       "      <th>0</th>\n",
       "      <td>3.546539</td>\n",
       "      <td>6.863075</td>\n",
       "      <td>14.698052</td>\n",
       "      <td>-0.511036</td>\n",
       "    </tr>\n",
       "    <tr>\n",
       "      <th>1</th>\n",
       "      <td>0.509168</td>\n",
       "      <td>-1.613026</td>\n",
       "      <td>2.854540</td>\n",
       "      <td>10.681618</td>\n",
       "    </tr>\n",
       "    <tr>\n",
       "      <th>2</th>\n",
       "      <td>-1.820072</td>\n",
       "      <td>1.234952</td>\n",
       "      <td>4.116599</td>\n",
       "      <td>2.562609</td>\n",
       "    </tr>\n",
       "    <tr>\n",
       "      <th>3</th>\n",
       "      <td>0.001792</td>\n",
       "      <td>-2.487147</td>\n",
       "      <td>7.592691</td>\n",
       "      <td>-3.405947</td>\n",
       "    </tr>\n",
       "    <tr>\n",
       "      <th>4</th>\n",
       "      <td>-3.068462</td>\n",
       "      <td>-8.551906</td>\n",
       "      <td>-6.824367</td>\n",
       "      <td>3.310355</td>\n",
       "    </tr>\n",
       "    <tr>\n",
       "      <th>5</th>\n",
       "      <td>1.850634</td>\n",
       "      <td>5.814739</td>\n",
       "      <td>2.080659</td>\n",
       "      <td>-0.668275</td>\n",
       "    </tr>\n",
       "    <tr>\n",
       "      <th>6</th>\n",
       "      <td>-1.096361</td>\n",
       "      <td>11.616356</td>\n",
       "      <td>2.790148</td>\n",
       "      <td>1.661630</td>\n",
       "    </tr>\n",
       "    <tr>\n",
       "      <th>7</th>\n",
       "      <td>9.237428</td>\n",
       "      <td>3.738441</td>\n",
       "      <td>6.284837</td>\n",
       "      <td>6.154454</td>\n",
       "    </tr>\n",
       "    <tr>\n",
       "      <th>8</th>\n",
       "      <td>-3.925149</td>\n",
       "      <td>-3.898069</td>\n",
       "      <td>3.898148</td>\n",
       "      <td>12.737287</td>\n",
       "    </tr>\n",
       "    <tr>\n",
       "      <th>9</th>\n",
       "      <td>-4.789499</td>\n",
       "      <td>3.492511</td>\n",
       "      <td>1.138582</td>\n",
       "      <td>2.219519</td>\n",
       "    </tr>\n",
       "  </tbody>\n",
       "</table>\n",
       "</div>"
      ],
      "text/plain": [
       "          A          B          C          D\n",
       "0  3.546539   6.863075  14.698052  -0.511036\n",
       "1  0.509168  -1.613026   2.854540  10.681618\n",
       "2 -1.820072   1.234952   4.116599   2.562609\n",
       "3  0.001792  -2.487147   7.592691  -3.405947\n",
       "4 -3.068462  -8.551906  -6.824367   3.310355\n",
       "5  1.850634   5.814739   2.080659  -0.668275\n",
       "6 -1.096361  11.616356   2.790148   1.661630\n",
       "7  9.237428   3.738441   6.284837   6.154454\n",
       "8 -3.925149  -3.898069   3.898148  12.737287\n",
       "9 -4.789499   3.492511   1.138582   2.219519"
      ]
     },
     "execution_count": 42,
     "metadata": {},
     "output_type": "execute_result"
    }
   ],
   "source": [
    "df * 5 + 2\n",
    "# multiply dataframe"
   ]
  },
  {
   "cell_type": "code",
   "execution_count": 58,
   "metadata": {},
   "outputs": [
    {
     "data": {
      "text/html": [
       "<div>\n",
       "<style scoped>\n",
       "    .dataframe tbody tr th:only-of-type {\n",
       "        vertical-align: middle;\n",
       "    }\n",
       "\n",
       "    .dataframe tbody tr th {\n",
       "        vertical-align: top;\n",
       "    }\n",
       "\n",
       "    .dataframe thead th {\n",
       "        text-align: right;\n",
       "    }\n",
       "</style>\n",
       "<table border=\"1\" class=\"dataframe\">\n",
       "  <thead>\n",
       "    <tr style=\"text-align: right;\">\n",
       "      <th></th>\n",
       "      <th>num1</th>\n",
       "      <th>num2</th>\n",
       "      <th>num3</th>\n",
       "      <th>num4</th>\n",
       "    </tr>\n",
       "  </thead>\n",
       "  <tbody>\n",
       "    <tr>\n",
       "      <th>0</th>\n",
       "      <td>5.471949</td>\n",
       "      <td>-8.927118</td>\n",
       "      <td>-7.618286</td>\n",
       "      <td>-20.867167</td>\n",
       "    </tr>\n",
       "    <tr>\n",
       "      <th>1</th>\n",
       "      <td>-5.107032</td>\n",
       "      <td>-14.400696</td>\n",
       "      <td>-11.474003</td>\n",
       "      <td>-13.069989</td>\n",
       "    </tr>\n",
       "    <tr>\n",
       "      <th>2</th>\n",
       "      <td>-23.683337</td>\n",
       "      <td>6.907352</td>\n",
       "      <td>-14.088333</td>\n",
       "      <td>-15.645985</td>\n",
       "    </tr>\n",
       "    <tr>\n",
       "      <th>3</th>\n",
       "      <td>-0.599807</td>\n",
       "      <td>-3.717124</td>\n",
       "      <td>-6.421413</td>\n",
       "      <td>-11.502280</td>\n",
       "    </tr>\n",
       "    <tr>\n",
       "      <th>4</th>\n",
       "      <td>1.325304</td>\n",
       "      <td>9.755919</td>\n",
       "      <td>9.502228</td>\n",
       "      <td>-4.177253</td>\n",
       "    </tr>\n",
       "    <tr>\n",
       "      <th>5</th>\n",
       "      <td>-14.199681</td>\n",
       "      <td>-8.536555</td>\n",
       "      <td>11.979099</td>\n",
       "      <td>4.245124</td>\n",
       "    </tr>\n",
       "    <tr>\n",
       "      <th>6</th>\n",
       "      <td>4.473336</td>\n",
       "      <td>-18.128076</td>\n",
       "      <td>12.950934</td>\n",
       "      <td>-1.622717</td>\n",
       "    </tr>\n",
       "    <tr>\n",
       "      <th>7</th>\n",
       "      <td>-5.745705</td>\n",
       "      <td>-21.884140</td>\n",
       "      <td>0.575215</td>\n",
       "      <td>-0.156629</td>\n",
       "    </tr>\n",
       "    <tr>\n",
       "      <th>8</th>\n",
       "      <td>-19.447611</td>\n",
       "      <td>11.498201</td>\n",
       "      <td>-4.803612</td>\n",
       "      <td>-1.304755</td>\n",
       "    </tr>\n",
       "    <tr>\n",
       "      <th>9</th>\n",
       "      <td>-3.070559</td>\n",
       "      <td>4.948656</td>\n",
       "      <td>0.634308</td>\n",
       "      <td>-14.766151</td>\n",
       "    </tr>\n",
       "  </tbody>\n",
       "</table>\n",
       "</div>"
      ],
      "text/plain": [
       "        num1       num2       num3       num4\n",
       "0   5.471949  -8.927118  -7.618286 -20.867167\n",
       "1  -5.107032 -14.400696 -11.474003 -13.069989\n",
       "2 -23.683337   6.907352 -14.088333 -15.645985\n",
       "3  -0.599807  -3.717124  -6.421413 -11.502280\n",
       "4   1.325304   9.755919   9.502228  -4.177253\n",
       "5 -14.199681  -8.536555  11.979099   4.245124\n",
       "6   4.473336 -18.128076  12.950934  -1.622717\n",
       "7  -5.745705 -21.884140   0.575215  -0.156629\n",
       "8 -19.447611  11.498201  -4.803612  -1.304755\n",
       "9  -3.070559   4.948656   0.634308 -14.766151"
      ]
     },
     "execution_count": 58,
     "metadata": {},
     "output_type": "execute_result"
    }
   ],
   "source": [
    "df * 10 - 2\n",
    "# multiply and subtract dataframe "
   ]
  },
  {
   "cell_type": "code",
   "execution_count": 43,
   "metadata": {},
   "outputs": [
    {
     "data": {
      "text/html": [
       "<div>\n",
       "<style scoped>\n",
       "    .dataframe tbody tr th:only-of-type {\n",
       "        vertical-align: middle;\n",
       "    }\n",
       "\n",
       "    .dataframe tbody tr th {\n",
       "        vertical-align: top;\n",
       "    }\n",
       "\n",
       "    .dataframe thead th {\n",
       "        text-align: right;\n",
       "    }\n",
       "</style>\n",
       "<table border=\"1\" class=\"dataframe\">\n",
       "  <thead>\n",
       "    <tr style=\"text-align: right;\">\n",
       "      <th></th>\n",
       "      <th>A</th>\n",
       "      <th>B</th>\n",
       "      <th>C</th>\n",
       "      <th>D</th>\n",
       "    </tr>\n",
       "  </thead>\n",
       "  <tbody>\n",
       "    <tr>\n",
       "      <th>0</th>\n",
       "      <td>3.233026</td>\n",
       "      <td>1.028156</td>\n",
       "      <td>0.393761</td>\n",
       "      <td>-1.991210</td>\n",
       "    </tr>\n",
       "    <tr>\n",
       "      <th>1</th>\n",
       "      <td>-3.353831</td>\n",
       "      <td>-1.383881</td>\n",
       "      <td>5.851104</td>\n",
       "      <td>0.575930</td>\n",
       "    </tr>\n",
       "    <tr>\n",
       "      <th>2</th>\n",
       "      <td>-1.308876</td>\n",
       "      <td>-6.535537</td>\n",
       "      <td>2.362281</td>\n",
       "      <td>8.887162</td>\n",
       "    </tr>\n",
       "    <tr>\n",
       "      <th>3</th>\n",
       "      <td>-2.502242</td>\n",
       "      <td>-1.114294</td>\n",
       "      <td>0.894024</td>\n",
       "      <td>-0.924907</td>\n",
       "    </tr>\n",
       "    <tr>\n",
       "      <th>4</th>\n",
       "      <td>-0.986493</td>\n",
       "      <td>-0.473848</td>\n",
       "      <td>-0.566613</td>\n",
       "      <td>3.815760</td>\n",
       "    </tr>\n",
       "    <tr>\n",
       "      <th>5</th>\n",
       "      <td>-33.474785</td>\n",
       "      <td>1.310706</td>\n",
       "      <td>61.989205</td>\n",
       "      <td>-1.873870</td>\n",
       "    </tr>\n",
       "    <tr>\n",
       "      <th>6</th>\n",
       "      <td>-1.614799</td>\n",
       "      <td>0.519947</td>\n",
       "      <td>6.327927</td>\n",
       "      <td>-14.776708</td>\n",
       "    </tr>\n",
       "    <tr>\n",
       "      <th>7</th>\n",
       "      <td>0.690853</td>\n",
       "      <td>2.876141</td>\n",
       "      <td>1.166905</td>\n",
       "      <td>1.203527</td>\n",
       "    </tr>\n",
       "    <tr>\n",
       "      <th>8</th>\n",
       "      <td>-0.843861</td>\n",
       "      <td>-0.847735</td>\n",
       "      <td>2.634147</td>\n",
       "      <td>0.465667</td>\n",
       "    </tr>\n",
       "    <tr>\n",
       "      <th>9</th>\n",
       "      <td>-0.736431</td>\n",
       "      <td>3.350059</td>\n",
       "      <td>-5.804380</td>\n",
       "      <td>22.777114</td>\n",
       "    </tr>\n",
       "  </tbody>\n",
       "</table>\n",
       "</div>"
      ],
      "text/plain": [
       "           A         B          C          D\n",
       "0   3.233026  1.028156   0.393761  -1.991210\n",
       "1  -3.353831 -1.383881   5.851104   0.575930\n",
       "2  -1.308876 -6.535537   2.362281   8.887162\n",
       "3  -2.502242 -1.114294   0.894024  -0.924907\n",
       "4  -0.986493 -0.473848  -0.566613   3.815760\n",
       "5 -33.474785  1.310706  61.989205  -1.873870\n",
       "6  -1.614799  0.519947   6.327927 -14.776708\n",
       "7   0.690853  2.876141   1.166905   1.203527\n",
       "8  -0.843861 -0.847735   2.634147   0.465667\n",
       "9  -0.736431  3.350059  -5.804380  22.777114"
      ]
     },
     "execution_count": 43,
     "metadata": {},
     "output_type": "execute_result"
    }
   ],
   "source": [
    "1 / df\n",
    "# divide the data frame"
   ]
  },
  {
   "cell_type": "code",
   "execution_count": 59,
   "metadata": {},
   "outputs": [
    {
     "data": {
      "text/html": [
       "<div>\n",
       "<style scoped>\n",
       "    .dataframe tbody tr th:only-of-type {\n",
       "        vertical-align: middle;\n",
       "    }\n",
       "\n",
       "    .dataframe tbody tr th {\n",
       "        vertical-align: top;\n",
       "    }\n",
       "\n",
       "    .dataframe thead th {\n",
       "        text-align: right;\n",
       "    }\n",
       "</style>\n",
       "<table border=\"1\" class=\"dataframe\">\n",
       "  <thead>\n",
       "    <tr style=\"text-align: right;\">\n",
       "      <th></th>\n",
       "      <th>num1</th>\n",
       "      <th>num2</th>\n",
       "      <th>num3</th>\n",
       "      <th>num4</th>\n",
       "    </tr>\n",
       "  </thead>\n",
       "  <tbody>\n",
       "    <tr>\n",
       "      <th>0</th>\n",
       "      <td>4.015017</td>\n",
       "      <td>-4.330805</td>\n",
       "      <td>-5.339706</td>\n",
       "      <td>-1.590064</td>\n",
       "    </tr>\n",
       "    <tr>\n",
       "      <th>1</th>\n",
       "      <td>-9.655518</td>\n",
       "      <td>-2.419219</td>\n",
       "      <td>-3.166560</td>\n",
       "      <td>-2.710030</td>\n",
       "    </tr>\n",
       "    <tr>\n",
       "      <th>2</th>\n",
       "      <td>-1.383551</td>\n",
       "      <td>3.368004</td>\n",
       "      <td>-2.481732</td>\n",
       "      <td>-2.198449</td>\n",
       "    </tr>\n",
       "    <tr>\n",
       "      <th>3</th>\n",
       "      <td>21.425622</td>\n",
       "      <td>-17.471078</td>\n",
       "      <td>-6.785161</td>\n",
       "      <td>-3.157137</td>\n",
       "    </tr>\n",
       "    <tr>\n",
       "      <th>4</th>\n",
       "      <td>9.021730</td>\n",
       "      <td>2.551906</td>\n",
       "      <td>2.608190</td>\n",
       "      <td>-13.778833</td>\n",
       "    </tr>\n",
       "    <tr>\n",
       "      <th>5</th>\n",
       "      <td>-2.459081</td>\n",
       "      <td>-4.589574</td>\n",
       "      <td>2.146061</td>\n",
       "      <td>4.803748</td>\n",
       "    </tr>\n",
       "    <tr>\n",
       "      <th>6</th>\n",
       "      <td>4.634396</td>\n",
       "      <td>-1.860110</td>\n",
       "      <td>2.006564</td>\n",
       "      <td>79.515817</td>\n",
       "    </tr>\n",
       "    <tr>\n",
       "      <th>7</th>\n",
       "      <td>-8.009173</td>\n",
       "      <td>-1.508740</td>\n",
       "      <td>11.649513</td>\n",
       "      <td>16.274535</td>\n",
       "    </tr>\n",
       "    <tr>\n",
       "      <th>8</th>\n",
       "      <td>-1.719433</td>\n",
       "      <td>2.222518</td>\n",
       "      <td>-10.700480</td>\n",
       "      <td>43.150283</td>\n",
       "    </tr>\n",
       "    <tr>\n",
       "      <th>9</th>\n",
       "      <td>-28.022739</td>\n",
       "      <td>4.317382</td>\n",
       "      <td>11.388190</td>\n",
       "      <td>-2.349964</td>\n",
       "    </tr>\n",
       "  </tbody>\n",
       "</table>\n",
       "</div>"
      ],
      "text/plain": [
       "        num1       num2       num3       num4\n",
       "0   4.015017  -4.330805  -5.339706  -1.590064\n",
       "1  -9.655518  -2.419219  -3.166560  -2.710030\n",
       "2  -1.383551   3.368004  -2.481732  -2.198449\n",
       "3  21.425622 -17.471078  -6.785161  -3.157137\n",
       "4   9.021730   2.551906   2.608190 -13.778833\n",
       "5  -2.459081  -4.589574   2.146061   4.803748\n",
       "6   4.634396  -1.860110   2.006564  79.515817\n",
       "7  -8.009173  -1.508740  11.649513  16.274535\n",
       "8  -1.719433   2.222518 -10.700480  43.150283\n",
       "9 -28.022739   4.317382  11.388190  -2.349964"
      ]
     },
     "execution_count": 59,
     "metadata": {},
     "output_type": "execute_result"
    }
   ],
   "source": [
    "3 / df\n",
    "# divide the data frame"
   ]
  },
  {
   "cell_type": "code",
   "execution_count": 44,
   "metadata": {},
   "outputs": [
    {
     "data": {
      "text/html": [
       "<div>\n",
       "<style scoped>\n",
       "    .dataframe tbody tr th:only-of-type {\n",
       "        vertical-align: middle;\n",
       "    }\n",
       "\n",
       "    .dataframe tbody tr th {\n",
       "        vertical-align: top;\n",
       "    }\n",
       "\n",
       "    .dataframe thead th {\n",
       "        text-align: right;\n",
       "    }\n",
       "</style>\n",
       "<table border=\"1\" class=\"dataframe\">\n",
       "  <thead>\n",
       "    <tr style=\"text-align: right;\">\n",
       "      <th></th>\n",
       "      <th>A</th>\n",
       "      <th>B</th>\n",
       "      <th>C</th>\n",
       "      <th>D</th>\n",
       "    </tr>\n",
       "  </thead>\n",
       "  <tbody>\n",
       "    <tr>\n",
       "      <th>0</th>\n",
       "      <td>9.152998e-03</td>\n",
       "      <td>0.894878</td>\n",
       "      <td>4.159760e+01</td>\n",
       "      <td>0.063611</td>\n",
       "    </tr>\n",
       "    <tr>\n",
       "      <th>1</th>\n",
       "      <td>7.903785e-03</td>\n",
       "      <td>0.272649</td>\n",
       "      <td>8.531957e-04</td>\n",
       "      <td>9.089136</td>\n",
       "    </tr>\n",
       "    <tr>\n",
       "      <th>2</th>\n",
       "      <td>3.407267e-01</td>\n",
       "      <td>0.000548</td>\n",
       "      <td>3.211250e-02</td>\n",
       "      <td>0.000160</td>\n",
       "    </tr>\n",
       "    <tr>\n",
       "      <th>3</th>\n",
       "      <td>2.550838e-02</td>\n",
       "      <td>0.648636</td>\n",
       "      <td>1.565320e+00</td>\n",
       "      <td>1.366492</td>\n",
       "    </tr>\n",
       "    <tr>\n",
       "      <th>4</th>\n",
       "      <td>1.055905e+00</td>\n",
       "      <td>19.835524</td>\n",
       "      <td>9.701844e+00</td>\n",
       "      <td>0.004717</td>\n",
       "    </tr>\n",
       "    <tr>\n",
       "      <th>5</th>\n",
       "      <td>7.963955e-07</td>\n",
       "      <td>0.338828</td>\n",
       "      <td>6.772293e-08</td>\n",
       "      <td>0.081104</td>\n",
       "    </tr>\n",
       "    <tr>\n",
       "      <th>6</th>\n",
       "      <td>1.470707e-01</td>\n",
       "      <td>13.682396</td>\n",
       "      <td>6.236690e-04</td>\n",
       "      <td>0.000021</td>\n",
       "    </tr>\n",
       "    <tr>\n",
       "      <th>7</th>\n",
       "      <td>4.389925e+00</td>\n",
       "      <td>0.014614</td>\n",
       "      <td>5.393334e-01</td>\n",
       "      <td>0.476624</td>\n",
       "    </tr>\n",
       "    <tr>\n",
       "      <th>8</th>\n",
       "      <td>1.972046e+00</td>\n",
       "      <td>1.936240</td>\n",
       "      <td>2.077017e-02</td>\n",
       "      <td>21.266608</td>\n",
       "    </tr>\n",
       "    <tr>\n",
       "      <th>9</th>\n",
       "      <td>3.399937e+00</td>\n",
       "      <td>0.007939</td>\n",
       "      <td>8.810016e-04</td>\n",
       "      <td>0.000004</td>\n",
       "    </tr>\n",
       "  </tbody>\n",
       "</table>\n",
       "</div>"
      ],
      "text/plain": [
       "              A          B             C          D\n",
       "0  9.152998e-03   0.894878  4.159760e+01   0.063611\n",
       "1  7.903785e-03   0.272649  8.531957e-04   9.089136\n",
       "2  3.407267e-01   0.000548  3.211250e-02   0.000160\n",
       "3  2.550838e-02   0.648636  1.565320e+00   1.366492\n",
       "4  1.055905e+00  19.835524  9.701844e+00   0.004717\n",
       "5  7.963955e-07   0.338828  6.772293e-08   0.081104\n",
       "6  1.470707e-01  13.682396  6.236690e-04   0.000021\n",
       "7  4.389925e+00   0.014614  5.393334e-01   0.476624\n",
       "8  1.972046e+00   1.936240  2.077017e-02  21.266608\n",
       "9  3.399937e+00   0.007939  8.810016e-04   0.000004"
      ]
     },
     "execution_count": 44,
     "metadata": {},
     "output_type": "execute_result"
    }
   ],
   "source": [
    "df ** 5\n",
    "#** represent the power dataframe's value is changed by power 5"
   ]
  },
  {
   "cell_type": "code",
   "execution_count": 60,
   "metadata": {},
   "outputs": [
    {
     "data": {
      "text/html": [
       "<div>\n",
       "<style scoped>\n",
       "    .dataframe tbody tr th:only-of-type {\n",
       "        vertical-align: middle;\n",
       "    }\n",
       "\n",
       "    .dataframe tbody tr th {\n",
       "        vertical-align: top;\n",
       "    }\n",
       "\n",
       "    .dataframe thead th {\n",
       "        text-align: right;\n",
       "    }\n",
       "</style>\n",
       "<table border=\"1\" class=\"dataframe\">\n",
       "  <thead>\n",
       "    <tr style=\"text-align: right;\">\n",
       "      <th></th>\n",
       "      <th>num1</th>\n",
       "      <th>num2</th>\n",
       "      <th>num3</th>\n",
       "      <th>num4</th>\n",
       "    </tr>\n",
       "  </thead>\n",
       "  <tbody>\n",
       "    <tr>\n",
       "      <th>0</th>\n",
       "      <td>9.715631e-02</td>\n",
       "      <td>5.301770e-02</td>\n",
       "      <td>0.009927</td>\n",
       "      <td>1.605660e+02</td>\n",
       "    </tr>\n",
       "    <tr>\n",
       "      <th>1</th>\n",
       "      <td>8.684914e-05</td>\n",
       "      <td>5.592018e+00</td>\n",
       "      <td>0.649035</td>\n",
       "      <td>2.255160e+00</td>\n",
       "    </tr>\n",
       "    <tr>\n",
       "      <th>2</th>\n",
       "      <td>4.886625e+02</td>\n",
       "      <td>3.962680e-01</td>\n",
       "      <td>4.559650</td>\n",
       "      <td>1.202373e+01</td>\n",
       "    </tr>\n",
       "    <tr>\n",
       "      <th>3</th>\n",
       "      <td>1.477415e-07</td>\n",
       "      <td>7.558095e-07</td>\n",
       "      <td>0.001460</td>\n",
       "      <td>6.646955e-01</td>\n",
       "    </tr>\n",
       "    <tr>\n",
       "      <th>4</th>\n",
       "      <td>1.495035e-04</td>\n",
       "      <td>3.647983e+00</td>\n",
       "      <td>3.063767</td>\n",
       "      <td>5.049758e-06</td>\n",
       "    </tr>\n",
       "    <tr>\n",
       "      <th>5</th>\n",
       "      <td>4.906680e+00</td>\n",
       "      <td>3.332663e-02</td>\n",
       "      <td>14.582546</td>\n",
       "      <td>2.313815e-02</td>\n",
       "    </tr>\n",
       "    <tr>\n",
       "      <th>6</th>\n",
       "      <td>3.083366e-02</td>\n",
       "      <td>4.577840e+01</td>\n",
       "      <td>24.965862</td>\n",
       "      <td>4.105271e-12</td>\n",
       "    </tr>\n",
       "    <tr>\n",
       "      <th>7</th>\n",
       "      <td>3.874974e-04</td>\n",
       "      <td>2.443738e+02</td>\n",
       "      <td>0.000019</td>\n",
       "      <td>1.333219e-06</td>\n",
       "    </tr>\n",
       "    <tr>\n",
       "      <th>8</th>\n",
       "      <td>8.587916e+01</td>\n",
       "      <td>1.102065e+01</td>\n",
       "      <td>0.000038</td>\n",
       "      <td>5.458846e-10</td>\n",
       "    </tr>\n",
       "    <tr>\n",
       "      <th>9</th>\n",
       "      <td>1.725382e-08</td>\n",
       "      <td>5.435085e-02</td>\n",
       "      <td>0.000023</td>\n",
       "      <td>7.054722e+00</td>\n",
       "    </tr>\n",
       "  </tbody>\n",
       "</table>\n",
       "</div>"
      ],
      "text/plain": [
       "           num1          num2       num3          num4\n",
       "0  9.715631e-02  5.301770e-02   0.009927  1.605660e+02\n",
       "1  8.684914e-05  5.592018e+00   0.649035  2.255160e+00\n",
       "2  4.886625e+02  3.962680e-01   4.559650  1.202373e+01\n",
       "3  1.477415e-07  7.558095e-07   0.001460  6.646955e-01\n",
       "4  1.495035e-04  3.647983e+00   3.063767  5.049758e-06\n",
       "5  4.906680e+00  3.332663e-02  14.582546  2.313815e-02\n",
       "6  3.083366e-02  4.577840e+01  24.965862  4.105271e-12\n",
       "7  3.874974e-04  2.443738e+02   0.000019  1.333219e-06\n",
       "8  8.587916e+01  1.102065e+01   0.000038  5.458846e-10\n",
       "9  1.725382e-08  5.435085e-02   0.000023  7.054722e+00"
      ]
     },
     "execution_count": 60,
     "metadata": {},
     "output_type": "execute_result"
    }
   ],
   "source": [
    "df ** 8\n",
    "#** represent the power dataframe's value is changed by power 5"
   ]
  },
  {
   "cell_type": "code",
   "execution_count": 45,
   "metadata": {},
   "outputs": [
    {
     "data": {
      "text/html": [
       "<div>\n",
       "<style scoped>\n",
       "    .dataframe tbody tr th:only-of-type {\n",
       "        vertical-align: middle;\n",
       "    }\n",
       "\n",
       "    .dataframe tbody tr th {\n",
       "        vertical-align: top;\n",
       "    }\n",
       "\n",
       "    .dataframe thead th {\n",
       "        text-align: right;\n",
       "    }\n",
       "</style>\n",
       "<table border=\"1\" class=\"dataframe\">\n",
       "  <thead>\n",
       "    <tr style=\"text-align: right;\">\n",
       "      <th></th>\n",
       "      <th>a</th>\n",
       "      <th>b</th>\n",
       "    </tr>\n",
       "  </thead>\n",
       "  <tbody>\n",
       "    <tr>\n",
       "      <th>0</th>\n",
       "      <td>False</td>\n",
       "      <td>True</td>\n",
       "    </tr>\n",
       "    <tr>\n",
       "      <th>1</th>\n",
       "      <td>True</td>\n",
       "      <td>True</td>\n",
       "    </tr>\n",
       "    <tr>\n",
       "      <th>2</th>\n",
       "      <td>True</td>\n",
       "      <td>False</td>\n",
       "    </tr>\n",
       "  </tbody>\n",
       "</table>\n",
       "</div>"
      ],
      "text/plain": [
       "       a      b\n",
       "0  False   True\n",
       "1   True   True\n",
       "2   True  False"
      ]
     },
     "execution_count": 45,
     "metadata": {},
     "output_type": "execute_result"
    }
   ],
   "source": [
    "#Boolean operators work as well:\n",
    "df1 = pd.DataFrame({'a' : [1, 0, 1], 'b' : [0, 1, 1] }, dtype=bool)\n",
    "df2 = pd.DataFrame({'a' : [0, 1, 1], 'b' : [1, 1, 0] }, dtype=bool)\n",
    "pd.DataFrame({'a' : [0, 1, 1], 'b' : [1, 1, 0] }, dtype=bool)\n"
   ]
  },
  {
   "cell_type": "code",
   "execution_count": 46,
   "metadata": {},
   "outputs": [
    {
     "data": {
      "text/html": [
       "<div>\n",
       "<style scoped>\n",
       "    .dataframe tbody tr th:only-of-type {\n",
       "        vertical-align: middle;\n",
       "    }\n",
       "\n",
       "    .dataframe tbody tr th {\n",
       "        vertical-align: top;\n",
       "    }\n",
       "\n",
       "    .dataframe thead th {\n",
       "        text-align: right;\n",
       "    }\n",
       "</style>\n",
       "<table border=\"1\" class=\"dataframe\">\n",
       "  <thead>\n",
       "    <tr style=\"text-align: right;\">\n",
       "      <th></th>\n",
       "      <th>a</th>\n",
       "      <th>b</th>\n",
       "    </tr>\n",
       "  </thead>\n",
       "  <tbody>\n",
       "    <tr>\n",
       "      <th>0</th>\n",
       "      <td>False</td>\n",
       "      <td>False</td>\n",
       "    </tr>\n",
       "    <tr>\n",
       "      <th>1</th>\n",
       "      <td>False</td>\n",
       "      <td>True</td>\n",
       "    </tr>\n",
       "    <tr>\n",
       "      <th>2</th>\n",
       "      <td>True</td>\n",
       "      <td>False</td>\n",
       "    </tr>\n",
       "  </tbody>\n",
       "</table>\n",
       "</div>"
      ],
      "text/plain": [
       "       a      b\n",
       "0  False  False\n",
       "1  False   True\n",
       "2   True  False"
      ]
     },
     "execution_count": 46,
     "metadata": {},
     "output_type": "execute_result"
    }
   ],
   "source": [
    "df1 & df2 #and logical operator"
   ]
  },
  {
   "cell_type": "code",
   "execution_count": 48,
   "metadata": {},
   "outputs": [
    {
     "data": {
      "text/html": [
       "<div>\n",
       "<style scoped>\n",
       "    .dataframe tbody tr th:only-of-type {\n",
       "        vertical-align: middle;\n",
       "    }\n",
       "\n",
       "    .dataframe tbody tr th {\n",
       "        vertical-align: top;\n",
       "    }\n",
       "\n",
       "    .dataframe thead th {\n",
       "        text-align: right;\n",
       "    }\n",
       "</style>\n",
       "<table border=\"1\" class=\"dataframe\">\n",
       "  <thead>\n",
       "    <tr style=\"text-align: right;\">\n",
       "      <th></th>\n",
       "      <th>a</th>\n",
       "      <th>b</th>\n",
       "    </tr>\n",
       "  </thead>\n",
       "  <tbody>\n",
       "    <tr>\n",
       "      <th>0</th>\n",
       "      <td>True</td>\n",
       "      <td>True</td>\n",
       "    </tr>\n",
       "    <tr>\n",
       "      <th>1</th>\n",
       "      <td>True</td>\n",
       "      <td>True</td>\n",
       "    </tr>\n",
       "    <tr>\n",
       "      <th>2</th>\n",
       "      <td>True</td>\n",
       "      <td>True</td>\n",
       "    </tr>\n",
       "  </tbody>\n",
       "</table>\n",
       "</div>"
      ],
      "text/plain": [
       "      a     b\n",
       "0  True  True\n",
       "1  True  True\n",
       "2  True  True"
      ]
     },
     "execution_count": 48,
     "metadata": {},
     "output_type": "execute_result"
    }
   ],
   "source": [
    "df1 | df2 # or operator\n"
   ]
  },
  {
   "cell_type": "code",
   "execution_count": 50,
   "metadata": {},
   "outputs": [
    {
     "data": {
      "text/html": [
       "<div>\n",
       "<style scoped>\n",
       "    .dataframe tbody tr th:only-of-type {\n",
       "        vertical-align: middle;\n",
       "    }\n",
       "\n",
       "    .dataframe tbody tr th {\n",
       "        vertical-align: top;\n",
       "    }\n",
       "\n",
       "    .dataframe thead th {\n",
       "        text-align: right;\n",
       "    }\n",
       "</style>\n",
       "<table border=\"1\" class=\"dataframe\">\n",
       "  <thead>\n",
       "    <tr style=\"text-align: right;\">\n",
       "      <th></th>\n",
       "      <th>a</th>\n",
       "      <th>b</th>\n",
       "    </tr>\n",
       "  </thead>\n",
       "  <tbody>\n",
       "    <tr>\n",
       "      <th>0</th>\n",
       "      <td>False</td>\n",
       "      <td>True</td>\n",
       "    </tr>\n",
       "    <tr>\n",
       "      <th>1</th>\n",
       "      <td>True</td>\n",
       "      <td>False</td>\n",
       "    </tr>\n",
       "    <tr>\n",
       "      <th>2</th>\n",
       "      <td>False</td>\n",
       "      <td>False</td>\n",
       "    </tr>\n",
       "  </tbody>\n",
       "</table>\n",
       "</div>"
      ],
      "text/plain": [
       "       a      b\n",
       "0  False   True\n",
       "1   True  False\n",
       "2  False  False"
      ]
     },
     "execution_count": 50,
     "metadata": {},
     "output_type": "execute_result"
    }
   ],
   "source": [
    "#negation of datafram\n",
    "-df1"
   ]
  },
  {
   "cell_type": "code",
   "execution_count": 61,
   "metadata": {},
   "outputs": [
    {
     "data": {
      "text/html": [
       "<div>\n",
       "<style scoped>\n",
       "    .dataframe tbody tr th:only-of-type {\n",
       "        vertical-align: middle;\n",
       "    }\n",
       "\n",
       "    .dataframe tbody tr th {\n",
       "        vertical-align: top;\n",
       "    }\n",
       "\n",
       "    .dataframe thead th {\n",
       "        text-align: right;\n",
       "    }\n",
       "</style>\n",
       "<table border=\"1\" class=\"dataframe\">\n",
       "  <thead>\n",
       "    <tr style=\"text-align: right;\">\n",
       "      <th></th>\n",
       "      <th>0</th>\n",
       "      <th>1</th>\n",
       "      <th>2</th>\n",
       "      <th>3</th>\n",
       "      <th>4</th>\n",
       "    </tr>\n",
       "  </thead>\n",
       "  <tbody>\n",
       "    <tr>\n",
       "      <th>num1</th>\n",
       "      <td>0.747195</td>\n",
       "      <td>-0.310703</td>\n",
       "      <td>-2.168334</td>\n",
       "      <td>0.140019</td>\n",
       "      <td>0.332530</td>\n",
       "    </tr>\n",
       "    <tr>\n",
       "      <th>num2</th>\n",
       "      <td>-0.692712</td>\n",
       "      <td>-1.240070</td>\n",
       "      <td>0.890735</td>\n",
       "      <td>-0.171712</td>\n",
       "      <td>1.175592</td>\n",
       "    </tr>\n",
       "    <tr>\n",
       "      <th>num3</th>\n",
       "      <td>-0.561829</td>\n",
       "      <td>-0.947400</td>\n",
       "      <td>-1.208833</td>\n",
       "      <td>-0.442141</td>\n",
       "      <td>1.150223</td>\n",
       "    </tr>\n",
       "    <tr>\n",
       "      <th>num4</th>\n",
       "      <td>-1.886717</td>\n",
       "      <td>-1.106999</td>\n",
       "      <td>-1.364599</td>\n",
       "      <td>-0.950228</td>\n",
       "      <td>-0.217725</td>\n",
       "    </tr>\n",
       "  </tbody>\n",
       "</table>\n",
       "</div>"
      ],
      "text/plain": [
       "             0         1         2         3         4\n",
       "num1  0.747195 -0.310703 -2.168334  0.140019  0.332530\n",
       "num2 -0.692712 -1.240070  0.890735 -0.171712  1.175592\n",
       "num3 -0.561829 -0.947400 -1.208833 -0.442141  1.150223\n",
       "num4 -1.886717 -1.106999 -1.364599 -0.950228 -0.217725"
      ]
     },
     "execution_count": 61,
     "metadata": {},
     "output_type": "execute_result"
    }
   ],
   "source": [
    "#Transpose of the dataframe\n",
    "# only show the first 5 rows\n",
    "df[:5].T\n"
   ]
  },
  {
   "cell_type": "code",
   "execution_count": 65,
   "metadata": {},
   "outputs": [
    {
     "data": {
      "text/html": [
       "<div>\n",
       "<style scoped>\n",
       "    .dataframe tbody tr th:only-of-type {\n",
       "        vertical-align: middle;\n",
       "    }\n",
       "\n",
       "    .dataframe tbody tr th {\n",
       "        vertical-align: top;\n",
       "    }\n",
       "\n",
       "    .dataframe thead th {\n",
       "        text-align: right;\n",
       "    }\n",
       "</style>\n",
       "<table border=\"1\" class=\"dataframe\">\n",
       "  <thead>\n",
       "    <tr style=\"text-align: right;\">\n",
       "      <th></th>\n",
       "      <th>A</th>\n",
       "      <th>B</th>\n",
       "      <th>C</th>\n",
       "      <th>D</th>\n",
       "    </tr>\n",
       "  </thead>\n",
       "  <tbody>\n",
       "    <tr>\n",
       "      <th>2013-01-01</th>\n",
       "      <td>-0.037983</td>\n",
       "      <td>-0.790303</td>\n",
       "      <td>-0.710858</td>\n",
       "      <td>-0.149606</td>\n",
       "    </tr>\n",
       "    <tr>\n",
       "      <th>2013-01-02</th>\n",
       "      <td>-0.688420</td>\n",
       "      <td>-0.676032</td>\n",
       "      <td>-0.068667</td>\n",
       "      <td>-0.229856</td>\n",
       "    </tr>\n",
       "    <tr>\n",
       "      <th>2013-01-03</th>\n",
       "      <td>1.575371</td>\n",
       "      <td>-0.842984</td>\n",
       "      <td>0.348503</td>\n",
       "      <td>-0.128742</td>\n",
       "    </tr>\n",
       "    <tr>\n",
       "      <th>2013-01-04</th>\n",
       "      <td>-0.165705</td>\n",
       "      <td>-0.008803</td>\n",
       "      <td>1.578039</td>\n",
       "      <td>-0.556071</td>\n",
       "    </tr>\n",
       "    <tr>\n",
       "      <th>2013-01-05</th>\n",
       "      <td>-1.030030</td>\n",
       "      <td>1.173199</td>\n",
       "      <td>1.105312</td>\n",
       "      <td>-1.288501</td>\n",
       "    </tr>\n",
       "    <tr>\n",
       "      <th>2013-01-06</th>\n",
       "      <td>-1.088282</td>\n",
       "      <td>0.639250</td>\n",
       "      <td>0.228390</td>\n",
       "      <td>-1.103593</td>\n",
       "    </tr>\n",
       "  </tbody>\n",
       "</table>\n",
       "</div>"
      ],
      "text/plain": [
       "                   A         B         C         D\n",
       "2013-01-01 -0.037983 -0.790303 -0.710858 -0.149606\n",
       "2013-01-02 -0.688420 -0.676032 -0.068667 -0.229856\n",
       "2013-01-03  1.575371 -0.842984  0.348503 -0.128742\n",
       "2013-01-04 -0.165705 -0.008803  1.578039 -0.556071\n",
       "2013-01-05 -1.030030  1.173199  1.105312 -1.288501\n",
       "2013-01-06 -1.088282  0.639250  0.228390 -1.103593"
      ]
     },
     "execution_count": 65,
     "metadata": {},
     "output_type": "execute_result"
    }
   ],
   "source": [
    "dates = pd.date_range('20130101', periods=6)\n",
    "dates\n",
    "df = pd.DataFrame(np.random.randn(6,4), index=dates, columns=list('ABCD'))\n",
    "df"
   ]
  },
  {
   "cell_type": "markdown",
   "metadata": {},
   "source": [
    "Creating a DataFrame by passing a dict of objects that can be converted to series-like"
   ]
  },
  {
   "cell_type": "code",
   "execution_count": 68,
   "metadata": {},
   "outputs": [
    {
     "data": {
      "text/html": [
       "<div>\n",
       "<style scoped>\n",
       "    .dataframe tbody tr th:only-of-type {\n",
       "        vertical-align: middle;\n",
       "    }\n",
       "\n",
       "    .dataframe tbody tr th {\n",
       "        vertical-align: top;\n",
       "    }\n",
       "\n",
       "    .dataframe thead th {\n",
       "        text-align: right;\n",
       "    }\n",
       "</style>\n",
       "<table border=\"1\" class=\"dataframe\">\n",
       "  <thead>\n",
       "    <tr style=\"text-align: right;\">\n",
       "      <th></th>\n",
       "      <th>A</th>\n",
       "      <th>B</th>\n",
       "      <th>C</th>\n",
       "      <th>D</th>\n",
       "      <th>E</th>\n",
       "      <th>F</th>\n",
       "    </tr>\n",
       "  </thead>\n",
       "  <tbody>\n",
       "    <tr>\n",
       "      <th>0</th>\n",
       "      <td>1.0</td>\n",
       "      <td>2013-01-02</td>\n",
       "      <td>1.0</td>\n",
       "      <td>3</td>\n",
       "      <td>test</td>\n",
       "      <td>foo</td>\n",
       "    </tr>\n",
       "    <tr>\n",
       "      <th>1</th>\n",
       "      <td>1.0</td>\n",
       "      <td>2013-01-02</td>\n",
       "      <td>1.0</td>\n",
       "      <td>3</td>\n",
       "      <td>train</td>\n",
       "      <td>foo</td>\n",
       "    </tr>\n",
       "    <tr>\n",
       "      <th>2</th>\n",
       "      <td>1.0</td>\n",
       "      <td>2013-01-02</td>\n",
       "      <td>1.0</td>\n",
       "      <td>3</td>\n",
       "      <td>test</td>\n",
       "      <td>foo</td>\n",
       "    </tr>\n",
       "    <tr>\n",
       "      <th>3</th>\n",
       "      <td>1.0</td>\n",
       "      <td>2013-01-02</td>\n",
       "      <td>1.0</td>\n",
       "      <td>3</td>\n",
       "      <td>train</td>\n",
       "      <td>foo</td>\n",
       "    </tr>\n",
       "  </tbody>\n",
       "</table>\n",
       "</div>"
      ],
      "text/plain": [
       "     A          B    C  D      E    F\n",
       "0  1.0 2013-01-02  1.0  3   test  foo\n",
       "1  1.0 2013-01-02  1.0  3  train  foo\n",
       "2  1.0 2013-01-02  1.0  3   test  foo\n",
       "3  1.0 2013-01-02  1.0  3  train  foo"
      ]
     },
     "execution_count": 68,
     "metadata": {},
     "output_type": "execute_result"
    }
   ],
   "source": [
    "df2 = pd.DataFrame({ 'A' : 1.,\n",
    " 'B' : pd.Timestamp('20130102'),\n",
    " 'C' : pd.Series(1,index=list(range(4)),dtype='float32'),\n",
    " 'D' : np.array([3] * 4,dtype='int32'),\n",
    " 'E' : pd.Categorical([\"test\",\"train\",\"test\",\"train\"]),\n",
    " 'F' : 'foo' })\n",
    "df2"
   ]
  },
  {
   "cell_type": "code",
   "execution_count": 69,
   "metadata": {},
   "outputs": [
    {
     "data": {
      "text/plain": [
       "A           float64\n",
       "B    datetime64[ns]\n",
       "C           float32\n",
       "D             int32\n",
       "E          category\n",
       "F            object\n",
       "dtype: object"
      ]
     },
     "execution_count": 69,
     "metadata": {},
     "output_type": "execute_result"
    }
   ],
   "source": [
    "#Having specific dtypes\n",
    "df2.dtypes\n"
   ]
  },
  {
   "cell_type": "markdown",
   "metadata": {},
   "source": [
    "## 12. Viewing Data\n",
    "We can view data / display data in different ways:\n",
    "See the top & bottom rows of the frame\n",
    "Selecting a single column\n",
    "Selecting via [], which slices the rows\n",
    "For getting a cross section using a label\n",
    "Selecting on a multi-axis by labe\n",
    "Showing label slicing, both endpoints are included\n",
    "Reduction in the dimensions of the returned object\n",
    "For getting a scalar value\n",
    "For getting fast access to a scalar\n",
    "Select via the position of the passed integers\n",
    "By integer slices, acting similar to numpy/python\n",
    "By lists of integer position locations, similar to the numpy/python style\n",
    "For slicing rows explicitly\n",
    "For slicing columns explicitly\n",
    "For getting a value explicitly\n",
    "For getting fast access to a scalar\n",
    "Using a single column’s values to select data.\n",
    "Selecting values from a DataFrame where a boolean condition is met.\n",
    "Using the isin() method for filtering"
   ]
  },
  {
   "cell_type": "code",
   "execution_count": 70,
   "metadata": {},
   "outputs": [
    {
     "data": {
      "text/html": [
       "<div>\n",
       "<style scoped>\n",
       "    .dataframe tbody tr th:only-of-type {\n",
       "        vertical-align: middle;\n",
       "    }\n",
       "\n",
       "    .dataframe tbody tr th {\n",
       "        vertical-align: top;\n",
       "    }\n",
       "\n",
       "    .dataframe thead th {\n",
       "        text-align: right;\n",
       "    }\n",
       "</style>\n",
       "<table border=\"1\" class=\"dataframe\">\n",
       "  <thead>\n",
       "    <tr style=\"text-align: right;\">\n",
       "      <th></th>\n",
       "      <th>A</th>\n",
       "      <th>B</th>\n",
       "      <th>C</th>\n",
       "      <th>D</th>\n",
       "    </tr>\n",
       "  </thead>\n",
       "  <tbody>\n",
       "    <tr>\n",
       "      <th>2013-01-01</th>\n",
       "      <td>-0.037983</td>\n",
       "      <td>-0.790303</td>\n",
       "      <td>-0.710858</td>\n",
       "      <td>-0.149606</td>\n",
       "    </tr>\n",
       "    <tr>\n",
       "      <th>2013-01-02</th>\n",
       "      <td>-0.688420</td>\n",
       "      <td>-0.676032</td>\n",
       "      <td>-0.068667</td>\n",
       "      <td>-0.229856</td>\n",
       "    </tr>\n",
       "    <tr>\n",
       "      <th>2013-01-03</th>\n",
       "      <td>1.575371</td>\n",
       "      <td>-0.842984</td>\n",
       "      <td>0.348503</td>\n",
       "      <td>-0.128742</td>\n",
       "    </tr>\n",
       "    <tr>\n",
       "      <th>2013-01-04</th>\n",
       "      <td>-0.165705</td>\n",
       "      <td>-0.008803</td>\n",
       "      <td>1.578039</td>\n",
       "      <td>-0.556071</td>\n",
       "    </tr>\n",
       "    <tr>\n",
       "      <th>2013-01-05</th>\n",
       "      <td>-1.030030</td>\n",
       "      <td>1.173199</td>\n",
       "      <td>1.105312</td>\n",
       "      <td>-1.288501</td>\n",
       "    </tr>\n",
       "  </tbody>\n",
       "</table>\n",
       "</div>"
      ],
      "text/plain": [
       "                   A         B         C         D\n",
       "2013-01-01 -0.037983 -0.790303 -0.710858 -0.149606\n",
       "2013-01-02 -0.688420 -0.676032 -0.068667 -0.229856\n",
       "2013-01-03  1.575371 -0.842984  0.348503 -0.128742\n",
       "2013-01-04 -0.165705 -0.008803  1.578039 -0.556071\n",
       "2013-01-05 -1.030030  1.173199  1.105312 -1.288501"
      ]
     },
     "execution_count": 70,
     "metadata": {},
     "output_type": "execute_result"
    }
   ],
   "source": [
    "df.head() #display first 5 records"
   ]
  },
  {
   "cell_type": "code",
   "execution_count": 71,
   "metadata": {},
   "outputs": [
    {
     "data": {
      "text/html": [
       "<div>\n",
       "<style scoped>\n",
       "    .dataframe tbody tr th:only-of-type {\n",
       "        vertical-align: middle;\n",
       "    }\n",
       "\n",
       "    .dataframe tbody tr th {\n",
       "        vertical-align: top;\n",
       "    }\n",
       "\n",
       "    .dataframe thead th {\n",
       "        text-align: right;\n",
       "    }\n",
       "</style>\n",
       "<table border=\"1\" class=\"dataframe\">\n",
       "  <thead>\n",
       "    <tr style=\"text-align: right;\">\n",
       "      <th></th>\n",
       "      <th>A</th>\n",
       "      <th>B</th>\n",
       "      <th>C</th>\n",
       "      <th>D</th>\n",
       "    </tr>\n",
       "  </thead>\n",
       "  <tbody>\n",
       "    <tr>\n",
       "      <th>2013-01-04</th>\n",
       "      <td>-0.165705</td>\n",
       "      <td>-0.008803</td>\n",
       "      <td>1.578039</td>\n",
       "      <td>-0.556071</td>\n",
       "    </tr>\n",
       "    <tr>\n",
       "      <th>2013-01-05</th>\n",
       "      <td>-1.030030</td>\n",
       "      <td>1.173199</td>\n",
       "      <td>1.105312</td>\n",
       "      <td>-1.288501</td>\n",
       "    </tr>\n",
       "    <tr>\n",
       "      <th>2013-01-06</th>\n",
       "      <td>-1.088282</td>\n",
       "      <td>0.639250</td>\n",
       "      <td>0.228390</td>\n",
       "      <td>-1.103593</td>\n",
       "    </tr>\n",
       "  </tbody>\n",
       "</table>\n",
       "</div>"
      ],
      "text/plain": [
       "                   A         B         C         D\n",
       "2013-01-04 -0.165705 -0.008803  1.578039 -0.556071\n",
       "2013-01-05 -1.030030  1.173199  1.105312 -1.288501\n",
       "2013-01-06 -1.088282  0.639250  0.228390 -1.103593"
      ]
     },
     "execution_count": 71,
     "metadata": {},
     "output_type": "execute_result"
    }
   ],
   "source": [
    "df.tail(3) #display last 3 records"
   ]
  },
  {
   "cell_type": "code",
   "execution_count": 72,
   "metadata": {},
   "outputs": [
    {
     "data": {
      "text/plain": [
       "DatetimeIndex(['2013-01-01', '2013-01-02', '2013-01-03', '2013-01-04',\n",
       "               '2013-01-05', '2013-01-06'],\n",
       "              dtype='datetime64[ns]', freq='D')"
      ]
     },
     "execution_count": 72,
     "metadata": {},
     "output_type": "execute_result"
    }
   ],
   "source": [
    "df.index #display indexes"
   ]
  },
  {
   "cell_type": "code",
   "execution_count": 73,
   "metadata": {},
   "outputs": [
    {
     "data": {
      "text/plain": [
       "Index(['A', 'B', 'C', 'D'], dtype='object')"
      ]
     },
     "execution_count": 73,
     "metadata": {},
     "output_type": "execute_result"
    }
   ],
   "source": [
    "df.columns #display coloumns\n"
   ]
  },
  {
   "cell_type": "code",
   "execution_count": 74,
   "metadata": {},
   "outputs": [
    {
     "data": {
      "text/plain": [
       "array([[-0.03798307, -0.79030315, -0.71085815, -0.14960638],\n",
       "       [-0.68842018, -0.6760322 , -0.06866705, -0.22985643],\n",
       "       [ 1.57537125, -0.8429837 ,  0.34850321, -0.12874242],\n",
       "       [-0.16570506, -0.00880278,  1.57803859, -0.55607081],\n",
       "       [-1.03002969,  1.17319945,  1.10531186, -1.28850108],\n",
       "       [-1.08828155,  0.63924993,  0.22839016, -1.10359263]])"
      ]
     },
     "execution_count": 74,
     "metadata": {},
     "output_type": "execute_result"
    }
   ],
   "source": [
    "df.values # print values\n"
   ]
  },
  {
   "cell_type": "code",
   "execution_count": 75,
   "metadata": {},
   "outputs": [
    {
     "data": {
      "text/html": [
       "<div>\n",
       "<style scoped>\n",
       "    .dataframe tbody tr th:only-of-type {\n",
       "        vertical-align: middle;\n",
       "    }\n",
       "\n",
       "    .dataframe tbody tr th {\n",
       "        vertical-align: top;\n",
       "    }\n",
       "\n",
       "    .dataframe thead th {\n",
       "        text-align: right;\n",
       "    }\n",
       "</style>\n",
       "<table border=\"1\" class=\"dataframe\">\n",
       "  <thead>\n",
       "    <tr style=\"text-align: right;\">\n",
       "      <th></th>\n",
       "      <th>2013-01-01 00:00:00</th>\n",
       "      <th>2013-01-02 00:00:00</th>\n",
       "      <th>2013-01-03 00:00:00</th>\n",
       "      <th>2013-01-04 00:00:00</th>\n",
       "      <th>2013-01-05 00:00:00</th>\n",
       "      <th>2013-01-06 00:00:00</th>\n",
       "    </tr>\n",
       "  </thead>\n",
       "  <tbody>\n",
       "    <tr>\n",
       "      <th>A</th>\n",
       "      <td>-0.037983</td>\n",
       "      <td>-0.688420</td>\n",
       "      <td>1.575371</td>\n",
       "      <td>-0.165705</td>\n",
       "      <td>-1.030030</td>\n",
       "      <td>-1.088282</td>\n",
       "    </tr>\n",
       "    <tr>\n",
       "      <th>B</th>\n",
       "      <td>-0.790303</td>\n",
       "      <td>-0.676032</td>\n",
       "      <td>-0.842984</td>\n",
       "      <td>-0.008803</td>\n",
       "      <td>1.173199</td>\n",
       "      <td>0.639250</td>\n",
       "    </tr>\n",
       "    <tr>\n",
       "      <th>C</th>\n",
       "      <td>-0.710858</td>\n",
       "      <td>-0.068667</td>\n",
       "      <td>0.348503</td>\n",
       "      <td>1.578039</td>\n",
       "      <td>1.105312</td>\n",
       "      <td>0.228390</td>\n",
       "    </tr>\n",
       "    <tr>\n",
       "      <th>D</th>\n",
       "      <td>-0.149606</td>\n",
       "      <td>-0.229856</td>\n",
       "      <td>-0.128742</td>\n",
       "      <td>-0.556071</td>\n",
       "      <td>-1.288501</td>\n",
       "      <td>-1.103593</td>\n",
       "    </tr>\n",
       "  </tbody>\n",
       "</table>\n",
       "</div>"
      ],
      "text/plain": [
       "   2013-01-01  2013-01-02  2013-01-03  2013-01-04  2013-01-05  2013-01-06\n",
       "A   -0.037983   -0.688420    1.575371   -0.165705   -1.030030   -1.088282\n",
       "B   -0.790303   -0.676032   -0.842984   -0.008803    1.173199    0.639250\n",
       "C   -0.710858   -0.068667    0.348503    1.578039    1.105312    0.228390\n",
       "D   -0.149606   -0.229856   -0.128742   -0.556071   -1.288501   -1.103593"
      ]
     },
     "execution_count": 75,
     "metadata": {},
     "output_type": "execute_result"
    }
   ],
   "source": [
    "# Transposing your data\n",
    "df.T"
   ]
  },
  {
   "cell_type": "code",
   "execution_count": 77,
   "metadata": {},
   "outputs": [
    {
     "data": {
      "text/html": [
       "<div>\n",
       "<style scoped>\n",
       "    .dataframe tbody tr th:only-of-type {\n",
       "        vertical-align: middle;\n",
       "    }\n",
       "\n",
       "    .dataframe tbody tr th {\n",
       "        vertical-align: top;\n",
       "    }\n",
       "\n",
       "    .dataframe thead th {\n",
       "        text-align: right;\n",
       "    }\n",
       "</style>\n",
       "<table border=\"1\" class=\"dataframe\">\n",
       "  <thead>\n",
       "    <tr style=\"text-align: right;\">\n",
       "      <th></th>\n",
       "      <th>D</th>\n",
       "      <th>C</th>\n",
       "      <th>B</th>\n",
       "      <th>A</th>\n",
       "    </tr>\n",
       "  </thead>\n",
       "  <tbody>\n",
       "    <tr>\n",
       "      <th>2013-01-01</th>\n",
       "      <td>-0.149606</td>\n",
       "      <td>-0.710858</td>\n",
       "      <td>-0.790303</td>\n",
       "      <td>-0.037983</td>\n",
       "    </tr>\n",
       "    <tr>\n",
       "      <th>2013-01-02</th>\n",
       "      <td>-0.229856</td>\n",
       "      <td>-0.068667</td>\n",
       "      <td>-0.676032</td>\n",
       "      <td>-0.688420</td>\n",
       "    </tr>\n",
       "    <tr>\n",
       "      <th>2013-01-03</th>\n",
       "      <td>-0.128742</td>\n",
       "      <td>0.348503</td>\n",
       "      <td>-0.842984</td>\n",
       "      <td>1.575371</td>\n",
       "    </tr>\n",
       "    <tr>\n",
       "      <th>2013-01-04</th>\n",
       "      <td>-0.556071</td>\n",
       "      <td>1.578039</td>\n",
       "      <td>-0.008803</td>\n",
       "      <td>-0.165705</td>\n",
       "    </tr>\n",
       "    <tr>\n",
       "      <th>2013-01-05</th>\n",
       "      <td>-1.288501</td>\n",
       "      <td>1.105312</td>\n",
       "      <td>1.173199</td>\n",
       "      <td>-1.030030</td>\n",
       "    </tr>\n",
       "    <tr>\n",
       "      <th>2013-01-06</th>\n",
       "      <td>-1.103593</td>\n",
       "      <td>0.228390</td>\n",
       "      <td>0.639250</td>\n",
       "      <td>-1.088282</td>\n",
       "    </tr>\n",
       "  </tbody>\n",
       "</table>\n",
       "</div>"
      ],
      "text/plain": [
       "                   D         C         B         A\n",
       "2013-01-01 -0.149606 -0.710858 -0.790303 -0.037983\n",
       "2013-01-02 -0.229856 -0.068667 -0.676032 -0.688420\n",
       "2013-01-03 -0.128742  0.348503 -0.842984  1.575371\n",
       "2013-01-04 -0.556071  1.578039 -0.008803 -0.165705\n",
       "2013-01-05 -1.288501  1.105312  1.173199 -1.030030\n",
       "2013-01-06 -1.103593  0.228390  0.639250 -1.088282"
      ]
     },
     "execution_count": 77,
     "metadata": {},
     "output_type": "execute_result"
    }
   ],
   "source": [
    "#Sorting by an axis\n",
    "df.sort_index(axis=1, ascending=False)"
   ]
  },
  {
   "cell_type": "code",
   "execution_count": 78,
   "metadata": {},
   "outputs": [
    {
     "data": {
      "text/html": [
       "<div>\n",
       "<style scoped>\n",
       "    .dataframe tbody tr th:only-of-type {\n",
       "        vertical-align: middle;\n",
       "    }\n",
       "\n",
       "    .dataframe tbody tr th {\n",
       "        vertical-align: top;\n",
       "    }\n",
       "\n",
       "    .dataframe thead th {\n",
       "        text-align: right;\n",
       "    }\n",
       "</style>\n",
       "<table border=\"1\" class=\"dataframe\">\n",
       "  <thead>\n",
       "    <tr style=\"text-align: right;\">\n",
       "      <th></th>\n",
       "      <th>A</th>\n",
       "      <th>B</th>\n",
       "      <th>C</th>\n",
       "      <th>D</th>\n",
       "    </tr>\n",
       "  </thead>\n",
       "  <tbody>\n",
       "    <tr>\n",
       "      <th>2013-01-03</th>\n",
       "      <td>1.575371</td>\n",
       "      <td>-0.842984</td>\n",
       "      <td>0.348503</td>\n",
       "      <td>-0.128742</td>\n",
       "    </tr>\n",
       "    <tr>\n",
       "      <th>2013-01-01</th>\n",
       "      <td>-0.037983</td>\n",
       "      <td>-0.790303</td>\n",
       "      <td>-0.710858</td>\n",
       "      <td>-0.149606</td>\n",
       "    </tr>\n",
       "    <tr>\n",
       "      <th>2013-01-02</th>\n",
       "      <td>-0.688420</td>\n",
       "      <td>-0.676032</td>\n",
       "      <td>-0.068667</td>\n",
       "      <td>-0.229856</td>\n",
       "    </tr>\n",
       "    <tr>\n",
       "      <th>2013-01-04</th>\n",
       "      <td>-0.165705</td>\n",
       "      <td>-0.008803</td>\n",
       "      <td>1.578039</td>\n",
       "      <td>-0.556071</td>\n",
       "    </tr>\n",
       "    <tr>\n",
       "      <th>2013-01-06</th>\n",
       "      <td>-1.088282</td>\n",
       "      <td>0.639250</td>\n",
       "      <td>0.228390</td>\n",
       "      <td>-1.103593</td>\n",
       "    </tr>\n",
       "    <tr>\n",
       "      <th>2013-01-05</th>\n",
       "      <td>-1.030030</td>\n",
       "      <td>1.173199</td>\n",
       "      <td>1.105312</td>\n",
       "      <td>-1.288501</td>\n",
       "    </tr>\n",
       "  </tbody>\n",
       "</table>\n",
       "</div>"
      ],
      "text/plain": [
       "                   A         B         C         D\n",
       "2013-01-03  1.575371 -0.842984  0.348503 -0.128742\n",
       "2013-01-01 -0.037983 -0.790303 -0.710858 -0.149606\n",
       "2013-01-02 -0.688420 -0.676032 -0.068667 -0.229856\n",
       "2013-01-04 -0.165705 -0.008803  1.578039 -0.556071\n",
       "2013-01-06 -1.088282  0.639250  0.228390 -1.103593\n",
       "2013-01-05 -1.030030  1.173199  1.105312 -1.288501"
      ]
     },
     "execution_count": 78,
     "metadata": {},
     "output_type": "execute_result"
    }
   ],
   "source": [
    "#Sorting by values\n",
    "df.sort_values(by='B')"
   ]
  },
  {
   "cell_type": "code",
   "execution_count": 79,
   "metadata": {},
   "outputs": [
    {
     "data": {
      "text/html": [
       "<div>\n",
       "<style scoped>\n",
       "    .dataframe tbody tr th:only-of-type {\n",
       "        vertical-align: middle;\n",
       "    }\n",
       "\n",
       "    .dataframe tbody tr th {\n",
       "        vertical-align: top;\n",
       "    }\n",
       "\n",
       "    .dataframe thead th {\n",
       "        text-align: right;\n",
       "    }\n",
       "</style>\n",
       "<table border=\"1\" class=\"dataframe\">\n",
       "  <thead>\n",
       "    <tr style=\"text-align: right;\">\n",
       "      <th></th>\n",
       "      <th>A</th>\n",
       "      <th>B</th>\n",
       "      <th>C</th>\n",
       "      <th>D</th>\n",
       "    </tr>\n",
       "  </thead>\n",
       "  <tbody>\n",
       "    <tr>\n",
       "      <th>count</th>\n",
       "      <td>6.000000</td>\n",
       "      <td>6.000000</td>\n",
       "      <td>6.000000</td>\n",
       "      <td>6.000000</td>\n",
       "    </tr>\n",
       "    <tr>\n",
       "      <th>mean</th>\n",
       "      <td>-0.239175</td>\n",
       "      <td>-0.084279</td>\n",
       "      <td>0.413453</td>\n",
       "      <td>-0.576062</td>\n",
       "    </tr>\n",
       "    <tr>\n",
       "      <th>std</th>\n",
       "      <td>0.988606</td>\n",
       "      <td>0.840799</td>\n",
       "      <td>0.820964</td>\n",
       "      <td>0.507558</td>\n",
       "    </tr>\n",
       "    <tr>\n",
       "      <th>min</th>\n",
       "      <td>-1.088282</td>\n",
       "      <td>-0.842984</td>\n",
       "      <td>-0.710858</td>\n",
       "      <td>-1.288501</td>\n",
       "    </tr>\n",
       "    <tr>\n",
       "      <th>25%</th>\n",
       "      <td>-0.944627</td>\n",
       "      <td>-0.761735</td>\n",
       "      <td>0.005597</td>\n",
       "      <td>-0.966712</td>\n",
       "    </tr>\n",
       "    <tr>\n",
       "      <th>50%</th>\n",
       "      <td>-0.427063</td>\n",
       "      <td>-0.342417</td>\n",
       "      <td>0.288447</td>\n",
       "      <td>-0.392964</td>\n",
       "    </tr>\n",
       "    <tr>\n",
       "      <th>75%</th>\n",
       "      <td>-0.069914</td>\n",
       "      <td>0.477237</td>\n",
       "      <td>0.916110</td>\n",
       "      <td>-0.169669</td>\n",
       "    </tr>\n",
       "    <tr>\n",
       "      <th>max</th>\n",
       "      <td>1.575371</td>\n",
       "      <td>1.173199</td>\n",
       "      <td>1.578039</td>\n",
       "      <td>-0.128742</td>\n",
       "    </tr>\n",
       "  </tbody>\n",
       "</table>\n",
       "</div>"
      ],
      "text/plain": [
       "              A         B         C         D\n",
       "count  6.000000  6.000000  6.000000  6.000000\n",
       "mean  -0.239175 -0.084279  0.413453 -0.576062\n",
       "std    0.988606  0.840799  0.820964  0.507558\n",
       "min   -1.088282 -0.842984 -0.710858 -1.288501\n",
       "25%   -0.944627 -0.761735  0.005597 -0.966712\n",
       "50%   -0.427063 -0.342417  0.288447 -0.392964\n",
       "75%   -0.069914  0.477237  0.916110 -0.169669\n",
       "max    1.575371  1.173199  1.578039 -0.128742"
      ]
     },
     "execution_count": 79,
     "metadata": {},
     "output_type": "execute_result"
    }
   ],
   "source": [
    "# Describe shows a quick statistic summary of your data\n",
    "df.describe()"
   ]
  },
  {
   "cell_type": "code",
   "execution_count": 80,
   "metadata": {},
   "outputs": [
    {
     "data": {
      "text/plain": [
       "2013-01-01   -0.037983\n",
       "2013-01-02   -0.688420\n",
       "2013-01-03    1.575371\n",
       "2013-01-04   -0.165705\n",
       "2013-01-05   -1.030030\n",
       "2013-01-06   -1.088282\n",
       "Freq: D, Name: A, dtype: float64"
      ]
     },
     "execution_count": 80,
     "metadata": {},
     "output_type": "execute_result"
    }
   ],
   "source": [
    "#Selecting a single column, which yields a Series, equivalent to df.A\n",
    "df['A']"
   ]
  },
  {
   "cell_type": "code",
   "execution_count": 81,
   "metadata": {},
   "outputs": [
    {
     "data": {
      "text/plain": [
       "2013-01-01   -0.790303\n",
       "2013-01-02   -0.676032\n",
       "2013-01-03   -0.842984\n",
       "2013-01-04   -0.008803\n",
       "2013-01-05    1.173199\n",
       "2013-01-06    0.639250\n",
       "Freq: D, Name: B, dtype: float64"
      ]
     },
     "execution_count": 81,
     "metadata": {},
     "output_type": "execute_result"
    }
   ],
   "source": [
    "#Selecting a single column, which yields a Series, equivalent to df.B\n",
    "df['B']"
   ]
  },
  {
   "cell_type": "code",
   "execution_count": 82,
   "metadata": {},
   "outputs": [
    {
     "data": {
      "text/plain": [
       "2013-01-01   -0.710858\n",
       "2013-01-02   -0.068667\n",
       "2013-01-03    0.348503\n",
       "2013-01-04    1.578039\n",
       "2013-01-05    1.105312\n",
       "2013-01-06    0.228390\n",
       "Freq: D, Name: C, dtype: float64"
      ]
     },
     "execution_count": 82,
     "metadata": {},
     "output_type": "execute_result"
    }
   ],
   "source": [
    "#Selecting a single column, which yields a Series, equivalent to df.C\n",
    "df['C']"
   ]
  },
  {
   "cell_type": "code",
   "execution_count": 83,
   "metadata": {},
   "outputs": [
    {
     "data": {
      "text/html": [
       "<div>\n",
       "<style scoped>\n",
       "    .dataframe tbody tr th:only-of-type {\n",
       "        vertical-align: middle;\n",
       "    }\n",
       "\n",
       "    .dataframe tbody tr th {\n",
       "        vertical-align: top;\n",
       "    }\n",
       "\n",
       "    .dataframe thead th {\n",
       "        text-align: right;\n",
       "    }\n",
       "</style>\n",
       "<table border=\"1\" class=\"dataframe\">\n",
       "  <thead>\n",
       "    <tr style=\"text-align: right;\">\n",
       "      <th></th>\n",
       "      <th>A</th>\n",
       "      <th>B</th>\n",
       "      <th>C</th>\n",
       "      <th>D</th>\n",
       "    </tr>\n",
       "  </thead>\n",
       "  <tbody>\n",
       "    <tr>\n",
       "      <th>2013-01-01</th>\n",
       "      <td>-0.037983</td>\n",
       "      <td>-0.790303</td>\n",
       "      <td>-0.710858</td>\n",
       "      <td>-0.149606</td>\n",
       "    </tr>\n",
       "    <tr>\n",
       "      <th>2013-01-02</th>\n",
       "      <td>-0.688420</td>\n",
       "      <td>-0.676032</td>\n",
       "      <td>-0.068667</td>\n",
       "      <td>-0.229856</td>\n",
       "    </tr>\n",
       "    <tr>\n",
       "      <th>2013-01-03</th>\n",
       "      <td>1.575371</td>\n",
       "      <td>-0.842984</td>\n",
       "      <td>0.348503</td>\n",
       "      <td>-0.128742</td>\n",
       "    </tr>\n",
       "  </tbody>\n",
       "</table>\n",
       "</div>"
      ],
      "text/plain": [
       "                   A         B         C         D\n",
       "2013-01-01 -0.037983 -0.790303 -0.710858 -0.149606\n",
       "2013-01-02 -0.688420 -0.676032 -0.068667 -0.229856\n",
       "2013-01-03  1.575371 -0.842984  0.348503 -0.128742"
      ]
     },
     "execution_count": 83,
     "metadata": {},
     "output_type": "execute_result"
    }
   ],
   "source": [
    "#Selecting via [], which slices the rows.\n",
    "df[0:3]"
   ]
  },
  {
   "cell_type": "code",
   "execution_count": 84,
   "metadata": {},
   "outputs": [
    {
     "data": {
      "text/html": [
       "<div>\n",
       "<style scoped>\n",
       "    .dataframe tbody tr th:only-of-type {\n",
       "        vertical-align: middle;\n",
       "    }\n",
       "\n",
       "    .dataframe tbody tr th {\n",
       "        vertical-align: top;\n",
       "    }\n",
       "\n",
       "    .dataframe thead th {\n",
       "        text-align: right;\n",
       "    }\n",
       "</style>\n",
       "<table border=\"1\" class=\"dataframe\">\n",
       "  <thead>\n",
       "    <tr style=\"text-align: right;\">\n",
       "      <th></th>\n",
       "      <th>A</th>\n",
       "      <th>B</th>\n",
       "      <th>C</th>\n",
       "      <th>D</th>\n",
       "    </tr>\n",
       "  </thead>\n",
       "  <tbody>\n",
       "    <tr>\n",
       "      <th>2013-01-02</th>\n",
       "      <td>-0.688420</td>\n",
       "      <td>-0.676032</td>\n",
       "      <td>-0.068667</td>\n",
       "      <td>-0.229856</td>\n",
       "    </tr>\n",
       "    <tr>\n",
       "      <th>2013-01-03</th>\n",
       "      <td>1.575371</td>\n",
       "      <td>-0.842984</td>\n",
       "      <td>0.348503</td>\n",
       "      <td>-0.128742</td>\n",
       "    </tr>\n",
       "    <tr>\n",
       "      <th>2013-01-04</th>\n",
       "      <td>-0.165705</td>\n",
       "      <td>-0.008803</td>\n",
       "      <td>1.578039</td>\n",
       "      <td>-0.556071</td>\n",
       "    </tr>\n",
       "  </tbody>\n",
       "</table>\n",
       "</div>"
      ],
      "text/plain": [
       "                   A         B         C         D\n",
       "2013-01-02 -0.688420 -0.676032 -0.068667 -0.229856\n",
       "2013-01-03  1.575371 -0.842984  0.348503 -0.128742\n",
       "2013-01-04 -0.165705 -0.008803  1.578039 -0.556071"
      ]
     },
     "execution_count": 84,
     "metadata": {},
     "output_type": "execute_result"
    }
   ],
   "source": [
    "#Selecting via [], which slices the rows.\n",
    "df[1:4]\n"
   ]
  },
  {
   "cell_type": "code",
   "execution_count": 85,
   "metadata": {},
   "outputs": [
    {
     "data": {
      "text/html": [
       "<div>\n",
       "<style scoped>\n",
       "    .dataframe tbody tr th:only-of-type {\n",
       "        vertical-align: middle;\n",
       "    }\n",
       "\n",
       "    .dataframe tbody tr th {\n",
       "        vertical-align: top;\n",
       "    }\n",
       "\n",
       "    .dataframe thead th {\n",
       "        text-align: right;\n",
       "    }\n",
       "</style>\n",
       "<table border=\"1\" class=\"dataframe\">\n",
       "  <thead>\n",
       "    <tr style=\"text-align: right;\">\n",
       "      <th></th>\n",
       "      <th>A</th>\n",
       "      <th>B</th>\n",
       "      <th>C</th>\n",
       "      <th>D</th>\n",
       "    </tr>\n",
       "  </thead>\n",
       "  <tbody>\n",
       "    <tr>\n",
       "      <th>2013-01-03</th>\n",
       "      <td>1.575371</td>\n",
       "      <td>-0.842984</td>\n",
       "      <td>0.348503</td>\n",
       "      <td>-0.128742</td>\n",
       "    </tr>\n",
       "    <tr>\n",
       "      <th>2013-01-04</th>\n",
       "      <td>-0.165705</td>\n",
       "      <td>-0.008803</td>\n",
       "      <td>1.578039</td>\n",
       "      <td>-0.556071</td>\n",
       "    </tr>\n",
       "  </tbody>\n",
       "</table>\n",
       "</div>"
      ],
      "text/plain": [
       "                   A         B         C         D\n",
       "2013-01-03  1.575371 -0.842984  0.348503 -0.128742\n",
       "2013-01-04 -0.165705 -0.008803  1.578039 -0.556071"
      ]
     },
     "execution_count": 85,
     "metadata": {},
     "output_type": "execute_result"
    }
   ],
   "source": [
    "#Selecting via [], which slices the rows.\n",
    "df[2:4]\n"
   ]
  },
  {
   "cell_type": "code",
   "execution_count": 86,
   "metadata": {},
   "outputs": [
    {
     "data": {
      "text/html": [
       "<div>\n",
       "<style scoped>\n",
       "    .dataframe tbody tr th:only-of-type {\n",
       "        vertical-align: middle;\n",
       "    }\n",
       "\n",
       "    .dataframe tbody tr th {\n",
       "        vertical-align: top;\n",
       "    }\n",
       "\n",
       "    .dataframe thead th {\n",
       "        text-align: right;\n",
       "    }\n",
       "</style>\n",
       "<table border=\"1\" class=\"dataframe\">\n",
       "  <thead>\n",
       "    <tr style=\"text-align: right;\">\n",
       "      <th></th>\n",
       "      <th>A</th>\n",
       "      <th>B</th>\n",
       "      <th>C</th>\n",
       "      <th>D</th>\n",
       "    </tr>\n",
       "  </thead>\n",
       "  <tbody>\n",
       "    <tr>\n",
       "      <th>2013-01-02</th>\n",
       "      <td>-0.688420</td>\n",
       "      <td>-0.676032</td>\n",
       "      <td>-0.068667</td>\n",
       "      <td>-0.229856</td>\n",
       "    </tr>\n",
       "    <tr>\n",
       "      <th>2013-01-03</th>\n",
       "      <td>1.575371</td>\n",
       "      <td>-0.842984</td>\n",
       "      <td>0.348503</td>\n",
       "      <td>-0.128742</td>\n",
       "    </tr>\n",
       "    <tr>\n",
       "      <th>2013-01-04</th>\n",
       "      <td>-0.165705</td>\n",
       "      <td>-0.008803</td>\n",
       "      <td>1.578039</td>\n",
       "      <td>-0.556071</td>\n",
       "    </tr>\n",
       "  </tbody>\n",
       "</table>\n",
       "</div>"
      ],
      "text/plain": [
       "                   A         B         C         D\n",
       "2013-01-02 -0.688420 -0.676032 -0.068667 -0.229856\n",
       "2013-01-03  1.575371 -0.842984  0.348503 -0.128742\n",
       "2013-01-04 -0.165705 -0.008803  1.578039 -0.556071"
      ]
     },
     "execution_count": 86,
     "metadata": {},
     "output_type": "execute_result"
    }
   ],
   "source": [
    " df['20130102':'20130104']\n"
   ]
  },
  {
   "cell_type": "code",
   "execution_count": 88,
   "metadata": {},
   "outputs": [
    {
     "data": {
      "text/html": [
       "<div>\n",
       "<style scoped>\n",
       "    .dataframe tbody tr th:only-of-type {\n",
       "        vertical-align: middle;\n",
       "    }\n",
       "\n",
       "    .dataframe tbody tr th {\n",
       "        vertical-align: top;\n",
       "    }\n",
       "\n",
       "    .dataframe thead th {\n",
       "        text-align: right;\n",
       "    }\n",
       "</style>\n",
       "<table border=\"1\" class=\"dataframe\">\n",
       "  <thead>\n",
       "    <tr style=\"text-align: right;\">\n",
       "      <th></th>\n",
       "      <th>A</th>\n",
       "      <th>B</th>\n",
       "    </tr>\n",
       "  </thead>\n",
       "  <tbody>\n",
       "    <tr>\n",
       "      <th>2013-01-01</th>\n",
       "      <td>-0.037983</td>\n",
       "      <td>-0.790303</td>\n",
       "    </tr>\n",
       "    <tr>\n",
       "      <th>2013-01-02</th>\n",
       "      <td>-0.688420</td>\n",
       "      <td>-0.676032</td>\n",
       "    </tr>\n",
       "    <tr>\n",
       "      <th>2013-01-03</th>\n",
       "      <td>1.575371</td>\n",
       "      <td>-0.842984</td>\n",
       "    </tr>\n",
       "    <tr>\n",
       "      <th>2013-01-04</th>\n",
       "      <td>-0.165705</td>\n",
       "      <td>-0.008803</td>\n",
       "    </tr>\n",
       "    <tr>\n",
       "      <th>2013-01-05</th>\n",
       "      <td>-1.030030</td>\n",
       "      <td>1.173199</td>\n",
       "    </tr>\n",
       "    <tr>\n",
       "      <th>2013-01-06</th>\n",
       "      <td>-1.088282</td>\n",
       "      <td>0.639250</td>\n",
       "    </tr>\n",
       "  </tbody>\n",
       "</table>\n",
       "</div>"
      ],
      "text/plain": [
       "                   A         B\n",
       "2013-01-01 -0.037983 -0.790303\n",
       "2013-01-02 -0.688420 -0.676032\n",
       "2013-01-03  1.575371 -0.842984\n",
       "2013-01-04 -0.165705 -0.008803\n",
       "2013-01-05 -1.030030  1.173199\n",
       "2013-01-06 -1.088282  0.639250"
      ]
     },
     "execution_count": 88,
     "metadata": {},
     "output_type": "execute_result"
    }
   ],
   "source": [
    "#Selecting on a multi-axis by label\n",
    "df.loc[:,['A','B']]\n"
   ]
  },
  {
   "cell_type": "code",
   "execution_count": 89,
   "metadata": {},
   "outputs": [
    {
     "data": {
      "text/html": [
       "<div>\n",
       "<style scoped>\n",
       "    .dataframe tbody tr th:only-of-type {\n",
       "        vertical-align: middle;\n",
       "    }\n",
       "\n",
       "    .dataframe tbody tr th {\n",
       "        vertical-align: top;\n",
       "    }\n",
       "\n",
       "    .dataframe thead th {\n",
       "        text-align: right;\n",
       "    }\n",
       "</style>\n",
       "<table border=\"1\" class=\"dataframe\">\n",
       "  <thead>\n",
       "    <tr style=\"text-align: right;\">\n",
       "      <th></th>\n",
       "      <th>B</th>\n",
       "      <th>C</th>\n",
       "    </tr>\n",
       "  </thead>\n",
       "  <tbody>\n",
       "    <tr>\n",
       "      <th>2013-01-01</th>\n",
       "      <td>-0.790303</td>\n",
       "      <td>-0.710858</td>\n",
       "    </tr>\n",
       "    <tr>\n",
       "      <th>2013-01-02</th>\n",
       "      <td>-0.676032</td>\n",
       "      <td>-0.068667</td>\n",
       "    </tr>\n",
       "    <tr>\n",
       "      <th>2013-01-03</th>\n",
       "      <td>-0.842984</td>\n",
       "      <td>0.348503</td>\n",
       "    </tr>\n",
       "    <tr>\n",
       "      <th>2013-01-04</th>\n",
       "      <td>-0.008803</td>\n",
       "      <td>1.578039</td>\n",
       "    </tr>\n",
       "    <tr>\n",
       "      <th>2013-01-05</th>\n",
       "      <td>1.173199</td>\n",
       "      <td>1.105312</td>\n",
       "    </tr>\n",
       "    <tr>\n",
       "      <th>2013-01-06</th>\n",
       "      <td>0.639250</td>\n",
       "      <td>0.228390</td>\n",
       "    </tr>\n",
       "  </tbody>\n",
       "</table>\n",
       "</div>"
      ],
      "text/plain": [
       "                   B         C\n",
       "2013-01-01 -0.790303 -0.710858\n",
       "2013-01-02 -0.676032 -0.068667\n",
       "2013-01-03 -0.842984  0.348503\n",
       "2013-01-04 -0.008803  1.578039\n",
       "2013-01-05  1.173199  1.105312\n",
       "2013-01-06  0.639250  0.228390"
      ]
     },
     "execution_count": 89,
     "metadata": {},
     "output_type": "execute_result"
    }
   ],
   "source": [
    "#Selecting on a multi-axis by label\n",
    "df.loc[:,['B','C']]"
   ]
  },
  {
   "cell_type": "code",
   "execution_count": 91,
   "metadata": {},
   "outputs": [
    {
     "data": {
      "text/html": [
       "<div>\n",
       "<style scoped>\n",
       "    .dataframe tbody tr th:only-of-type {\n",
       "        vertical-align: middle;\n",
       "    }\n",
       "\n",
       "    .dataframe tbody tr th {\n",
       "        vertical-align: top;\n",
       "    }\n",
       "\n",
       "    .dataframe thead th {\n",
       "        text-align: right;\n",
       "    }\n",
       "</style>\n",
       "<table border=\"1\" class=\"dataframe\">\n",
       "  <thead>\n",
       "    <tr style=\"text-align: right;\">\n",
       "      <th></th>\n",
       "      <th>A</th>\n",
       "      <th>D</th>\n",
       "      <th>C</th>\n",
       "    </tr>\n",
       "  </thead>\n",
       "  <tbody>\n",
       "    <tr>\n",
       "      <th>2013-01-01</th>\n",
       "      <td>-0.037983</td>\n",
       "      <td>-0.149606</td>\n",
       "      <td>-0.710858</td>\n",
       "    </tr>\n",
       "    <tr>\n",
       "      <th>2013-01-02</th>\n",
       "      <td>-0.688420</td>\n",
       "      <td>-0.229856</td>\n",
       "      <td>-0.068667</td>\n",
       "    </tr>\n",
       "    <tr>\n",
       "      <th>2013-01-03</th>\n",
       "      <td>1.575371</td>\n",
       "      <td>-0.128742</td>\n",
       "      <td>0.348503</td>\n",
       "    </tr>\n",
       "    <tr>\n",
       "      <th>2013-01-04</th>\n",
       "      <td>-0.165705</td>\n",
       "      <td>-0.556071</td>\n",
       "      <td>1.578039</td>\n",
       "    </tr>\n",
       "    <tr>\n",
       "      <th>2013-01-05</th>\n",
       "      <td>-1.030030</td>\n",
       "      <td>-1.288501</td>\n",
       "      <td>1.105312</td>\n",
       "    </tr>\n",
       "    <tr>\n",
       "      <th>2013-01-06</th>\n",
       "      <td>-1.088282</td>\n",
       "      <td>-1.103593</td>\n",
       "      <td>0.228390</td>\n",
       "    </tr>\n",
       "  </tbody>\n",
       "</table>\n",
       "</div>"
      ],
      "text/plain": [
       "                   A         D         C\n",
       "2013-01-01 -0.037983 -0.149606 -0.710858\n",
       "2013-01-02 -0.688420 -0.229856 -0.068667\n",
       "2013-01-03  1.575371 -0.128742  0.348503\n",
       "2013-01-04 -0.165705 -0.556071  1.578039\n",
       "2013-01-05 -1.030030 -1.288501  1.105312\n",
       "2013-01-06 -1.088282 -1.103593  0.228390"
      ]
     },
     "execution_count": 91,
     "metadata": {},
     "output_type": "execute_result"
    }
   ],
   "source": [
    "#Selecting on a multi-axis by label\n",
    "df.loc[:,['A','D','C']]"
   ]
  },
  {
   "cell_type": "code",
   "execution_count": 92,
   "metadata": {},
   "outputs": [
    {
     "data": {
      "text/html": [
       "<div>\n",
       "<style scoped>\n",
       "    .dataframe tbody tr th:only-of-type {\n",
       "        vertical-align: middle;\n",
       "    }\n",
       "\n",
       "    .dataframe tbody tr th {\n",
       "        vertical-align: top;\n",
       "    }\n",
       "\n",
       "    .dataframe thead th {\n",
       "        text-align: right;\n",
       "    }\n",
       "</style>\n",
       "<table border=\"1\" class=\"dataframe\">\n",
       "  <thead>\n",
       "    <tr style=\"text-align: right;\">\n",
       "      <th></th>\n",
       "      <th>A</th>\n",
       "      <th>B</th>\n",
       "    </tr>\n",
       "  </thead>\n",
       "  <tbody>\n",
       "    <tr>\n",
       "      <th>2013-01-02</th>\n",
       "      <td>-0.688420</td>\n",
       "      <td>-0.676032</td>\n",
       "    </tr>\n",
       "    <tr>\n",
       "      <th>2013-01-03</th>\n",
       "      <td>1.575371</td>\n",
       "      <td>-0.842984</td>\n",
       "    </tr>\n",
       "    <tr>\n",
       "      <th>2013-01-04</th>\n",
       "      <td>-0.165705</td>\n",
       "      <td>-0.008803</td>\n",
       "    </tr>\n",
       "  </tbody>\n",
       "</table>\n",
       "</div>"
      ],
      "text/plain": [
       "                   A         B\n",
       "2013-01-02 -0.688420 -0.676032\n",
       "2013-01-03  1.575371 -0.842984\n",
       "2013-01-04 -0.165705 -0.008803"
      ]
     },
     "execution_count": 92,
     "metadata": {},
     "output_type": "execute_result"
    }
   ],
   "source": [
    "#Showing label slicing, both endpoints are included\n",
    "df.loc['20130102':'20130104',['A','B']]"
   ]
  },
  {
   "cell_type": "code",
   "execution_count": 93,
   "metadata": {},
   "outputs": [
    {
     "data": {
      "text/html": [
       "<div>\n",
       "<style scoped>\n",
       "    .dataframe tbody tr th:only-of-type {\n",
       "        vertical-align: middle;\n",
       "    }\n",
       "\n",
       "    .dataframe tbody tr th {\n",
       "        vertical-align: top;\n",
       "    }\n",
       "\n",
       "    .dataframe thead th {\n",
       "        text-align: right;\n",
       "    }\n",
       "</style>\n",
       "<table border=\"1\" class=\"dataframe\">\n",
       "  <thead>\n",
       "    <tr style=\"text-align: right;\">\n",
       "      <th></th>\n",
       "      <th>A</th>\n",
       "      <th>C</th>\n",
       "    </tr>\n",
       "  </thead>\n",
       "  <tbody>\n",
       "    <tr>\n",
       "      <th>2013-01-02</th>\n",
       "      <td>-0.688420</td>\n",
       "      <td>-0.068667</td>\n",
       "    </tr>\n",
       "    <tr>\n",
       "      <th>2013-01-03</th>\n",
       "      <td>1.575371</td>\n",
       "      <td>0.348503</td>\n",
       "    </tr>\n",
       "    <tr>\n",
       "      <th>2013-01-04</th>\n",
       "      <td>-0.165705</td>\n",
       "      <td>1.578039</td>\n",
       "    </tr>\n",
       "  </tbody>\n",
       "</table>\n",
       "</div>"
      ],
      "text/plain": [
       "                   A         C\n",
       "2013-01-02 -0.688420 -0.068667\n",
       "2013-01-03  1.575371  0.348503\n",
       "2013-01-04 -0.165705  1.578039"
      ]
     },
     "execution_count": 93,
     "metadata": {},
     "output_type": "execute_result"
    }
   ],
   "source": [
    "#Showing label slicing, both endpoints are included\n",
    "df.loc['20130102':'20130104',['A','C']]"
   ]
  },
  {
   "cell_type": "code",
   "execution_count": 94,
   "metadata": {},
   "outputs": [
    {
     "data": {
      "text/html": [
       "<div>\n",
       "<style scoped>\n",
       "    .dataframe tbody tr th:only-of-type {\n",
       "        vertical-align: middle;\n",
       "    }\n",
       "\n",
       "    .dataframe tbody tr th {\n",
       "        vertical-align: top;\n",
       "    }\n",
       "\n",
       "    .dataframe thead th {\n",
       "        text-align: right;\n",
       "    }\n",
       "</style>\n",
       "<table border=\"1\" class=\"dataframe\">\n",
       "  <thead>\n",
       "    <tr style=\"text-align: right;\">\n",
       "      <th></th>\n",
       "      <th>D</th>\n",
       "      <th>B</th>\n",
       "    </tr>\n",
       "  </thead>\n",
       "  <tbody>\n",
       "    <tr>\n",
       "      <th>2013-01-02</th>\n",
       "      <td>-0.229856</td>\n",
       "      <td>-0.676032</td>\n",
       "    </tr>\n",
       "    <tr>\n",
       "      <th>2013-01-03</th>\n",
       "      <td>-0.128742</td>\n",
       "      <td>-0.842984</td>\n",
       "    </tr>\n",
       "    <tr>\n",
       "      <th>2013-01-04</th>\n",
       "      <td>-0.556071</td>\n",
       "      <td>-0.008803</td>\n",
       "    </tr>\n",
       "  </tbody>\n",
       "</table>\n",
       "</div>"
      ],
      "text/plain": [
       "                   D         B\n",
       "2013-01-02 -0.229856 -0.676032\n",
       "2013-01-03 -0.128742 -0.842984\n",
       "2013-01-04 -0.556071 -0.008803"
      ]
     },
     "execution_count": 94,
     "metadata": {},
     "output_type": "execute_result"
    }
   ],
   "source": [
    "#Showing label slicing, both endpoints are included\n",
    "df.loc['20130102':'20130104',['D','B']]"
   ]
  },
  {
   "cell_type": "code",
   "execution_count": 95,
   "metadata": {},
   "outputs": [
    {
     "data": {
      "text/html": [
       "<div>\n",
       "<style scoped>\n",
       "    .dataframe tbody tr th:only-of-type {\n",
       "        vertical-align: middle;\n",
       "    }\n",
       "\n",
       "    .dataframe tbody tr th {\n",
       "        vertical-align: top;\n",
       "    }\n",
       "\n",
       "    .dataframe thead th {\n",
       "        text-align: right;\n",
       "    }\n",
       "</style>\n",
       "<table border=\"1\" class=\"dataframe\">\n",
       "  <thead>\n",
       "    <tr style=\"text-align: right;\">\n",
       "      <th></th>\n",
       "      <th>A</th>\n",
       "      <th>B</th>\n",
       "      <th>C</th>\n",
       "      <th>D</th>\n",
       "    </tr>\n",
       "  </thead>\n",
       "  <tbody>\n",
       "    <tr>\n",
       "      <th>2013-01-03</th>\n",
       "      <td>1.575371</td>\n",
       "      <td>-0.842984</td>\n",
       "      <td>0.348503</td>\n",
       "      <td>-0.128742</td>\n",
       "    </tr>\n",
       "  </tbody>\n",
       "</table>\n",
       "</div>"
      ],
      "text/plain": [
       "                   A         B         C         D\n",
       "2013-01-03  1.575371 -0.842984  0.348503 -0.128742"
      ]
     },
     "execution_count": 95,
     "metadata": {},
     "output_type": "execute_result"
    }
   ],
   "source": [
    "# Using a single column’s values to select data.\n",
    "df[df.A > 0]"
   ]
  },
  {
   "cell_type": "code",
   "execution_count": 96,
   "metadata": {},
   "outputs": [
    {
     "data": {
      "text/html": [
       "<div>\n",
       "<style scoped>\n",
       "    .dataframe tbody tr th:only-of-type {\n",
       "        vertical-align: middle;\n",
       "    }\n",
       "\n",
       "    .dataframe tbody tr th {\n",
       "        vertical-align: top;\n",
       "    }\n",
       "\n",
       "    .dataframe thead th {\n",
       "        text-align: right;\n",
       "    }\n",
       "</style>\n",
       "<table border=\"1\" class=\"dataframe\">\n",
       "  <thead>\n",
       "    <tr style=\"text-align: right;\">\n",
       "      <th></th>\n",
       "      <th>A</th>\n",
       "      <th>B</th>\n",
       "      <th>C</th>\n",
       "      <th>D</th>\n",
       "    </tr>\n",
       "  </thead>\n",
       "  <tbody>\n",
       "    <tr>\n",
       "      <th>2013-01-01</th>\n",
       "      <td>NaN</td>\n",
       "      <td>NaN</td>\n",
       "      <td>NaN</td>\n",
       "      <td>NaN</td>\n",
       "    </tr>\n",
       "    <tr>\n",
       "      <th>2013-01-02</th>\n",
       "      <td>NaN</td>\n",
       "      <td>NaN</td>\n",
       "      <td>NaN</td>\n",
       "      <td>NaN</td>\n",
       "    </tr>\n",
       "    <tr>\n",
       "      <th>2013-01-03</th>\n",
       "      <td>1.575371</td>\n",
       "      <td>NaN</td>\n",
       "      <td>0.348503</td>\n",
       "      <td>NaN</td>\n",
       "    </tr>\n",
       "    <tr>\n",
       "      <th>2013-01-04</th>\n",
       "      <td>NaN</td>\n",
       "      <td>NaN</td>\n",
       "      <td>1.578039</td>\n",
       "      <td>NaN</td>\n",
       "    </tr>\n",
       "    <tr>\n",
       "      <th>2013-01-05</th>\n",
       "      <td>NaN</td>\n",
       "      <td>1.173199</td>\n",
       "      <td>1.105312</td>\n",
       "      <td>NaN</td>\n",
       "    </tr>\n",
       "    <tr>\n",
       "      <th>2013-01-06</th>\n",
       "      <td>NaN</td>\n",
       "      <td>0.639250</td>\n",
       "      <td>0.228390</td>\n",
       "      <td>NaN</td>\n",
       "    </tr>\n",
       "  </tbody>\n",
       "</table>\n",
       "</div>"
      ],
      "text/plain": [
       "                   A         B         C   D\n",
       "2013-01-01       NaN       NaN       NaN NaN\n",
       "2013-01-02       NaN       NaN       NaN NaN\n",
       "2013-01-03  1.575371       NaN  0.348503 NaN\n",
       "2013-01-04       NaN       NaN  1.578039 NaN\n",
       "2013-01-05       NaN  1.173199  1.105312 NaN\n",
       "2013-01-06       NaN  0.639250  0.228390 NaN"
      ]
     },
     "execution_count": 96,
     "metadata": {},
     "output_type": "execute_result"
    }
   ],
   "source": [
    "# Selecting values from a DataFrame where a boolean condition is met.\n",
    "df[df > 0]"
   ]
  },
  {
   "cell_type": "code",
   "execution_count": 98,
   "metadata": {},
   "outputs": [
    {
     "data": {
      "text/html": [
       "<div>\n",
       "<style scoped>\n",
       "    .dataframe tbody tr th:only-of-type {\n",
       "        vertical-align: middle;\n",
       "    }\n",
       "\n",
       "    .dataframe tbody tr th {\n",
       "        vertical-align: top;\n",
       "    }\n",
       "\n",
       "    .dataframe thead th {\n",
       "        text-align: right;\n",
       "    }\n",
       "</style>\n",
       "<table border=\"1\" class=\"dataframe\">\n",
       "  <thead>\n",
       "    <tr style=\"text-align: right;\">\n",
       "      <th></th>\n",
       "      <th>A</th>\n",
       "      <th>B</th>\n",
       "      <th>C</th>\n",
       "      <th>D</th>\n",
       "      <th>E</th>\n",
       "    </tr>\n",
       "  </thead>\n",
       "  <tbody>\n",
       "    <tr>\n",
       "      <th>2013-01-01</th>\n",
       "      <td>-0.037983</td>\n",
       "      <td>-0.790303</td>\n",
       "      <td>-0.710858</td>\n",
       "      <td>-0.149606</td>\n",
       "      <td>one</td>\n",
       "    </tr>\n",
       "    <tr>\n",
       "      <th>2013-01-02</th>\n",
       "      <td>-0.688420</td>\n",
       "      <td>-0.676032</td>\n",
       "      <td>-0.068667</td>\n",
       "      <td>-0.229856</td>\n",
       "      <td>one</td>\n",
       "    </tr>\n",
       "    <tr>\n",
       "      <th>2013-01-03</th>\n",
       "      <td>1.575371</td>\n",
       "      <td>-0.842984</td>\n",
       "      <td>0.348503</td>\n",
       "      <td>-0.128742</td>\n",
       "      <td>two</td>\n",
       "    </tr>\n",
       "    <tr>\n",
       "      <th>2013-01-04</th>\n",
       "      <td>-0.165705</td>\n",
       "      <td>-0.008803</td>\n",
       "      <td>1.578039</td>\n",
       "      <td>-0.556071</td>\n",
       "      <td>three</td>\n",
       "    </tr>\n",
       "    <tr>\n",
       "      <th>2013-01-05</th>\n",
       "      <td>-1.030030</td>\n",
       "      <td>1.173199</td>\n",
       "      <td>1.105312</td>\n",
       "      <td>-1.288501</td>\n",
       "      <td>four</td>\n",
       "    </tr>\n",
       "    <tr>\n",
       "      <th>2013-01-06</th>\n",
       "      <td>-1.088282</td>\n",
       "      <td>0.639250</td>\n",
       "      <td>0.228390</td>\n",
       "      <td>-1.103593</td>\n",
       "      <td>three</td>\n",
       "    </tr>\n",
       "  </tbody>\n",
       "</table>\n",
       "</div>"
      ],
      "text/plain": [
       "                   A         B         C         D      E\n",
       "2013-01-01 -0.037983 -0.790303 -0.710858 -0.149606    one\n",
       "2013-01-02 -0.688420 -0.676032 -0.068667 -0.229856    one\n",
       "2013-01-03  1.575371 -0.842984  0.348503 -0.128742    two\n",
       "2013-01-04 -0.165705 -0.008803  1.578039 -0.556071  three\n",
       "2013-01-05 -1.030030  1.173199  1.105312 -1.288501   four\n",
       "2013-01-06 -1.088282  0.639250  0.228390 -1.103593  three"
      ]
     },
     "execution_count": 98,
     "metadata": {},
     "output_type": "execute_result"
    }
   ],
   "source": [
    "# Using the isin() method for filtering:\n",
    "df2 = df.copy()\n",
    "df2['E'] = ['one', 'one','two','three','four','three']\n",
    "df2\n"
   ]
  },
  {
   "cell_type": "code",
   "execution_count": 99,
   "metadata": {},
   "outputs": [
    {
     "data": {
      "text/html": [
       "<div>\n",
       "<style scoped>\n",
       "    .dataframe tbody tr th:only-of-type {\n",
       "        vertical-align: middle;\n",
       "    }\n",
       "\n",
       "    .dataframe tbody tr th {\n",
       "        vertical-align: top;\n",
       "    }\n",
       "\n",
       "    .dataframe thead th {\n",
       "        text-align: right;\n",
       "    }\n",
       "</style>\n",
       "<table border=\"1\" class=\"dataframe\">\n",
       "  <thead>\n",
       "    <tr style=\"text-align: right;\">\n",
       "      <th></th>\n",
       "      <th>A</th>\n",
       "      <th>B</th>\n",
       "      <th>C</th>\n",
       "      <th>D</th>\n",
       "      <th>E</th>\n",
       "    </tr>\n",
       "  </thead>\n",
       "  <tbody>\n",
       "    <tr>\n",
       "      <th>2013-01-03</th>\n",
       "      <td>1.575371</td>\n",
       "      <td>-0.842984</td>\n",
       "      <td>0.348503</td>\n",
       "      <td>-0.128742</td>\n",
       "      <td>two</td>\n",
       "    </tr>\n",
       "    <tr>\n",
       "      <th>2013-01-05</th>\n",
       "      <td>-1.030030</td>\n",
       "      <td>1.173199</td>\n",
       "      <td>1.105312</td>\n",
       "      <td>-1.288501</td>\n",
       "      <td>four</td>\n",
       "    </tr>\n",
       "  </tbody>\n",
       "</table>\n",
       "</div>"
      ],
      "text/plain": [
       "                   A         B         C         D     E\n",
       "2013-01-03  1.575371 -0.842984  0.348503 -0.128742   two\n",
       "2013-01-05 -1.030030  1.173199  1.105312 -1.288501  four"
      ]
     },
     "execution_count": 99,
     "metadata": {},
     "output_type": "execute_result"
    }
   ],
   "source": [
    "df2[df2['E'].isin(['two','four'])]\n"
   ]
  },
  {
   "cell_type": "code",
   "execution_count": null,
   "metadata": {},
   "outputs": [],
   "source": []
  }
 ],
 "metadata": {
  "kernelspec": {
   "display_name": "Python 3",
   "language": "python",
   "name": "python3"
  },
  "language_info": {
   "codemirror_mode": {
    "name": "ipython",
    "version": 3
   },
   "file_extension": ".py",
   "mimetype": "text/x-python",
   "name": "python",
   "nbconvert_exporter": "python",
   "pygments_lexer": "ipython3",
   "version": "3.7.1"
  }
 },
 "nbformat": 4,
 "nbformat_minor": 2
}
