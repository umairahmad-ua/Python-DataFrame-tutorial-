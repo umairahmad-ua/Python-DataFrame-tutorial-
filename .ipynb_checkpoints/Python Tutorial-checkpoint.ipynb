{
 "cells": [
  {
   "cell_type": "markdown",
   "metadata": {},
   "source": [
    "# 1. INTRODUCTION"
   ]
  },
  {
   "cell_type": "markdown",
   "metadata": {},
   "source": [
    "* Python has gathered alot of appreciation as a choice of language for Data Analytics. Open Source and Free to install.\n",
    "* Awesome online community.\n",
    "* Very easy to learn.\n",
    "* It can become common language for data science.\n",
    "* It can also become a common language for production of web based analytics products. As it is interpreted programming language so it is easier to implement.\n",
    "* Compilation is not required, execution process can be done directly."
   ]
  },
  {
   "cell_type": "markdown",
   "metadata": {},
   "source": [
    "# 2. Data Types"
   ]
  },
  {
   "cell_type": "markdown",
   "metadata": {},
   "source": [
    "Following data types are used in Python to store and access the data. Those are explained below."
   ]
  },
  {
   "cell_type": "markdown",
   "metadata": {},
   "source": [
    "# 2.1 Variables"
   ]
  },
  {
   "cell_type": "markdown",
   "metadata": {},
   "source": [
    "* In Python, variables don't need explicit declaration to occupy memory space. \n",
    "* The type of the variable will be decided after assigning the value to it."
   ]
  },
  {
   "cell_type": "markdown",
   "metadata": {},
   "source": [
    "Some examples are given as follows:\n"
   ]
  },
  {
   "cell_type": "code",
   "execution_count": 4,
   "metadata": {},
   "outputs": [
    {
     "name": "stdout",
     "output_type": "stream",
     "text": [
      "240.2\n",
      "990\n",
      "Umair Ahmed\n"
     ]
    }
   ],
   "source": [
    "counter = 240.20 #float type variable\n",
    "miles = 990 #integer type variable\n",
    "name = \"Umair Ahmed\" #string type variable\n",
    "#print all values\n",
    "print (counter)\n",
    "print (miles)\n",
    "print (name)"
   ]
  },
  {
   "cell_type": "code",
   "execution_count": 8,
   "metadata": {
    "scrolled": true
   },
   "outputs": [
    {
     "name": "stdout",
     "output_type": "stream",
     "text": [
      "50000.5\n",
      "2019\n",
      "Jafeel\n"
     ]
    }
   ],
   "source": [
    "Salary = 50000.50 #float type variable\n",
    "Year = 2019 #integer type variable\n",
    "Name = \"Jafeel\" #string type variable\n",
    "#print all values\n",
    "print (Salary)\n",
    "print (Year)\n",
    "print (Name)"
   ]
  },
  {
   "cell_type": "code",
   "execution_count": 9,
   "metadata": {
    "scrolled": true
   },
   "outputs": [
    {
     "name": "stdout",
     "output_type": "stream",
     "text": [
      "15000.135\n",
      "1947\n",
      "Pakistan\n"
     ]
    }
   ],
   "source": [
    "Economy = 15000.1350 #float type variable\n",
    "Year = 1947 #integer type variable\n",
    "Country = \"Pakistan\" #string type variable\n",
    "#print all values\n",
    "print (Economy)\n",
    "print (Year)\n",
    "print (Country)"
   ]
  },
  {
   "cell_type": "markdown",
   "metadata": {},
   "source": [
    "# 2.2 Numbers"
   ]
  },
  {
   "cell_type": "markdown",
   "metadata": {},
   "source": [
    "* This data type stores numeric values.\n",
    "* They are immutable data types (Means changing the value of Number data type will results in a newly allocated object)."
   ]
  },
  {
   "cell_type": "markdown",
   "metadata": {},
   "source": [
    "Some examples are given below"
   ]
  },
  {
   "cell_type": "code",
   "execution_count": 11,
   "metadata": {},
   "outputs": [
    {
     "data": {
      "text/plain": [
       "2"
      ]
     },
     "execution_count": 11,
     "metadata": {},
     "output_type": "execute_result"
    }
   ],
   "source": [
    "2 #Interger_Type"
   ]
  },
  {
   "cell_type": "code",
   "execution_count": 12,
   "metadata": {},
   "outputs": [
    {
     "data": {
      "text/plain": [
       "9"
      ]
     },
     "execution_count": 12,
     "metadata": {},
     "output_type": "execute_result"
    }
   ],
   "source": [
    "2+7 #Integer_Addition"
   ]
  },
  {
   "cell_type": "code",
   "execution_count": 13,
   "metadata": {},
   "outputs": [
    {
     "data": {
      "text/plain": [
       "5.0"
      ]
     },
     "execution_count": 13,
     "metadata": {},
     "output_type": "execute_result"
    }
   ],
   "source": [
    "2.5*2 #Fload_Multiplication"
   ]
  },
  {
   "cell_type": "code",
   "execution_count": 14,
   "metadata": {},
   "outputs": [
    {
     "data": {
      "text/plain": [
       "4"
      ]
     },
     "execution_count": 14,
     "metadata": {},
     "output_type": "execute_result"
    }
   ],
   "source": [
    "2**2 #Exponential_Equation"
   ]
  },
  {
   "cell_type": "code",
   "execution_count": 15,
   "metadata": {},
   "outputs": [
    {
     "data": {
      "text/plain": [
       "16"
      ]
     },
     "execution_count": 15,
     "metadata": {},
     "output_type": "execute_result"
    }
   ],
   "source": [
    "4**2 #Exponential_Equation"
   ]
  },
  {
   "cell_type": "markdown",
   "metadata": {},
   "source": [
    "# 2.3 Strings"
   ]
  },
  {
   "cell_type": "markdown",
   "metadata": {},
   "source": [
    "* String data types are used to store words or combination of words having letters, numbers, special characters etc.\n",
    "* It can be stored by enclosing within single qoutes and double qoutes also.\n",
    "* Python doesn't support char data type. It will be as String of length one in Python.\n",
    "\n",
    "Some Example Are Following"
   ]
  },
  {
   "cell_type": "code",
   "execution_count": 17,
   "metadata": {},
   "outputs": [
    {
     "name": "stdout",
     "output_type": "stream",
     "text": [
      "Jafeel Superior\n"
     ]
    }
   ],
   "source": [
    "name = 'Jafeel'\n",
    "university = \"Superior\"\n",
    "print(name,university)"
   ]
  },
  {
   "cell_type": "code",
   "execution_count": 20,
   "metadata": {},
   "outputs": [
    {
     "name": "stdout",
     "output_type": "stream",
     "text": [
      "Jafeel Is MERN Stack Developer and studying from True\n"
     ]
    }
   ],
   "source": [
    "profession = \"MERN Stack Developer\"\n",
    "print(name, 'Is', profession,\"and studying from\",university<\"University\")"
   ]
  },
  {
   "cell_type": "code",
   "execution_count": 21,
   "metadata": {},
   "outputs": [
    {
     "name": "stdout",
     "output_type": "stream",
     "text": [
      "Jafeel age is 19\n"
     ]
    }
   ],
   "source": [
    "age = 19\n",
    "print(name,\"age is\",age)"
   ]
  },
  {
   "cell_type": "markdown",
   "metadata": {},
   "source": [
    "### Acess values in String"
   ]
  },
  {
   "cell_type": "markdown",
   "metadata": {},
   "source": [
    "* Python doesn't support Character data type. These are treated as Strings of length one. \n",
    "* Square brackets are used to access substrings.\n",
    "* We can access a specific character or range of characters from string.\n",
    "It would be cleared by using following examples."
   ]
  },
  {
   "cell_type": "code",
   "execution_count": 22,
   "metadata": {},
   "outputs": [
    {
     "name": "stdout",
     "output_type": "stream",
     "text": [
      "stringVariable[0]: H\n",
      "stringVariable[1:5]: ello\n"
     ]
    }
   ],
   "source": [
    "stringVariable = 'Hello World'\n",
    "print(\"stringVariable[0]:\", stringVariable[0])\n",
    "print(\"stringVariable[1:5]:\", stringVariable[1:5])"
   ]
  },
  {
   "cell_type": "code",
   "execution_count": 32,
   "metadata": {},
   "outputs": [
    {
     "name": "stdout",
     "output_type": "stream",
     "text": [
      "Pak\n"
     ]
    }
   ],
   "source": [
    "newString = 'Pakistan'\n",
    "print(newString[0:3])"
   ]
  },
  {
   "cell_type": "code",
   "execution_count": 36,
   "metadata": {},
   "outputs": [
    {
     "name": "stdout",
     "output_type": "stream",
     "text": [
      "Pak World\n"
     ]
    }
   ],
   "source": [
    "print(newString[0:3], stringVariable[6:11])"
   ]
  },
  {
   "cell_type": "markdown",
   "metadata": {},
   "source": [
    "### Updating String"
   ]
  },
  {
   "cell_type": "markdown",
   "metadata": {},
   "source": [
    "* Value of the string can be updated by assigning a new value to it.\n",
    "* New value will be replaced with older. New value must be related (having same data type) to previous value of the string.\n",
    "* '+' operator will be used for this purpose like as follows:\n"
   ]
  },
  {
   "cell_type": "code",
   "execution_count": 40,
   "metadata": {},
   "outputs": [
    {
     "name": "stdout",
     "output_type": "stream",
     "text": [
      "Updated string:  UNITEDPython\n"
     ]
    }
   ],
   "source": [
    "stringVariable = stringVariable[:6] + \"Python\"\n",
    "print(\"Updated string: \", stringVariable)"
   ]
  },
  {
   "cell_type": "code",
   "execution_count": 38,
   "metadata": {},
   "outputs": [
    {
     "name": "stdout",
     "output_type": "stream",
     "text": [
      "Pakistan Zindabad\n"
     ]
    }
   ],
   "source": [
    "stringVariable = 'Zindabad'\n",
    "print(Country,stringVariable)"
   ]
  },
  {
   "cell_type": "code",
   "execution_count": 39,
   "metadata": {},
   "outputs": [
    {
     "name": "stdout",
     "output_type": "stream",
     "text": [
      "USA UNITED STATE AMERICA\n"
     ]
    }
   ],
   "source": [
    "Country = \"USA\"\n",
    "stringVariable = \"UNITED STATE AMERICA\"\n",
    "print(Country, stringVariable)"
   ]
  },
  {
   "cell_type": "markdown",
   "metadata": {},
   "source": [
    "### Delete String"
   ]
  },
  {
   "cell_type": "markdown",
   "metadata": {},
   "source": [
    "* To delete the value of the string, just delete its object (reference variable). \n",
    "\n",
    "See following example:"
   ]
  },
  {
   "cell_type": "code",
   "execution_count": 47,
   "metadata": {},
   "outputs": [
    {
     "name": "stdout",
     "output_type": "stream",
     "text": [
      "Hello World\n"
     ]
    },
    {
     "ename": "NameError",
     "evalue": "name 'stringVariable' is not defined",
     "output_type": "error",
     "traceback": [
      "\u001b[0;31m---------------------------------------------------------------------------\u001b[0m",
      "\u001b[0;31mNameError\u001b[0m                                 Traceback (most recent call last)",
      "\u001b[0;32m<ipython-input-47-817d7dd3c7eb>\u001b[0m in \u001b[0;36m<module>\u001b[0;34m\u001b[0m\n\u001b[1;32m      2\u001b[0m \u001b[0mprint\u001b[0m \u001b[0;34m(\u001b[0m\u001b[0mstringVariable\u001b[0m\u001b[0;34m)\u001b[0m\u001b[0;34m\u001b[0m\u001b[0;34m\u001b[0m\u001b[0m\n\u001b[1;32m      3\u001b[0m \u001b[0;32mdel\u001b[0m \u001b[0mstringVariable\u001b[0m\u001b[0;34m\u001b[0m\u001b[0;34m\u001b[0m\u001b[0m\n\u001b[0;32m----> 4\u001b[0;31m \u001b[0mprint\u001b[0m \u001b[0;34m(\u001b[0m\u001b[0mstringVariable\u001b[0m\u001b[0;34m)\u001b[0m\u001b[0;34m\u001b[0m\u001b[0;34m\u001b[0m\u001b[0m\n\u001b[0m",
      "\u001b[0;31mNameError\u001b[0m: name 'stringVariable' is not defined"
     ]
    }
   ],
   "source": [
    "stringVariable = \"Hello World\"\n",
    "print (stringVariable)\n",
    "del stringVariable\n",
    "print (stringVariable)"
   ]
  },
  {
   "cell_type": "code",
   "execution_count": 48,
   "metadata": {},
   "outputs": [
    {
     "name": "stdout",
     "output_type": "stream",
     "text": [
      "PAKISTAN\n"
     ]
    },
    {
     "ename": "NameError",
     "evalue": "name 'stringVariable' is not defined",
     "output_type": "error",
     "traceback": [
      "\u001b[0;31m---------------------------------------------------------------------------\u001b[0m",
      "\u001b[0;31mNameError\u001b[0m                                 Traceback (most recent call last)",
      "\u001b[0;32m<ipython-input-48-9617dfe77cbd>\u001b[0m in \u001b[0;36m<module>\u001b[0;34m\u001b[0m\n\u001b[1;32m      1\u001b[0m \u001b[0mCountry\u001b[0m \u001b[0;34m=\u001b[0m \u001b[0;34m\"PAKISTAN\"\u001b[0m\u001b[0;34m\u001b[0m\u001b[0;34m\u001b[0m\u001b[0m\n\u001b[1;32m      2\u001b[0m \u001b[0mprint\u001b[0m \u001b[0;34m(\u001b[0m\u001b[0mCountry\u001b[0m\u001b[0;34m)\u001b[0m\u001b[0;34m\u001b[0m\u001b[0;34m\u001b[0m\u001b[0m\n\u001b[0;32m----> 3\u001b[0;31m \u001b[0;32mdel\u001b[0m \u001b[0mstringVariable\u001b[0m\u001b[0;34m\u001b[0m\u001b[0;34m\u001b[0m\u001b[0m\n\u001b[0m\u001b[1;32m      4\u001b[0m \u001b[0mprint\u001b[0m \u001b[0;34m(\u001b[0m\u001b[0mstringVariable\u001b[0m\u001b[0;34m)\u001b[0m\u001b[0;34m\u001b[0m\u001b[0;34m\u001b[0m\u001b[0m\n",
      "\u001b[0;31mNameError\u001b[0m: name 'stringVariable' is not defined"
     ]
    }
   ],
   "source": [
    "Country = \"PAKISTAN\"\n",
    "print (Country)\n",
    "del stringVariable\n",
    "print (stringVariable)"
   ]
  },
  {
   "cell_type": "code",
   "execution_count": 50,
   "metadata": {},
   "outputs": [
    {
     "name": "stdout",
     "output_type": "stream",
     "text": [
      "324\n"
     ]
    },
    {
     "ename": "NameError",
     "evalue": "name 'DATA' is not defined",
     "output_type": "error",
     "traceback": [
      "\u001b[0;31m---------------------------------------------------------------------------\u001b[0m",
      "\u001b[0;31mNameError\u001b[0m                                 Traceback (most recent call last)",
      "\u001b[0;32m<ipython-input-50-d36277421692>\u001b[0m in \u001b[0;36m<module>\u001b[0;34m\u001b[0m\n\u001b[1;32m      2\u001b[0m \u001b[0mprint\u001b[0m\u001b[0;34m(\u001b[0m\u001b[0mDATA\u001b[0m\u001b[0;34m)\u001b[0m\u001b[0;34m\u001b[0m\u001b[0;34m\u001b[0m\u001b[0m\n\u001b[1;32m      3\u001b[0m \u001b[0;32mdel\u001b[0m \u001b[0mDATA\u001b[0m\u001b[0;34m\u001b[0m\u001b[0;34m\u001b[0m\u001b[0m\n\u001b[0;32m----> 4\u001b[0;31m \u001b[0mprint\u001b[0m\u001b[0;34m(\u001b[0m\u001b[0mDATA\u001b[0m\u001b[0;34m)\u001b[0m\u001b[0;34m\u001b[0m\u001b[0;34m\u001b[0m\u001b[0m\n\u001b[0m",
      "\u001b[0;31mNameError\u001b[0m: name 'DATA' is not defined"
     ]
    }
   ],
   "source": [
    "DATA = 324\n",
    "print(DATA)\n",
    "del DATA\n",
    "print(DATA)"
   ]
  },
  {
   "cell_type": "markdown",
   "metadata": {},
   "source": [
    "### String special operators"
   ]
  },
  {
   "cell_type": "markdown",
   "metadata": {},
   "source": [
    "Some special operators are used in Python to assist the user. These are given below."
   ]
  },
  {
   "cell_type": "markdown",
   "metadata": {},
   "source": [
    "* '+' operator is used for concatenation.\n",
    "\n",
    "Example : "
   ]
  },
  {
   "cell_type": "code",
   "execution_count": 53,
   "metadata": {},
   "outputs": [
    {
     "name": "stdout",
     "output_type": "stream",
     "text": [
      "HelloWorld\n"
     ]
    }
   ],
   "source": [
    "Hello = \"Hello\"\n",
    "World = \"World\"\n",
    "print(Hello+World)"
   ]
  },
  {
   "cell_type": "code",
   "execution_count": 54,
   "metadata": {},
   "outputs": [
    {
     "name": "stdout",
     "output_type": "stream",
     "text": [
      "HelloNewWorld\n"
     ]
    }
   ],
   "source": [
    "print(Hello+\"New\"+World)"
   ]
  },
  {
   "cell_type": "code",
   "execution_count": 56,
   "metadata": {},
   "outputs": [
    {
     "name": "stdout",
     "output_type": "stream",
     "text": [
      "Superior University\n"
     ]
    }
   ],
   "source": [
    "print(\"Superior\"+\" \"+\"University\")"
   ]
  },
  {
   "cell_type": "markdown",
   "metadata": {},
   "source": [
    "* '*' used of Repetition"
   ]
  },
  {
   "cell_type": "code",
   "execution_count": 58,
   "metadata": {},
   "outputs": [
    {
     "name": "stdout",
     "output_type": "stream",
     "text": [
      "HelloHelloHello\n"
     ]
    }
   ],
   "source": [
    "print(Hello*3)"
   ]
  },
  {
   "cell_type": "code",
   "execution_count": 60,
   "metadata": {},
   "outputs": [
    {
     "name": "stdout",
     "output_type": "stream",
     "text": [
      "222222\n"
     ]
    }
   ],
   "source": [
    "print('22'*3)"
   ]
  },
  {
   "cell_type": "code",
   "execution_count": 61,
   "metadata": {},
   "outputs": [
    {
     "name": "stdout",
     "output_type": "stream",
     "text": [
      "WorldWorldWorldWorldWorldWorldWorldWorldWorldWorld\n"
     ]
    }
   ],
   "source": [
    "print(World*10)"
   ]
  },
  {
   "cell_type": "markdown",
   "metadata": {},
   "source": [
    "* '[]' give the character of string at given index.\n",
    "* Index Should Start From 0.\n",
    "\n",
    "Example"
   ]
  },
  {
   "cell_type": "code",
   "execution_count": 62,
   "metadata": {},
   "outputs": [
    {
     "name": "stdout",
     "output_type": "stream",
     "text": [
      "a\n"
     ]
    }
   ],
   "source": [
    "NewVariable = \"abcd\"\n",
    "print(NewVariable[0])"
   ]
  },
  {
   "cell_type": "code",
   "execution_count": 63,
   "metadata": {},
   "outputs": [
    {
     "name": "stdout",
     "output_type": "stream",
     "text": [
      "d\n"
     ]
    }
   ],
   "source": [
    "print(NewVariable[3])"
   ]
  },
  {
   "cell_type": "code",
   "execution_count": 64,
   "metadata": {},
   "outputs": [
    {
     "name": "stdout",
     "output_type": "stream",
     "text": [
      "d b\n"
     ]
    }
   ],
   "source": [
    "print(NewVariable[3],NewVariable[1])"
   ]
  },
  {
   "cell_type": "markdown",
   "metadata": {},
   "source": [
    "* '[:]' is used to get a range of characters from string.\n",
    "\n",
    "Example"
   ]
  },
  {
   "cell_type": "code",
   "execution_count": 66,
   "metadata": {},
   "outputs": [
    {
     "name": "stdout",
     "output_type": "stream",
     "text": [
      "abc\n"
     ]
    }
   ],
   "source": [
    "print(NewVariable[0:3])"
   ]
  },
  {
   "cell_type": "code",
   "execution_count": 67,
   "metadata": {},
   "outputs": [
    {
     "name": "stdout",
     "output_type": "stream",
     "text": [
      "Pak\n"
     ]
    }
   ],
   "source": [
    "newString = 'Pakistan'\n",
    "print(newString[0:3])"
   ]
  },
  {
   "cell_type": "code",
   "execution_count": 69,
   "metadata": {},
   "outputs": [
    {
     "name": "stdout",
     "output_type": "stream",
     "text": [
      "Pak Zindabad\n"
     ]
    }
   ],
   "source": [
    "print(newString[0:3],\"Zindabad\")"
   ]
  },
  {
   "cell_type": "markdown",
   "metadata": {},
   "source": [
    "* 'in' returns true if given character exists in string, otherwise false.\n",
    "* And this method is case sensitive\n",
    "\n",
    "Example "
   ]
  },
  {
   "cell_type": "code",
   "execution_count": 71,
   "metadata": {},
   "outputs": [
    {
     "name": "stdout",
     "output_type": "stream",
     "text": [
      "True\n"
     ]
    }
   ],
   "source": [
    "print('P' in newString)"
   ]
  },
  {
   "cell_type": "code",
   "execution_count": 72,
   "metadata": {},
   "outputs": [
    {
     "name": "stdout",
     "output_type": "stream",
     "text": [
      "False\n"
     ]
    }
   ],
   "source": [
    "print(\"m\" in newString)"
   ]
  },
  {
   "cell_type": "code",
   "execution_count": 73,
   "metadata": {},
   "outputs": [
    {
     "name": "stdout",
     "output_type": "stream",
     "text": [
      "False\n"
     ]
    }
   ],
   "source": [
    "print(\"p\" in newString)"
   ]
  },
  {
   "cell_type": "markdown",
   "metadata": {},
   "source": [
    "* 'not' return opposite value of method\n",
    "* And this method is case sensitive\n",
    "\n",
    "Example"
   ]
  },
  {
   "cell_type": "code",
   "execution_count": 74,
   "metadata": {},
   "outputs": [
    {
     "name": "stdout",
     "output_type": "stream",
     "text": [
      "False\n"
     ]
    }
   ],
   "source": [
    "print(\"P\" not in newString)"
   ]
  },
  {
   "cell_type": "code",
   "execution_count": 75,
   "metadata": {},
   "outputs": [
    {
     "name": "stdout",
     "output_type": "stream",
     "text": [
      "True\n"
     ]
    }
   ],
   "source": [
    "print(\"p\" not in newString)"
   ]
  },
  {
   "cell_type": "code",
   "execution_count": 76,
   "metadata": {},
   "outputs": [
    {
     "name": "stdout",
     "output_type": "stream",
     "text": [
      "False\n"
     ]
    }
   ],
   "source": [
    "print(\"i\" not in newString)"
   ]
  },
  {
   "cell_type": "markdown",
   "metadata": {},
   "source": [
    "### String formatting operator"
   ]
  },
  {
   "cell_type": "markdown",
   "metadata": {},
   "source": [
    "* One of the coolest feature is string formatting operator within print statement.\n",
    "* It is represented by % sign inside a string\n",
    "* %s - String (or any object with a string representation, like numbers)\n",
    "* %d - Integers\n",
    "* %f - Floating point numbers\n",
    "* %.<number of digits>f - Floating point numbers with a fixed amount of digits to the right of the dot.\n",
    "* %x/%X - Integers in hex representation (lowercase/uppercase)\n",
    "\n",
    "Example"
   ]
  },
  {
   "cell_type": "code",
   "execution_count": 78,
   "metadata": {},
   "outputs": [
    {
     "name": "stdout",
     "output_type": "stream",
     "text": [
      "My name is Jafeel and age is 51 kg!\n"
     ]
    }
   ],
   "source": [
    " print (\"My name is %s and age is %d kg!\" % (\"Jafeel\",51))"
   ]
  },
  {
   "cell_type": "code",
   "execution_count": 79,
   "metadata": {},
   "outputs": [
    {
     "name": "stdout",
     "output_type": "stream",
     "text": [
      "I live in Pakistan\n"
     ]
    }
   ],
   "source": [
    "country = \"Pakistan\"\n",
    "print(\"I live in %s\"%(country))"
   ]
  },
  {
   "cell_type": "code",
   "execution_count": 81,
   "metadata": {},
   "outputs": [
    {
     "name": "stdout",
     "output_type": "stream",
     "text": [
      "My age is 19\n"
     ]
    }
   ],
   "source": [
    "age = 19\n",
    "print(\"My age is %d\"%(age))"
   ]
  },
  {
   "cell_type": "markdown",
   "metadata": {},
   "source": [
    "# 2.4 Lists\n"
   ]
  },
  {
   "cell_type": "markdown",
   "metadata": {},
   "source": [
    "* It can be written as a list of comma-seperated values within square brackets. \n",
    "* Multiple types of data can be stored in a List.\n",
    "* Individual elements of a list can be changed (it can be read and write).\n",
    "* List indices starts from 0 just like arrays.\n",
    "\n",
    "Example"
   ]
  },
  {
   "cell_type": "code",
   "execution_count": 82,
   "metadata": {},
   "outputs": [
    {
     "name": "stdout",
     "output_type": "stream",
     "text": [
      "['Jafeel', 'Superior']\n"
     ]
    }
   ],
   "source": [
    "FirstList = [\"Jafeel\",\"Superior\"]\n",
    "print(FirstList)"
   ]
  },
  {
   "cell_type": "code",
   "execution_count": 83,
   "metadata": {},
   "outputs": [
    {
     "name": "stdout",
     "output_type": "stream",
     "text": [
      "[1, 5, 4]\n"
     ]
    }
   ],
   "source": [
    "NumberList=[1,5,4]\n",
    "print(NumberList)"
   ]
  },
  {
   "cell_type": "code",
   "execution_count": 85,
   "metadata": {},
   "outputs": [
    {
     "name": "stdout",
     "output_type": "stream",
     "text": [
      "[1, '22', 'true', 19]\n"
     ]
    }
   ],
   "source": [
    "List=[1,\"22\",\"true\",19]\n",
    "print(List)"
   ]
  },
  {
   "cell_type": "markdown",
   "metadata": {},
   "source": [
    "##### We Used List For Storing Multiple Items"
   ]
  },
  {
   "cell_type": "markdown",
   "metadata": {},
   "source": [
    "##### List Is Helpful when we have large amount of data"
   ]
  },
  {
   "cell_type": "markdown",
   "metadata": {},
   "source": [
    "##### Like Stundent's Record"
   ]
  },
  {
   "cell_type": "code",
   "execution_count": 86,
   "metadata": {},
   "outputs": [
    {
     "name": "stdout",
     "output_type": "stream",
     "text": [
      "['Jafeel', 'Shahroz', 'Naveed']\n"
     ]
    }
   ],
   "source": [
    "List = [\"Jafeel\",\"Shahroz\",\"Naveed\"]\n",
    "print(List)"
   ]
  },
  {
   "cell_type": "markdown",
   "metadata": {},
   "source": [
    "### Accessing values in Lists"
   ]
  },
  {
   "cell_type": "markdown",
   "metadata": {},
   "source": [
    "* Square brackets are used to access the values of a list.\n",
    "* We can access a specific values or range of values from list.\n",
    "\n",
    "Example"
   ]
  },
  {
   "cell_type": "code",
   "execution_count": 88,
   "metadata": {},
   "outputs": [
    {
     "name": "stdout",
     "output_type": "stream",
     "text": [
      "Jafeel\n"
     ]
    }
   ],
   "source": [
    "print(List[0])"
   ]
  },
  {
   "cell_type": "code",
   "execution_count": 90,
   "metadata": {},
   "outputs": [
    {
     "name": "stdout",
     "output_type": "stream",
     "text": [
      "Naveed\n"
     ]
    }
   ],
   "source": [
    "print(List[2])"
   ]
  },
  {
   "cell_type": "code",
   "execution_count": 91,
   "metadata": {},
   "outputs": [
    {
     "name": "stdout",
     "output_type": "stream",
     "text": [
      "['Jafeel', 'Shahroz']\n"
     ]
    }
   ],
   "source": [
    "print(List[0:2])"
   ]
  },
  {
   "cell_type": "markdown",
   "metadata": {},
   "source": [
    "### Updating Lists"
   ]
  },
  {
   "cell_type": "markdown",
   "metadata": {},
   "source": [
    "* We can update single or mupltiple elements of a list by giving slice on left hand of the assignment operator. \n",
    "* It can also be updated using append() function.\n",
    "\n",
    "Example"
   ]
  },
  {
   "cell_type": "code",
   "execution_count": 92,
   "metadata": {},
   "outputs": [],
   "source": [
    "List[0] =\"ALI HASSAN\""
   ]
  },
  {
   "cell_type": "code",
   "execution_count": 93,
   "metadata": {},
   "outputs": [
    {
     "name": "stdout",
     "output_type": "stream",
     "text": [
      "['ALI HASSAN', 'Shahroz', 'Naveed']\n"
     ]
    }
   ],
   "source": [
    "print(List)"
   ]
  },
  {
   "cell_type": "code",
   "execution_count": 94,
   "metadata": {},
   "outputs": [
    {
     "name": "stdout",
     "output_type": "stream",
     "text": [
      "None\n"
     ]
    }
   ],
   "source": [
    "print(List.append(\"CS\"))"
   ]
  },
  {
   "cell_type": "code",
   "execution_count": 95,
   "metadata": {},
   "outputs": [
    {
     "name": "stdout",
     "output_type": "stream",
     "text": [
      "['ALI HASSAN', 'Shahroz', 'Naveed', 'CS']\n"
     ]
    }
   ],
   "source": [
    "print(List)"
   ]
  },
  {
   "cell_type": "markdown",
   "metadata": {},
   "source": [
    "### Delete List element"
   ]
  },
  {
   "cell_type": "markdown",
   "metadata": {},
   "source": [
    "* del statement is used to remove when you know the position or index of element to be deleted.\n",
    "* remove() function can be used when you don't know the position of element to be removed."
   ]
  },
  {
   "cell_type": "code",
   "execution_count": 5,
   "metadata": {},
   "outputs": [
    {
     "name": "stdout",
     "output_type": "stream",
     "text": [
      "['Jafeel', 'Shahroz', 'Naveed']\n",
      "After deleting value at index 0 : \n",
      "['Shahroz', 'Naveed']\n"
     ]
    }
   ],
   "source": [
    "List = [\"Jafeel\",\"Shahroz\",\"Naveed\"]\n",
    "print (List)\n",
    "del List[0];\n",
    "print (\"After deleting value at index 0 : \")\n",
    "print (List)"
   ]
  },
  {
   "cell_type": "markdown",
   "metadata": {},
   "source": [
    "#### To clean all list we used clear()"
   ]
  },
  {
   "cell_type": "code",
   "execution_count": 7,
   "metadata": {},
   "outputs": [
    {
     "name": "stdout",
     "output_type": "stream",
     "text": [
      "[]\n"
     ]
    }
   ],
   "source": [
    "List.clear()\n",
    "print(List)"
   ]
  },
  {
   "cell_type": "code",
   "execution_count": 8,
   "metadata": {},
   "outputs": [
    {
     "name": "stdout",
     "output_type": "stream",
     "text": [
      "['Pakistan', 'India', 'Afghanistan', 'Turky']\n",
      "After Deleting India\n",
      "['Pakistan', 'Afghanistan', 'Turky']\n"
     ]
    }
   ],
   "source": [
    "List = [\"Pakistan\",\"India\",\"Afghanistan\",\"Turky\"]\n",
    "print(List)\n",
    "print(\"After Deleting India\")\n",
    "List.remove(\"India\")\n",
    "print(List)"
   ]
  },
  {
   "cell_type": "code",
   "execution_count": 9,
   "metadata": {
    "scrolled": true
   },
   "outputs": [
    {
     "name": "stdout",
     "output_type": "stream",
     "text": [
      "['Pakistan', 'Afghanistan', 'Turky']\n",
      "After Deleting Afghanistan\n",
      "['Pakistan', 'Turky']\n"
     ]
    }
   ],
   "source": [
    "print(List)\n",
    "print(\"After Deleting Afghanistan\")\n",
    "List.remove(\"Afghanistan\")\n",
    "print(List)"
   ]
  },
  {
   "cell_type": "markdown",
   "metadata": {},
   "source": [
    "# 2.5 Dictionaries"
   ]
  },
  {
   "cell_type": "markdown",
   "metadata": {},
   "source": [
    "* It is same as array of objects having key and values in PHP. Each key is seperated by colon (:) from its value.\n",
    "* Each item is seperated with comma (,).\n",
    "* Empty dictionary can be written as {}.\n",
    "* Keys are unique in dictionary but values may not.\n",
    "* The values of the dictionary can be of any data type.\n",
    "* The keys must be of an immutable data type such as strings, numbers, or tuples.\n",
    "\n",
    "Example"
   ]
  },
  {
   "cell_type": "code",
   "execution_count": 12,
   "metadata": {},
   "outputs": [
    {
     "name": "stdout",
     "output_type": "stream",
     "text": [
      "{'name': 'Jafeel', 'Roll_No': 324, 'Semester': 3}\n"
     ]
    }
   ],
   "source": [
    "Dic = {\"name\":\"Jafeel\",\"Roll_No\":324,\"Semester\":3}\n",
    "print(Dic)"
   ]
  },
  {
   "cell_type": "markdown",
   "metadata": {},
   "source": [
    "##### We Used Dictionaries When We Have Large Amount Of Group Of Data"
   ]
  },
  {
   "cell_type": "markdown",
   "metadata": {},
   "source": [
    "##### We Used it because it is to make a record of specific format"
   ]
  },
  {
   "cell_type": "markdown",
   "metadata": {},
   "source": [
    "##### It help like enum type"
   ]
  },
  {
   "cell_type": "markdown",
   "metadata": {},
   "source": [
    "### Accessing value in Dictionary"
   ]
  },
  {
   "cell_type": "markdown",
   "metadata": {},
   "source": [
    "* We can use the familiar square brackets along with the key to obtain its value.\n",
    "\n",
    "Following is a simple example\n"
   ]
  },
  {
   "cell_type": "code",
   "execution_count": 14,
   "metadata": {},
   "outputs": [
    {
     "name": "stdout",
     "output_type": "stream",
     "text": [
      "Jafeel\n"
     ]
    }
   ],
   "source": [
    "print(Dic[\"name\"])"
   ]
  },
  {
   "cell_type": "code",
   "execution_count": 16,
   "metadata": {},
   "outputs": [
    {
     "name": "stdout",
     "output_type": "stream",
     "text": [
      "Name Is Jafeel Roll No Is 324 And Semester Is 3\n"
     ]
    }
   ],
   "source": [
    "print(\"Name Is\",Dic[\"name\"],\"Roll No Is\",Dic[\"Roll_No\"],\"And Semester Is\",Dic[\"Semester\"])"
   ]
  },
  {
   "cell_type": "code",
   "execution_count": 21,
   "metadata": {},
   "outputs": [
    {
     "name": "stdout",
     "output_type": "stream",
     "text": [
      "Sum Of Dictionaries\n",
      "34\n"
     ]
    }
   ],
   "source": [
    "NewDic = [3,4,8,9,10]\n",
    "print(\"Sum Of Dictionaries\")\n",
    "Temp = NewDic[0]+NewDic[1]+NewDic[2]+NewDic[3]+NewDic[4]\n",
    "print(Temp)"
   ]
  },
  {
   "cell_type": "markdown",
   "metadata": {},
   "source": [
    "### Updating Dictionary"
   ]
  },
  {
   "cell_type": "markdown",
   "metadata": {},
   "source": [
    "* We can update already existing value in dictionary.\n",
    "* We can also add a new entry in dictionary.\n",
    "\n",
    "See Examples : "
   ]
  },
  {
   "cell_type": "code",
   "execution_count": 23,
   "metadata": {},
   "outputs": [
    {
     "name": "stdout",
     "output_type": "stream",
     "text": [
      "{'Name': 'Jafeel', 'Depart': 'BSCS', 'Batch': 2018}\n",
      "{'Name': 'Jafeel', 'Depart': 'BSCS', 'Batch': 'F18'}\n",
      "{'Name': 'Jafeel', 'Depart': 'BSCS', 'Batch': 'F18', 'University': 'Superior Gold Campus'}\n"
     ]
    }
   ],
   "source": [
    "dict = {'Name':\"Jafeel\", 'Depart': \"BSCS\", 'Batch': 2018}\n",
    "print (dict)\n",
    "dict['Batch'] = \"F18\"\n",
    "print (dict)\n",
    "dict['University'] = \"Superior Gold Campus\"\n",
    "print(dict)"
   ]
  },
  {
   "cell_type": "code",
   "execution_count": 27,
   "metadata": {},
   "outputs": [
    {
     "name": "stdout",
     "output_type": "stream",
     "text": [
      "{'Country': 'Pakistan', 'Population': '22Cr', 'State': 4}\n",
      "{'Country': 'Pakistan', 'Population': '23Cr', 'State': 4}\n",
      "{'Country': 'Pakistan', 'Population': '23Cr', 'State': 4, 'Capital': 'Isl'}\n"
     ]
    }
   ],
   "source": [
    "NewDic = {\"Country\":\"Pakistan\",\"Population\":\"22Cr\",\"State\":4}\n",
    "print(NewDic)\n",
    "NewDic[\"Population\"] = \"23Cr\"\n",
    "print(NewDic)\n",
    "NewDic[\"Capital\"]=\"Isl\"\n",
    "print(NewDic)"
   ]
  },
  {
   "cell_type": "code",
   "execution_count": 28,
   "metadata": {},
   "outputs": [
    {
     "name": "stdout",
     "output_type": "stream",
     "text": [
      "{'Country': 'Pakistan', 'Population': '23Cr', 'State': 5, 'Capital': 'Isl'}\n"
     ]
    }
   ],
   "source": [
    "NewDic[\"State\"] = 5\n",
    "print(NewDic)"
   ]
  },
  {
   "cell_type": "markdown",
   "metadata": {},
   "source": [
    "### Delete Dictionary Element"
   ]
  },
  {
   "cell_type": "markdown",
   "metadata": {},
   "source": [
    "* We can delete individual element of dicitionary and complete content of dictionary.\n",
    "* del is used for individual element removal and clear() function is used to remove entire dictionary.\n",
    "\n",
    "Example"
   ]
  },
  {
   "cell_type": "code",
   "execution_count": 30,
   "metadata": {},
   "outputs": [
    {
     "name": "stdout",
     "output_type": "stream",
     "text": [
      "{'Country': 'Pakistan', 'Population': '23Cr', 'State': 5, 'Capital': 'Isl'}\n"
     ]
    },
    {
     "ename": "NameError",
     "evalue": "name 'NewDic' is not defined",
     "output_type": "error",
     "traceback": [
      "\u001b[0;31m---------------------------------------------------------------------------\u001b[0m",
      "\u001b[0;31mNameError\u001b[0m                                 Traceback (most recent call last)",
      "\u001b[0;32m<ipython-input-30-f983049545de>\u001b[0m in \u001b[0;36m<module>\u001b[0;34m\u001b[0m\n\u001b[1;32m      1\u001b[0m \u001b[0mprint\u001b[0m\u001b[0;34m(\u001b[0m\u001b[0mNewDic\u001b[0m\u001b[0;34m)\u001b[0m\u001b[0;34m\u001b[0m\u001b[0;34m\u001b[0m\u001b[0m\n\u001b[1;32m      2\u001b[0m \u001b[0;32mdel\u001b[0m \u001b[0mNewDic\u001b[0m\u001b[0;34m\u001b[0m\u001b[0;34m\u001b[0m\u001b[0m\n\u001b[0;32m----> 3\u001b[0;31m \u001b[0mprint\u001b[0m\u001b[0;34m(\u001b[0m\u001b[0mNewDic\u001b[0m\u001b[0;34m)\u001b[0m\u001b[0;34m\u001b[0m\u001b[0;34m\u001b[0m\u001b[0m\n\u001b[0m",
      "\u001b[0;31mNameError\u001b[0m: name 'NewDic' is not defined"
     ]
    }
   ],
   "source": [
    "print(NewDic)\n",
    "del NewDic\n",
    "print(NewDic)"
   ]
  },
  {
   "cell_type": "code",
   "execution_count": 32,
   "metadata": {},
   "outputs": [
    {
     "name": "stdout",
     "output_type": "stream",
     "text": [
      "{'Country': 'Pakistan', 'Population': '22Cr', 'State': 4}\n",
      "{}\n"
     ]
    }
   ],
   "source": [
    "NewDic = {\"Country\":\"Pakistan\",\"Population\":\"22Cr\",\"State\":4}\n",
    "print(NewDic)\n",
    "NewDic.clear()\n",
    "print(NewDic)"
   ]
  },
  {
   "cell_type": "code",
   "execution_count": 36,
   "metadata": {},
   "outputs": [
    {
     "name": "stdout",
     "output_type": "stream",
     "text": [
      "{'Country': 'Pakistan', 'Population': '22Cr', 'State': 4}\n",
      "{}\n"
     ]
    }
   ],
   "source": [
    "NewDic = {\"Country\":\"Pakistan\",\"Population\":\"22Cr\",\"State\":4}\n",
    "print(NewDic)\n",
    "del NewDic\n",
    "NewDic = {}\n",
    "print(NewDic)"
   ]
  },
  {
   "cell_type": "markdown",
   "metadata": {},
   "source": [
    "# 2.6 Tuples"
   ]
  },
  {
   "cell_type": "markdown",
   "metadata": {},
   "source": [
    "* It is same as list. The differences between tuples and lists are, the tuples cannot be changed.\n",
    "* Each item is comma (,) seperated.\n",
    "* Empty Tuple is shown as ().\n",
    "* To write a tuple containing a single value you have to include a comma (,) even though there is only one value. For Exampe: tup = (40,). It can also have multiple data type values.\n",
    "* Like string indices, tuple indices start at 0, and they can be sliced, concatenated, and so on."
   ]
  },
  {
   "cell_type": "markdown",
   "metadata": {},
   "source": [
    "##### We Use tuple when data is immutable\n",
    "##### Tuple grouping and organizing data to make it easier to use.\n",
    "##### Tuple is Composability of Data Structures"
   ]
  },
  {
   "cell_type": "code",
   "execution_count": 37,
   "metadata": {},
   "outputs": [
    {
     "name": "stdout",
     "output_type": "stream",
     "text": [
      "()\n"
     ]
    }
   ],
   "source": [
    "# An empty tuple \n",
    "empty_tuple = () \n",
    "print (empty_tuple) "
   ]
  },
  {
   "cell_type": "code",
   "execution_count": 39,
   "metadata": {},
   "outputs": [
    {
     "name": "stdout",
     "output_type": "stream",
     "text": [
      "('python', 'geeks')\n",
      "('python2', 'geeks2')\n"
     ]
    }
   ],
   "source": [
    "# Creating non-empty tuples \n",
    "  \n",
    "# One way of creation \n",
    "tup = 'python', 'geeks'\n",
    "print(tup) \n",
    "  \n",
    "# Another for doing the same \n",
    "tup = ('python2', 'geeks2') \n",
    "print(tup) "
   ]
  },
  {
   "cell_type": "code",
   "execution_count": 40,
   "metadata": {},
   "outputs": [
    {
     "name": "stdout",
     "output_type": "stream",
     "text": [
      "(0, 1, 2, 3, 'python', 'geek')\n"
     ]
    }
   ],
   "source": [
    "# Code for concatenating 2 tuples \n",
    "  \n",
    "tuple1 = (0, 1, 2, 3) \n",
    "tuple2 = ('python', 'geek') \n",
    "  \n",
    "# Concatenating above two \n",
    "print(tuple1 + tuple2) "
   ]
  },
  {
   "cell_type": "markdown",
   "metadata": {},
   "source": [
    "### Accessing values in Tuples"
   ]
  },
  {
   "cell_type": "markdown",
   "metadata": {},
   "source": [
    "* We can use the familiar square brackets along with the index to obtain its value. \n",
    "\n",
    "Following is a simple example"
   ]
  },
  {
   "cell_type": "code",
   "execution_count": 41,
   "metadata": {},
   "outputs": [
    {
     "name": "stdout",
     "output_type": "stream",
     "text": [
      "('L.A', '88', 'OOP', '92')\n",
      "88\n",
      "('88', 'OOP')\n"
     ]
    }
   ],
   "source": [
    "tup = ('L.A','88', 'OOP', '92')\n",
    "print (tup)\n",
    "print(tup[1])\n",
    "print(tup[1:3])"
   ]
  },
  {
   "cell_type": "code",
   "execution_count": 46,
   "metadata": {},
   "outputs": [
    {
     "name": "stdout",
     "output_type": "stream",
     "text": [
      "88\n"
     ]
    }
   ],
   "source": [
    "print(tup[1])"
   ]
  },
  {
   "cell_type": "code",
   "execution_count": 45,
   "metadata": {
    "scrolled": true
   },
   "outputs": [
    {
     "name": "stdout",
     "output_type": "stream",
     "text": [
      "('python', 'python', 'python')\n"
     ]
    }
   ],
   "source": [
    "# Code to create a tuple with repetition \n",
    "tuple3 = ('python',)*3\n",
    "print(tuple3)"
   ]
  },
  {
   "cell_type": "markdown",
   "metadata": {},
   "source": [
    "### Updating Tuples"
   ]
  },
  {
   "cell_type": "markdown",
   "metadata": {},
   "source": [
    "* Tuples are immutable means we can't change it. \n",
    "* It is read only. We are able to take portions of tuples to make a new tuple.\n",
    "\n",
    "Example"
   ]
  },
  {
   "cell_type": "code",
   "execution_count": 48,
   "metadata": {},
   "outputs": [
    {
     "ename": "TypeError",
     "evalue": "'tuple' object does not support item assignment",
     "output_type": "error",
     "traceback": [
      "\u001b[0;31m---------------------------------------------------------------------------\u001b[0m",
      "\u001b[0;31mTypeError\u001b[0m                                 Traceback (most recent call last)",
      "\u001b[0;32m<ipython-input-48-5e1439d444f2>\u001b[0m in \u001b[0;36m<module>\u001b[0;34m\u001b[0m\n\u001b[1;32m      2\u001b[0m \u001b[0;34m\u001b[0m\u001b[0m\n\u001b[1;32m      3\u001b[0m \u001b[0mtuple1\u001b[0m \u001b[0;34m=\u001b[0m \u001b[0;34m(\u001b[0m\u001b[0;36m0\u001b[0m\u001b[0;34m,\u001b[0m \u001b[0;36m1\u001b[0m\u001b[0;34m,\u001b[0m \u001b[0;36m2\u001b[0m\u001b[0;34m,\u001b[0m \u001b[0;36m3\u001b[0m\u001b[0;34m)\u001b[0m\u001b[0;34m\u001b[0m\u001b[0;34m\u001b[0m\u001b[0m\n\u001b[0;32m----> 4\u001b[0;31m \u001b[0mtuple1\u001b[0m\u001b[0;34m[\u001b[0m\u001b[0;36m0\u001b[0m\u001b[0;34m]\u001b[0m \u001b[0;34m=\u001b[0m \u001b[0;36m4\u001b[0m\u001b[0;34m\u001b[0m\u001b[0;34m\u001b[0m\u001b[0m\n\u001b[0m\u001b[1;32m      5\u001b[0m \u001b[0mprint\u001b[0m\u001b[0;34m(\u001b[0m\u001b[0mtuple1\u001b[0m\u001b[0;34m)\u001b[0m\u001b[0;34m\u001b[0m\u001b[0;34m\u001b[0m\u001b[0m\n",
      "\u001b[0;31mTypeError\u001b[0m: 'tuple' object does not support item assignment"
     ]
    }
   ],
   "source": [
    "#code to test that tuples are immutable \n",
    "  \n",
    "tuple1 = (0, 1, 2, 3) \n",
    "tuple1[0] = 4\n",
    "print(tuple1) "
   ]
  },
  {
   "cell_type": "code",
   "execution_count": 47,
   "metadata": {},
   "outputs": [
    {
     "name": "stdout",
     "output_type": "stream",
     "text": [
      "(12, 34.56, 'abc', 'xyz')\n"
     ]
    }
   ],
   "source": [
    "tup1 = (12, 34.56);\n",
    "tup2 = ('abc', 'xyz');\n",
    "# Following action is not valid for tuples\n",
    "# tup1[0] = 100;\n",
    "# So let's create a new tuple as follows\n",
    "tup3 = tup1 + tup2;\n",
    "print (tup3);"
   ]
  },
  {
   "cell_type": "markdown",
   "metadata": {},
   "source": [
    "### Delete Tuple elements"
   ]
  },
  {
   "cell_type": "markdown",
   "metadata": {},
   "source": [
    "* Removing individual element in Tuple is not possible because they can't be updated.\n",
    "* del statment is used to remove entire Tuple.\n",
    "\n",
    "Example"
   ]
  },
  {
   "cell_type": "code",
   "execution_count": 49,
   "metadata": {},
   "outputs": [
    {
     "name": "stdout",
     "output_type": "stream",
     "text": [
      "('physics', 'chemistry', 1997, 2000)\n",
      "After deleting tup : \n"
     ]
    },
    {
     "ename": "NameError",
     "evalue": "name 'tup' is not defined",
     "output_type": "error",
     "traceback": [
      "\u001b[0;31m---------------------------------------------------------------------------\u001b[0m",
      "\u001b[0;31mNameError\u001b[0m                                 Traceback (most recent call last)",
      "\u001b[0;32m<ipython-input-49-750b57655605>\u001b[0m in \u001b[0;36m<module>\u001b[0;34m\u001b[0m\n\u001b[1;32m      3\u001b[0m \u001b[0;32mdel\u001b[0m \u001b[0mtup\u001b[0m\u001b[0;34m;\u001b[0m\u001b[0;34m\u001b[0m\u001b[0;34m\u001b[0m\u001b[0m\n\u001b[1;32m      4\u001b[0m \u001b[0mprint\u001b[0m \u001b[0;34m(\u001b[0m\u001b[0;34m\"After deleting tup : \"\u001b[0m\u001b[0;34m)\u001b[0m\u001b[0;34m;\u001b[0m\u001b[0;34m\u001b[0m\u001b[0;34m\u001b[0m\u001b[0m\n\u001b[0;32m----> 5\u001b[0;31m \u001b[0mprint\u001b[0m \u001b[0;34m(\u001b[0m\u001b[0mtup\u001b[0m\u001b[0;34m)\u001b[0m\u001b[0;34m;\u001b[0m\u001b[0;34m\u001b[0m\u001b[0;34m\u001b[0m\u001b[0m\n\u001b[0m",
      "\u001b[0;31mNameError\u001b[0m: name 'tup' is not defined"
     ]
    }
   ],
   "source": [
    "tup = ('physics', 'chemistry', 1997, 2000);\n",
    "print (tup);\n",
    "del tup;\n",
    "print (\"After deleting tup : \");\n",
    "print (tup);"
   ]
  },
  {
   "cell_type": "code",
   "execution_count": 55,
   "metadata": {},
   "outputs": [
    {
     "name": "stdout",
     "output_type": "stream",
     "text": [
      "('Jafeel', 'Superior', 'Gold Campus')\n"
     ]
    },
    {
     "ename": "NameError",
     "evalue": "name 'tup' is not defined",
     "output_type": "error",
     "traceback": [
      "\u001b[0;31m---------------------------------------------------------------------------\u001b[0m",
      "\u001b[0;31mNameError\u001b[0m                                 Traceback (most recent call last)",
      "\u001b[0;32m<ipython-input-55-55b21c068e9f>\u001b[0m in \u001b[0;36m<module>\u001b[0;34m\u001b[0m\n\u001b[1;32m      2\u001b[0m \u001b[0mprint\u001b[0m\u001b[0;34m(\u001b[0m\u001b[0mtup\u001b[0m\u001b[0;34m)\u001b[0m\u001b[0;34m\u001b[0m\u001b[0;34m\u001b[0m\u001b[0m\n\u001b[1;32m      3\u001b[0m \u001b[0;32mdel\u001b[0m \u001b[0mtup\u001b[0m\u001b[0;34m\u001b[0m\u001b[0;34m\u001b[0m\u001b[0m\n\u001b[0;32m----> 4\u001b[0;31m \u001b[0mprint\u001b[0m\u001b[0;34m(\u001b[0m\u001b[0mtup\u001b[0m\u001b[0;34m)\u001b[0m\u001b[0;34m\u001b[0m\u001b[0;34m\u001b[0m\u001b[0m\n\u001b[0m",
      "\u001b[0;31mNameError\u001b[0m: name 'tup' is not defined"
     ]
    }
   ],
   "source": [
    "tup = (\"Jafeel\",\"Superior\",\"Gold Campus\")\n",
    "print(tup)\n",
    "del tup\n",
    "print(tup)"
   ]
  },
  {
   "cell_type": "markdown",
   "metadata": {},
   "source": [
    "# 2.7 Sets"
   ]
  },
  {
   "cell_type": "markdown",
   "metadata": {},
   "source": [
    "* A set is collection of unordered items.\n",
    "* Every element is unique (No duplicates).\n",
    "* Every element is immutable (can't be changed).\n",
    "* However, the set itself is mutable. We can add or remove items from it.\n",
    "* Sets can be used to perform mathematical set operations like union, intersection, symmetric difference etc. Empty set will be written as {}.\n",
    "* Each item in set will be comma (,) seperated.\n",
    "* We can make a set from a list using set() function.\n",
    "* Data type can be found using type() function.\n",
    "* add() is used to add single value, update() is used for adding multiple values.\n",
    "* update() function can take tupe, strings, list or other set as argument. In all cases, duplicates will be avoided. discard() and remove() are used to to delete particular item from set.\n",
    "* discard() will not raise an error if item doesn't exists in set.\n",
    "* remove() will raise an error if item doesn't exists in set.\n",
    "\n",
    "Example\n",
    "\n",
    "\n",
    "##### Sets can be used to perform mathematical set operations like union, intersection, symmetric difference etc.\n",
    "##### Use a set if you need uniqueness for the elements.\n",
    "##### if what we need is to remove duplicates, or do mathematical operations like combining lists (unions), we can, and SHOULD always use Sets."
   ]
  },
  {
   "cell_type": "code",
   "execution_count": 59,
   "metadata": {},
   "outputs": [
    {
     "name": "stdout",
     "output_type": "stream",
     "text": [
      "Normal Set\n",
      "{'c', 'd', 'a', 'b'}\n"
     ]
    }
   ],
   "source": [
    "# Python program to demonstrate differences \n",
    "# between normal and frozen set \n",
    "  \n",
    "# Same as {\"a\", \"b\",\"c\"} \n",
    "normal_set = set([\"a\", \"b\",\"c\"]) \n",
    "  \n",
    "# Adding an element to normal set is fine \n",
    "normal_set.add(\"d\") \n",
    "  \n",
    "print(\"Normal Set\") \n",
    "print(normal_set) \n",
    "  "
   ]
  },
  {
   "cell_type": "code",
   "execution_count": 60,
   "metadata": {},
   "outputs": [
    {
     "name": "stdout",
     "output_type": "stream",
     "text": [
      "<class 'list'>\n",
      "{1, 2, 3, 4, 5}\n",
      "<class 'set'>\n",
      "{1, 2, 3}\n",
      "{1, 1.2, 2, 3, 4, 5, 'D', 'C', 'Hello'}\n"
     ]
    }
   ],
   "source": [
    "#list\n",
    "list1 = [1,2,3,4,5]\n",
    "print (type(list1))\n",
    "my_set = set(list1)\n",
    "print(my_set)\n",
    "print (type(my_set))\n",
    "# set of integers\n",
    "my_set = {1,2,3}\n",
    "print (my_set)\n",
    "# set of mixed data types\n",
    "my_set = {1,\"Hello\", 1.2,'C'}\n",
    "# adding a single value\n",
    "my_set.add('D')\n",
    "#adding multiple values\n",
    "my_set.update(list1)\n",
    "print (my_set)\n",
    "my_set.discard('G') # it will not raise an error"
   ]
  },
  {
   "cell_type": "code",
   "execution_count": 1,
   "metadata": {},
   "outputs": [
    {
     "name": "stdout",
     "output_type": "stream",
     "text": [
      "{1, 2, 3}\n",
      "{1.0, (1, 2, 3), 'Hello'}\n"
     ]
    }
   ],
   "source": [
    "# set of integers\n",
    "my_set = {1, 2, 3}\n",
    "print(my_set)\n",
    "\n",
    "# set of mixed datatypes\n",
    "my_set = {1.0, \"Hello\", (1, 2, 3)}\n",
    "print(my_set)"
   ]
  },
  {
   "cell_type": "markdown",
   "metadata": {},
   "source": [
    "# 3. Comparison Operators"
   ]
  },
  {
   "cell_type": "markdown",
   "metadata": {},
   "source": [
    "* These are used to compare values (string or numbers) and return true/false according to situation.\n",
    "\n",
    "Some Operator Are Following:\n",
    "\n",
    "* Less Than <\n",
    "* Greater Than >\n",
    "* Comparison ==\n",
    "* Not Operator !\n",
    "* or operator \n",
    "* and operator\n",
    "\n",
    "Example"
   ]
  },
  {
   "cell_type": "code",
   "execution_count": 3,
   "metadata": {},
   "outputs": [
    {
     "data": {
      "text/plain": [
       "True"
      ]
     },
     "execution_count": 3,
     "metadata": {},
     "output_type": "execute_result"
    }
   ],
   "source": [
    "1<10"
   ]
  },
  {
   "cell_type": "code",
   "execution_count": 4,
   "metadata": {},
   "outputs": [
    {
     "data": {
      "text/plain": [
       "False"
      ]
     },
     "execution_count": 4,
     "metadata": {},
     "output_type": "execute_result"
    }
   ],
   "source": [
    "10<4"
   ]
  },
  {
   "cell_type": "code",
   "execution_count": 5,
   "metadata": {},
   "outputs": [
    {
     "data": {
      "text/plain": [
       "True"
      ]
     },
     "execution_count": 5,
     "metadata": {},
     "output_type": "execute_result"
    }
   ],
   "source": [
    "5>3"
   ]
  },
  {
   "cell_type": "code",
   "execution_count": 6,
   "metadata": {},
   "outputs": [
    {
     "data": {
      "text/plain": [
       "False"
      ]
     },
     "execution_count": 6,
     "metadata": {},
     "output_type": "execute_result"
    }
   ],
   "source": [
    "5>10"
   ]
  },
  {
   "cell_type": "code",
   "execution_count": 7,
   "metadata": {},
   "outputs": [
    {
     "data": {
      "text/plain": [
       "True"
      ]
     },
     "execution_count": 7,
     "metadata": {},
     "output_type": "execute_result"
    }
   ],
   "source": [
    "2 == 2"
   ]
  },
  {
   "cell_type": "code",
   "execution_count": 8,
   "metadata": {},
   "outputs": [
    {
     "data": {
      "text/plain": [
       "False"
      ]
     },
     "execution_count": 8,
     "metadata": {},
     "output_type": "execute_result"
    }
   ],
   "source": [
    "2 == 3"
   ]
  },
  {
   "cell_type": "code",
   "execution_count": 9,
   "metadata": {},
   "outputs": [
    {
     "data": {
      "text/plain": [
       "True"
      ]
     },
     "execution_count": 9,
     "metadata": {},
     "output_type": "execute_result"
    }
   ],
   "source": [
    "2 != 9"
   ]
  },
  {
   "cell_type": "code",
   "execution_count": 43,
   "metadata": {},
   "outputs": [
    {
     "data": {
      "text/plain": [
       "False"
      ]
     },
     "execution_count": 43,
     "metadata": {},
     "output_type": "execute_result"
    }
   ],
   "source": [
    "5 !=5"
   ]
  },
  {
   "cell_type": "code",
   "execution_count": 12,
   "metadata": {},
   "outputs": [
    {
     "data": {
      "text/plain": [
       "True"
      ]
     },
     "execution_count": 12,
     "metadata": {},
     "output_type": "execute_result"
    }
   ],
   "source": [
    "(3 == 3) or (3 != 10)"
   ]
  },
  {
   "cell_type": "code",
   "execution_count": 13,
   "metadata": {},
   "outputs": [
    {
     "data": {
      "text/plain": [
       "True"
      ]
     },
     "execution_count": 13,
     "metadata": {},
     "output_type": "execute_result"
    }
   ],
   "source": [
    "a = 10\n",
    "b=5\n",
    "(a==a) or (a == b)"
   ]
  },
  {
   "cell_type": "code",
   "execution_count": 14,
   "metadata": {},
   "outputs": [
    {
     "data": {
      "text/plain": [
       "True"
      ]
     },
     "execution_count": 14,
     "metadata": {},
     "output_type": "execute_result"
    }
   ],
   "source": [
    "(1==1) and (1!=20)"
   ]
  },
  {
   "cell_type": "code",
   "execution_count": 15,
   "metadata": {},
   "outputs": [
    {
     "data": {
      "text/plain": [
       "True"
      ]
     },
     "execution_count": 15,
     "metadata": {},
     "output_type": "execute_result"
    }
   ],
   "source": [
    "a = 10\n",
    "b=5\n",
    "(a==a) or (a == b)"
   ]
  },
  {
   "cell_type": "markdown",
   "metadata": {},
   "source": [
    "# 4. If-Else Statements"
   ]
  },
  {
   "cell_type": "markdown",
   "metadata": {},
   "source": [
    "* If-Else statments are used to execute a block of code depending on conditions. If block if condition is true otherwise else block. \n",
    "\n",
    "See following example:"
   ]
  },
  {
   "cell_type": "code",
   "execution_count": 19,
   "metadata": {},
   "outputs": [
    {
     "name": "stdout",
     "output_type": "stream",
     "text": [
      "True\n"
     ]
    }
   ],
   "source": [
    "if 2 == 2:\n",
    "    print(\"True\")\n",
    "else:\n",
    "    print(\"False\")"
   ]
  },
  {
   "cell_type": "code",
   "execution_count": 20,
   "metadata": {},
   "outputs": [
    {
     "name": "stdout",
     "output_type": "stream",
     "text": [
      "Even\n"
     ]
    }
   ],
   "source": [
    "a = 10\n",
    "if a%2 == 0:\n",
    "    print(\"Even\")\n",
    "else : \n",
    "    print(\"Odd\")"
   ]
  },
  {
   "cell_type": "code",
   "execution_count": 21,
   "metadata": {},
   "outputs": [
    {
     "name": "stdout",
     "output_type": "stream",
     "text": [
      "A And B Both Are Not Same\n"
     ]
    }
   ],
   "source": [
    "b = 12\n",
    "if a == b:\n",
    "    print(\"A And B Both Are Same\")\n",
    "else :\n",
    "    print(\"A And B Both Are Not Same\")"
   ]
  },
  {
   "cell_type": "markdown",
   "metadata": {},
   "source": [
    "# 5. For and While Loop"
   ]
  },
  {
   "cell_type": "markdown",
   "metadata": {},
   "source": [
    "* Python has for and while loop for iteration, used when we want to perform a specific a task repeatedly.\n",
    "\n",
    "### For Loop Example"
   ]
  },
  {
   "cell_type": "code",
   "execution_count": 23,
   "metadata": {},
   "outputs": [
    {
     "name": "stdout",
     "output_type": "stream",
     "text": [
      "120\n"
     ]
    }
   ],
   "source": [
    "#example of for loop fact = 1\n",
    "Number=5\n",
    "fac=1\n",
    "for i in range (1,Number+1):\n",
    "    fac*=i\n",
    "print (fac)"
   ]
  },
  {
   "cell_type": "code",
   "execution_count": 33,
   "metadata": {
    "scrolled": true
   },
   "outputs": [
    {
     "name": "stdout",
     "output_type": "stream",
     "text": [
      " \n",
      "1  \n",
      "2 2  \n",
      "3 3 3  \n",
      "4 4 4 4  \n",
      "5 5 5 5 5  \n",
      "6 6 6 6 6 6  \n",
      "7 7 7 7 7 7 7  \n",
      "8 8 8 8 8 8 8 8  \n",
      "9 9 9 9 9 9 9 9 9  \n"
     ]
    }
   ],
   "source": [
    "for i in range(10):\n",
    "    for k in range(i):\n",
    "        print(i,end =\" \")\n",
    "    print(\" \")"
   ]
  },
  {
   "cell_type": "code",
   "execution_count": 35,
   "metadata": {},
   "outputs": [
    {
     "name": "stdout",
     "output_type": "stream",
     "text": [
      " \n",
      "*  \n",
      "* *  \n",
      "* * *  \n",
      "* * * *  \n",
      "* * * * *  \n",
      "* * * * * *  \n",
      "* * * * * * *  \n",
      "* * * * * * * *  \n",
      "* * * * * * * * *  \n"
     ]
    }
   ],
   "source": [
    "for i in range(10):\n",
    "    for k in range(i):\n",
    "        print(\"*\",end =\" \")\n",
    "    print(\" \")"
   ]
  },
  {
   "cell_type": "markdown",
   "metadata": {},
   "source": [
    "### While Loop Example"
   ]
  },
  {
   "cell_type": "code",
   "execution_count": 44,
   "metadata": {},
   "outputs": [
    {
     "name": "stdout",
     "output_type": "stream",
     "text": [
      "1\n",
      "2\n",
      "3\n",
      "4\n",
      "5\n"
     ]
    }
   ],
   "source": [
    "i = 1\n",
    "while i < 6:\n",
    "  print(i)\n",
    "  i += 1\n"
   ]
  },
  {
   "cell_type": "code",
   "execution_count": 56,
   "metadata": {},
   "outputs": [
    {
     "name": "stdout",
     "output_type": "stream",
     "text": [
      "1 2 3 4 5 6 7 8 9 10 11 12 13 14 15 16 17 18 19 20 "
     ]
    }
   ],
   "source": [
    "a =20\n",
    "i =1;\n",
    "while i<=a:\n",
    "    print(i, end=\" \")\n",
    "    i = i +1"
   ]
  },
  {
   "cell_type": "markdown",
   "metadata": {},
   "source": [
    "# 6. Functions"
   ]
  },
  {
   "cell_type": "markdown",
   "metadata": {},
   "source": [
    "* It is a block of organized and reusable code.\n",
    "* It is used to perform a single, related action.\n",
    "* It provides high modularity for your application. It has a hight degree of code reusing.\n",
    "* The syntax is:\n",
    "\n",
    "  def functionname( parameters ):\n",
    "  \n",
    "  \"function_docstring\"\n",
    "  \n",
    "  function_suite\n",
    "  \n",
    "  return [expression]"
   ]
  },
  {
   "cell_type": "code",
   "execution_count": null,
   "metadata": {},
   "outputs": [],
   "source": [
    "# Function definition is here\n",
    "def printme( str ):\n",
    " #This prints a passed string into this function\n",
    "    print (str)\n",
    "    return;\n",
    "# Now you can call printme function\n",
    "printme(\"I'm first call to user defined function!\")"
   ]
  },
  {
   "cell_type": "code",
   "execution_count": 63,
   "metadata": {},
   "outputs": [
    {
     "name": "stdout",
     "output_type": "stream",
     "text": [
      "Number is  even\n"
     ]
    }
   ],
   "source": [
    "def evenorodd(int):\n",
    "    if int%2 == 0:\n",
    "        return \"even\";\n",
    "    else:\n",
    "        return \"odd\";\n",
    "\n",
    "print(\"Number is \",evenorodd(2))"
   ]
  },
  {
   "cell_type": "code",
   "execution_count": 67,
   "metadata": {},
   "outputs": [
    {
     "name": "stdout",
     "output_type": "stream",
     "text": [
      "Factorial 120\n"
     ]
    }
   ],
   "source": [
    "def fac(int):\n",
    "    fac = 1\n",
    "    for i in range(1,int+1):\n",
    "        fac*=i\n",
    "    return fac\n",
    "\n",
    "print(\"Factorial\",fac(5))"
   ]
  },
  {
   "cell_type": "markdown",
   "metadata": {},
   "source": [
    "# 7. Lambda Functions"
   ]
  },
  {
   "cell_type": "markdown",
   "metadata": {},
   "source": [
    "* The creation of anonymous functions at runtime, using a construct called \"lambda\".\n",
    "* Lambda function doesn't include return statement, it always contains an expression which is returned.\n",
    "* This piece of code shows the difference between a normal function definition (\"f\") and a lambda function (\"g\"):\n",
    "\n",
    "Example"
   ]
  },
  {
   "cell_type": "code",
   "execution_count": 68,
   "metadata": {},
   "outputs": [
    {
     "name": "stdout",
     "output_type": "stream",
     "text": [
      "9\n"
     ]
    }
   ],
   "source": [
    "#Normal function\n",
    "def f (x):\n",
    "    return x**2\n",
    "print (f(3))"
   ]
  },
  {
   "cell_type": "code",
   "execution_count": 70,
   "metadata": {},
   "outputs": [
    {
     "name": "stdout",
     "output_type": "stream",
     "text": [
      "30\n"
     ]
    }
   ],
   "source": [
    "#Lambda Function\n",
    "#lambda expressions\n",
    "times3 = lambda var:var*3\n",
    "print(times3(10))\n",
    "#lambda expressions: another way to write a function in line"
   ]
  },
  {
   "cell_type": "code",
   "execution_count": 72,
   "metadata": {},
   "outputs": [
    {
     "name": "stdout",
     "output_type": "stream",
     "text": [
      "Good Morning Dear Jafeel\n"
     ]
    }
   ],
   "source": [
    "good = lambda name : \"Good Morning Dear \" + name\n",
    "print(good(\"Jafeel\"))"
   ]
  },
  {
   "cell_type": "markdown",
   "metadata": {},
   "source": [
    "### 7.1 Map()"
   ]
  },
  {
   "cell_type": "markdown",
   "metadata": {},
   "source": [
    "* Map() function is used with two arguments. Just like: r = map(func, seq)\n",
    "* The first argument func is the name of a function and the second a sequence (e.g. a list).\n",
    "* seq. map() applies the function func to all the elements of the sequence seq. It returns a new list with the elements changed by func.\n",
    "\n",
    "Example"
   ]
  },
  {
   "cell_type": "code",
   "execution_count": 73,
   "metadata": {},
   "outputs": [
    {
     "name": "stdout",
     "output_type": "stream",
     "text": [
      "['It', 'is', 'raining', 'cats', 'and', 'dogs']\n"
     ]
    },
    {
     "data": {
      "text/plain": [
       "[2, 2, 7, 4, 3, 4]"
      ]
     },
     "execution_count": 73,
     "metadata": {},
     "output_type": "execute_result"
    }
   ],
   "source": [
    "sentence = 'It is raining cats and dogs'\n",
    "words = sentence.split()\n",
    "print (words)\n",
    "lengths = map(lambda word: len(word), words)\n",
    "list(lengths)"
   ]
  },
  {
   "cell_type": "code",
   "execution_count": 81,
   "metadata": {},
   "outputs": [
    {
     "name": "stdout",
     "output_type": "stream",
     "text": [
      "<map object at 0x106ab3240>\n",
      "['appleorange', 'bananalemon', 'cherrypineapple']\n"
     ]
    }
   ],
   "source": [
    "def myfunc(a, b):\n",
    "  return a + b\n",
    "\n",
    "x = map(myfunc, ('apple', 'banana', 'cherry'), ('orange', 'lemon', 'pineapple'))\n",
    "\n",
    "print(x)\n",
    "\n",
    "#convert the map into a list, for readability:\n",
    "print(list(x))\n"
   ]
  },
  {
   "cell_type": "code",
   "execution_count": 82,
   "metadata": {},
   "outputs": [
    {
     "name": "stdout",
     "output_type": "stream",
     "text": [
      "['Jafeel', 'Ali', 'Shahroz', 'Naveed', 'Bilal', 'Faiz', 'Wasif']\n"
     ]
    },
    {
     "data": {
      "text/plain": [
       "[6, 3, 7, 6, 5, 4, 5]"
      ]
     },
     "execution_count": 82,
     "metadata": {},
     "output_type": "execute_result"
    }
   ],
   "source": [
    "name = \"Jafeel, Ali, Shahroz, Naveed, Bilal, Faiz, Wasif\"\n",
    "student = name.split(\", \")\n",
    "print(student)\n",
    "total = map(lambda student: len(student),student)\n",
    "list(total)"
   ]
  },
  {
   "cell_type": "markdown",
   "metadata": {},
   "source": [
    "### 7.2 Filter()"
   ]
  },
  {
   "cell_type": "markdown",
   "metadata": {},
   "source": [
    "* The function filter(function, list) offers an elegant way to filter out all the elements of a list.\n",
    "* The function filter(f,l) needs a function f as its first argument. f returns a Boolean value, i.e. either True or False. \n",
    "* This function will be applied to every element of the list l.\n",
    "* Only if f returns True will the element of the list be included in the result list.\n",
    "\n",
    "Example"
   ]
  },
  {
   "cell_type": "code",
   "execution_count": 84,
   "metadata": {},
   "outputs": [
    {
     "name": "stdout",
     "output_type": "stream",
     "text": [
      "Odd Number [1, 1, 3, 5, 13, 21, 55]\n"
     ]
    }
   ],
   "source": [
    "fib = [0,1,1,2,3,5,8,13,21,34,55]\n",
    "result1 = filter(lambda x: x % 2, fib)\n",
    "print(\"Odd Number\",list(result1))"
   ]
  },
  {
   "cell_type": "code",
   "execution_count": 87,
   "metadata": {},
   "outputs": [
    {
     "name": "stdout",
     "output_type": "stream",
     "text": [
      "Even Number [0, 2, 8, 34]\n"
     ]
    }
   ],
   "source": [
    "fib = [0,1,1,2,3,5,8,13,21,34,55]\n",
    "result1 = filter(lambda x: x % 2 ==0, fib)\n",
    "print(\"Even Number\",list(result1))"
   ]
  },
  {
   "cell_type": "code",
   "execution_count": 88,
   "metadata": {},
   "outputs": [
    {
     "name": "stdout",
     "output_type": "stream",
     "text": [
      "18\n",
      "24\n",
      "32\n"
     ]
    }
   ],
   "source": [
    "ages = [5, 12, 17, 18, 24, 32]\n",
    "\n",
    "def myFunc(x):\n",
    "  if x < 18:\n",
    "    return False\n",
    "  else:\n",
    "    return True\n",
    "\n",
    "adults = filter(myFunc, ages)\n",
    "\n",
    "for x in adults:\n",
    "  print(x)"
   ]
  },
  {
   "cell_type": "markdown",
   "metadata": {},
   "source": [
    "# 8. File I/O"
   ]
  },
  {
   "cell_type": "markdown",
   "metadata": {},
   "source": [
    "* In this section, we'll cover all basic I/O function(methods)."
   ]
  },
  {
   "cell_type": "markdown",
   "metadata": {},
   "source": [
    "### 8.1 Reading input from Keyboard"
   ]
  },
  {
   "cell_type": "markdown",
   "metadata": {},
   "source": [
    "* For reading input from keyboard, raw_input() method is used.\n",
    "* It reads only one line from standard input and returns it as a string.\n",
    "\n",
    "Example"
   ]
  },
  {
   "cell_type": "code",
   "execution_count": 90,
   "metadata": {},
   "outputs": [
    {
     "name": "stdout",
     "output_type": "stream",
     "text": [
      "Enter your name: Jafeel\n",
      "Jafeel\n"
     ]
    }
   ],
   "source": [
    "from six.moves import input\n",
    "string = input(\"Enter your name: \");\n",
    "print(string)"
   ]
  },
  {
   "cell_type": "code",
   "execution_count": 94,
   "metadata": {},
   "outputs": [
    {
     "name": "stdout",
     "output_type": "stream",
     "text": [
      "Enter Age Here 18\n",
      "You Are Eligible\n"
     ]
    }
   ],
   "source": [
    "age = input(\"Enter Age Here \")\n",
    "if int(age) < 18 :\n",
    "    print(\"You Are Not Eligible\")\n",
    "else :\n",
    "    print(\"You Are Eligible\")"
   ]
  },
  {
   "cell_type": "markdown",
   "metadata": {},
   "source": [
    "### 8.2 I/O from or to Text File\n"
   ]
  },
  {
   "cell_type": "markdown",
   "metadata": {},
   "source": [
    "* In this scenario, we'll read and write to a text file. r opens a file in read only mode.\n",
    "* r+ opens a file read and write mode.\n",
    "* w opens a file in write mode only.\n",
    "* a opens a file in append mode\n",
    "* a+ opens a file in append and read mode."
   ]
  },
  {
   "cell_type": "code",
   "execution_count": 100,
   "metadata": {
    "scrolled": true
   },
   "outputs": [
    {
     "name": "stdout",
     "output_type": "stream",
     "text": [
      "Name: Jafeel Waheed\n",
      "Semester: 3rd\n",
      "Department: BSCS\n",
      "University: Superior University\n"
     ]
    }
   ],
   "source": [
    "# Open a file to read\n",
    "fileOpen = open(\"file.txt\", \"r+\")\n",
    "str = fileOpen.read(); #to read specific content from start you can use read(12). It will read 12 characters from the start of file\n",
    "print (str)\n",
    "# Close opend file\n",
    "fileOpen.close()"
   ]
  },
  {
   "cell_type": "code",
   "execution_count": 108,
   "metadata": {},
   "outputs": [
    {
     "name": "stdout",
     "output_type": "stream",
     "text": [
      "Result \n",
      "OOP : 86\n",
      "MVC : 91\n",
      "Discrete : 70\n",
      "Isl : 80\n",
      "Pak Study : 75\n",
      "Technical : 76\n"
     ]
    }
   ],
   "source": [
    "# Open a file to read\n",
    "fileOpen = open(\"result.txt\", \"r+\")\n",
    "str = fileOpen.read(); #to read specific content from start you can use read(12). It will read 12 characters from the start of file\n",
    "print (\"Result\",\"\\n\"+str)\n",
    "# Close opend file\n",
    "fileOpen.close()"
   ]
  },
  {
   "cell_type": "code",
   "execution_count": 109,
   "metadata": {},
   "outputs": [
    {
     "name": "stdout",
     "output_type": "stream",
     "text": [
      "GPA \n",
      "SGPA 1 : 3.6\n",
      "SGPA 2 : 3.55\n",
      "CGPA : 3.58\n"
     ]
    }
   ],
   "source": [
    "# Open a file to read\n",
    "fileOpen = open(\"gpa.txt\", \"r+\")\n",
    "str = fileOpen.read(); #to read specific content from start you can use read(12). It will read 12 characters from the start of file\n",
    "print (\"GPA\",\"\\n\"+str)\n",
    "# Close opend file\n",
    "fileOpen.close()"
   ]
  },
  {
   "cell_type": "code",
   "execution_count": 104,
   "metadata": {},
   "outputs": [
    {
     "name": "stdout",
     "output_type": "stream",
     "text": [
      "Name: Jafeel Waheed\n",
      "Semester: 3rd\n",
      "Department: BSCS\n",
      "University: Superior University\n",
      "Age: 18\n"
     ]
    }
   ],
   "source": [
    "# Open a file to append\n",
    "fileOpen = open(\"file.txt\", \"a+\")\n",
    "fileOpen.write(\"\\nAge: 18\");\n",
    "fileOpen.close()\n",
    "# Open a file to read\n",
    "fileOpen = open(\"file.txt\", \"r+\")\n",
    "string = fileOpen.read(); #to read specific content from start you can use read(12). It will read 12 characters from the start of file\n",
    "print (string)\n",
    "# Close opend file\n",
    "fileOpen.close()"
   ]
  },
  {
   "cell_type": "code",
   "execution_count": 110,
   "metadata": {},
   "outputs": [
    {
     "name": "stdout",
     "output_type": "stream",
     "text": [
      "OOP : 86\n",
      "MVC : 91\n",
      "Discrete : 70\n",
      "Isl : 80\n",
      "Pak Study : 75\n",
      "Technical : 76\n",
      "PF: 92\n"
     ]
    }
   ],
   "source": [
    "# Open a file to append\n",
    "fileOpen = open(\"result.txt\", \"a+\")\n",
    "fileOpen.write(\"\\nPF: 92\");\n",
    "fileOpen.close()\n",
    "# Open a file to read\n",
    "fileOpen = open(\"result.txt\", \"r+\")\n",
    "string = fileOpen.read(); #to read specific content from start you can use read(12). It will read 12 characters from the start of file\n",
    "print (string)\n",
    "# Close opend file\n",
    "fileOpen.close()"
   ]
  },
  {
   "cell_type": "code",
   "execution_count": 111,
   "metadata": {},
   "outputs": [
    {
     "name": "stdout",
     "output_type": "stream",
     "text": [
      "SGPA 1 : 3.6\n",
      "SGPA 2 : 3.55\n",
      "CGPA : 3.58\n",
      "SGPA 3: 3.85\n"
     ]
    }
   ],
   "source": [
    "# Open a file to append\n",
    "fileOpen = open(\"gpa.txt\", \"a+\")\n",
    "fileOpen.write(\"\\nSGPA 3: 3.85\");\n",
    "fileOpen.close()\n",
    "# Open a file to read\n",
    "fileOpen = open(\"gpa.txt\", \"r+\")\n",
    "string = fileOpen.read(); #to read specific content from start you can use read(12). It will read 12 characters from the start of file\n",
    "print (string)\n",
    "# Close opend file\n",
    "fileOpen.close()"
   ]
  },
  {
   "cell_type": "markdown",
   "metadata": {},
   "source": [
    "### 8.3 File Position"
   ]
  },
  {
   "cell_type": "markdown",
   "metadata": {},
   "source": [
    "* tell() method tells the currenct position within the file. \n",
    "* seek() method changes the current file location.\n",
    "\n",
    "Example"
   ]
  },
  {
   "cell_type": "code",
   "execution_count": 115,
   "metadata": {},
   "outputs": [
    {
     "name": "stdout",
     "output_type": "stream",
     "text": [
      "Read String is : \n",
      " Name: Jafe\n",
      "Current file position : \n",
      " 10\n",
      "Again read String is : \n",
      " Name: Jafeel Waheed\n",
      "\n"
     ]
    }
   ],
   "source": [
    "# Open a file\n",
    "fo = open(\"file.txt\", \"r+\")\n",
    "str = fo.read(10);\n",
    "print (\"Read String is : \\n\", str)\n",
    "# Check current position\n",
    "position = fo.tell();\n",
    "print (\"Current file position : \\n\", position)\n",
    "# Reposition pointer at the beginning once again\n",
    "position = fo.seek(0, 0);\n",
    "str = fo.read(20);\n",
    "print (\"Again read String is : \\n\", str)\n",
    "# Close opend file\n",
    "fo.close()"
   ]
  },
  {
   "cell_type": "code",
   "execution_count": 118,
   "metadata": {},
   "outputs": [
    {
     "name": "stdout",
     "output_type": "stream",
     "text": [
      "SGPA 1 : \n",
      " SGPA 1 : 3.6\n",
      "Again read String is : \n",
      " SGPA 1 : 3.6\n",
      "SGPA 2 : 3.\n"
     ]
    }
   ],
   "source": [
    "# Open a file\n",
    "fo = open(\"gpa.txt\", \"r+\")\n",
    "str = fo.read(12);\n",
    "print (\"SGPA 1 : \\n\", str)\n",
    "# Check current position\n",
    "position = fo.tell();\n",
    "# Reposition pointer at the beginning once again\n",
    "position = fo.seek(0, 0);\n",
    "str = fo.read(24);\n",
    "print (\"Again read String is : \\n\", str)\n",
    "# Close opend file\n",
    "fo.close()"
   ]
  },
  {
   "cell_type": "code",
   "execution_count": 119,
   "metadata": {},
   "outputs": [],
   "source": [
    "import os\n",
    "# rename a file\n",
    "os.rename(\"file.txt\", \"newfile.txt\")"
   ]
  },
  {
   "cell_type": "code",
   "execution_count": 120,
   "metadata": {},
   "outputs": [],
   "source": [
    "import os\n",
    "# rename a file\n",
    "os.rename(\"newfile.txt\", \"file.txt\")"
   ]
  },
  {
   "cell_type": "code",
   "execution_count": 121,
   "metadata": {},
   "outputs": [
    {
     "data": {
      "text/plain": [
       "'duplicate.txt'"
      ]
     },
     "execution_count": 121,
     "metadata": {},
     "output_type": "execute_result"
    }
   ],
   "source": [
    "import shutil\n",
    "# Duplicate File\n",
    "shutil.copy('file.txt', 'duplicate.txt')"
   ]
  },
  {
   "cell_type": "code",
   "execution_count": 122,
   "metadata": {},
   "outputs": [],
   "source": [
    "#remove file\n",
    "os.remove(\"duplicate.txt\")"
   ]
  },
  {
   "cell_type": "markdown",
   "metadata": {},
   "source": [
    "# 9. Pandas Introduction"
   ]
  },
  {
   "cell_type": "markdown",
   "metadata": {},
   "source": [
    "* Pandas is an open source library built on top of NumPy\n",
    "* It allows for fast analysis and data cleaning and preparation It excels in proformance and productivity\n",
    "* It also has built-in visualization features\n",
    "* It can work with data from a wide variety of sources\n"
   ]
  },
  {
   "cell_type": "markdown",
   "metadata": {},
   "source": [
    "# 10. Series"
   ]
  },
  {
   "cell_type": "markdown",
   "metadata": {},
   "source": [
    "* A series is very similar to NumPy array.\n",
    "* Series is 1-D array labeled array capable of holding any type of data.\n",
    "* The difference between the NumPy array from a Series, is that a Series can have axis labels, meaning it can be indexed by a label, instead of just a number location\n",
    "* The axis labels are collectively referred to as the index.\n",
    "* Following function is used to create a series:\n",
    "s= pd.Series(data,index = index)\n",
    "* In above function, data can be many different things:\n",
    "* A python dict\n",
    "* An ndarray\n",
    "* A scalar value (For exmple: 5)\n",
    "* The passed index is a list of axis labels. So, this seperates into a few cases depending on what data is:\n",
    "\n",
    "##### We Used Pandas Series When We want two-dimensional size-mutable, potentially heterogeneous tabular data structure with labeled axes (rows and columns).\n",
    "##### It used for data frames\n",
    "##### It helpfull for data structing of CSV, pdf, Sql table etc"
   ]
  },
  {
   "cell_type": "code",
   "execution_count": 123,
   "metadata": {},
   "outputs": [
    {
     "name": "stdout",
     "output_type": "stream",
     "text": [
      "0    g\n",
      "1    e\n",
      "2    e\n",
      "3    k\n",
      "4    s\n",
      "dtype: object\n"
     ]
    }
   ],
   "source": [
    "# import pandas as pd\n",
    "import pandas as pd\n",
    " \n",
    "# import numpy as np\n",
    "import numpy as np\n",
    " \n",
    "# simple array\n",
    "data = np.array(['g','e','e','k','s'])\n",
    " \n",
    "ser = pd.Series(data)\n",
    "print(ser)"
   ]
  },
  {
   "cell_type": "code",
   "execution_count": 124,
   "metadata": {},
   "outputs": [
    {
     "name": "stdout",
     "output_type": "stream",
     "text": [
      "0    g\n",
      "1    e\n",
      "2    e\n",
      "3    k\n",
      "4    s\n",
      "dtype: object\n"
     ]
    }
   ],
   "source": [
    "# a simple list\n",
    "list = ['g', 'e', 'e', 'k', 's']\n",
    "  \n",
    "# create series form a list\n",
    "ser = pd.Series(list)\n",
    "print(ser)"
   ]
  },
  {
   "cell_type": "code",
   "execution_count": 126,
   "metadata": {},
   "outputs": [
    {
     "name": "stdout",
     "output_type": "stream",
     "text": [
      "o\n"
     ]
    }
   ],
   "source": [
    "# creating simple array\n",
    "data = np.array(['g','e','e','k','s','f', 'o','r','g','e','e','k','s'])\n",
    "ser = pd.Series(data,index=[10,11,12,13,14,15,16,17,18,19,20,21,22])\n",
    "  \n",
    "  \n",
    "# accessing a element using index element\n",
    "print(ser[16])"
   ]
  },
  {
   "cell_type": "markdown",
   "metadata": {},
   "source": [
    "### 10.1 From ndarray"
   ]
  },
  {
   "cell_type": "markdown",
   "metadata": {},
   "source": [
    "* If data is an ndarray, index must be the same length as data.\n",
    "* If no index is passed, one will be created having values [0, ..., len(data) - 1]."
   ]
  },
  {
   "cell_type": "code",
   "execution_count": 130,
   "metadata": {},
   "outputs": [
    {
     "name": "stdout",
     "output_type": "stream",
     "text": [
      "a    0.515732\n",
      "b    0.703918\n",
      "c    1.569997\n",
      "d   -1.047106\n",
      "e   -0.519497\n",
      "dtype: float64\n"
     ]
    }
   ],
   "source": [
    "import matplotlib.pyplot as plt\n",
    "\"\"\"following a fucntion is called from panas to create a series.\n",
    "   data would be 5 random values and indexes are assigned a-e\"\"\"\n",
    "s = pd.Series(np.random.randn(5), index=['a', 'b', 'c', 'd', 'e'])\n",
    "print(s)"
   ]
  },
  {
   "cell_type": "code",
   "execution_count": 131,
   "metadata": {},
   "outputs": [
    {
     "data": {
      "text/plain": [
       "Index(['a', 'b', 'c', 'd', 'e'], dtype='object')"
      ]
     },
     "execution_count": 131,
     "metadata": {},
     "output_type": "execute_result"
    }
   ],
   "source": [
    "\"\"\"Following function will print the index and its datatype\"\"\"\n",
    "s.index"
   ]
  },
  {
   "cell_type": "code",
   "execution_count": 132,
   "metadata": {},
   "outputs": [
    {
     "name": "stdout",
     "output_type": "stream",
     "text": [
      "1000    a\n",
      "1001    b\n",
      "1002    c\n",
      "1003    d\n",
      "1004    e\n",
      "dtype: object\n"
     ]
    }
   ],
   "source": [
    "data = np.array(['a', 'b', 'c', 'd', 'e']) \n",
    "  \n",
    "# creating series \n",
    "s = pd.Series(data, index =[1000, 1001, 1002, 1003, 1004]) \n",
    "print(s) "
   ]
  },
  {
   "cell_type": "code",
   "execution_count": 134,
   "metadata": {},
   "outputs": [
    {
     "data": {
      "text/plain": [
       "Int64Index([1000, 1001, 1002, 1003, 1004], dtype='int64')"
      ]
     },
     "execution_count": 134,
     "metadata": {},
     "output_type": "execute_result"
    }
   ],
   "source": [
    "\"\"\"Following function will print the index and its datatype\"\"\"\n",
    "s.index"
   ]
  },
  {
   "cell_type": "code",
   "execution_count": 135,
   "metadata": {},
   "outputs": [
    {
     "data": {
      "text/plain": [
       "0    0.833537\n",
       "1   -0.388963\n",
       "2    0.501565\n",
       "3   -0.052195\n",
       "4   -0.345565\n",
       "dtype: float64"
      ]
     },
     "execution_count": 135,
     "metadata": {},
     "output_type": "execute_result"
    }
   ],
   "source": [
    "\"\"\"If we don't assign the index then it will of length having values [0......len(data-1)]\"\"\"\n",
    "pd.Series(np.random.randn(5))"
   ]
  },
  {
   "cell_type": "markdown",
   "metadata": {},
   "source": [
    "### 10.2 From dict"
   ]
  },
  {
   "cell_type": "markdown",
   "metadata": {},
   "source": [
    "* If data is a dict, if index is passed the values in data corresponding to the labels in the index will be pulled out. \n",
    "* If index is not passed then it will be constructed from the sorted keys of the dict, if possible."
   ]
  },
  {
   "cell_type": "code",
   "execution_count": 139,
   "metadata": {},
   "outputs": [
    {
     "data": {
      "text/plain": [
       "e    0.0\n",
       "n    1.0\n",
       "a    2.0\n",
       "dtype: float64"
      ]
     },
     "execution_count": 139,
     "metadata": {},
     "output_type": "execute_result"
    }
   ],
   "source": [
    "\"\"\" In following example, indexes are not given to it is constructed from the sorted keys of the dict\"\"\"\n",
    "d = {'e' : 0., 'n' : 1., 'a' : 2.} # a python dict\n",
    "pd.Series(d)"
   ]
  },
  {
   "cell_type": "code",
   "execution_count": 140,
   "metadata": {},
   "outputs": [
    {
     "data": {
      "text/plain": [
       "e    0.0\n",
       "n    1.0\n",
       "d    NaN\n",
       "a    2.0\n",
       "dtype: float64"
      ]
     },
     "execution_count": 140,
     "metadata": {},
     "output_type": "execute_result"
    }
   ],
   "source": [
    "\"\"\" In following example, index are given, so the values in data corresponding in the index will be pulled ou\n",
    "t\"\"\"\n",
    "pd.Series(d, index=['e', 'n', 'd', 'a'])"
   ]
  },
  {
   "cell_type": "code",
   "execution_count": 141,
   "metadata": {},
   "outputs": [
    {
     "data": {
      "text/html": [
       "<div>\n",
       "<style scoped>\n",
       "    .dataframe tbody tr th:only-of-type {\n",
       "        vertical-align: middle;\n",
       "    }\n",
       "\n",
       "    .dataframe tbody tr th {\n",
       "        vertical-align: top;\n",
       "    }\n",
       "\n",
       "    .dataframe thead th {\n",
       "        text-align: right;\n",
       "    }\n",
       "</style>\n",
       "<table border=\"1\" class=\"dataframe\">\n",
       "  <thead>\n",
       "    <tr style=\"text-align: right;\">\n",
       "      <th></th>\n",
       "      <th>name</th>\n",
       "      <th>degree</th>\n",
       "      <th>score</th>\n",
       "    </tr>\n",
       "  </thead>\n",
       "  <tbody>\n",
       "    <tr>\n",
       "      <th>0</th>\n",
       "      <td>aparna</td>\n",
       "      <td>MBA</td>\n",
       "      <td>90</td>\n",
       "    </tr>\n",
       "    <tr>\n",
       "      <th>1</th>\n",
       "      <td>pankaj</td>\n",
       "      <td>BCA</td>\n",
       "      <td>40</td>\n",
       "    </tr>\n",
       "    <tr>\n",
       "      <th>2</th>\n",
       "      <td>sudhir</td>\n",
       "      <td>M.Tech</td>\n",
       "      <td>80</td>\n",
       "    </tr>\n",
       "    <tr>\n",
       "      <th>3</th>\n",
       "      <td>Geeku</td>\n",
       "      <td>MBA</td>\n",
       "      <td>98</td>\n",
       "    </tr>\n",
       "  </tbody>\n",
       "</table>\n",
       "</div>"
      ],
      "text/plain": [
       "     name  degree  score\n",
       "0  aparna     MBA     90\n",
       "1  pankaj     BCA     40\n",
       "2  sudhir  M.Tech     80\n",
       "3   Geeku     MBA     98"
      ]
     },
     "execution_count": 141,
     "metadata": {},
     "output_type": "execute_result"
    }
   ],
   "source": [
    "# importing pandas as pd \n",
    "import pandas as pd \n",
    "  \n",
    "# dictionary of lists \n",
    "dict = {'name':[\"aparna\", \"pankaj\", \"sudhir\", \"Geeku\"], \n",
    "        'degree': [\"MBA\", \"BCA\", \"M.Tech\", \"MBA\"], \n",
    "        'score':[90, 40, 80, 98]} \n",
    "  \n",
    "df = pd.DataFrame.from_dict(dict) \n",
    "  \n",
    "df"
   ]
  },
  {
   "cell_type": "code",
   "execution_count": null,
   "metadata": {},
   "outputs": [],
   "source": [
    "\n",
    "# dictionary of lists \n",
    "dict = {'name':[\"umair\", \"ahmad\", \"sudhir\", \"Geeku\"], \n",
    "        'Job': [\"Accountant\", \"data analyst\", \"engr\", \"backend developer\"], \n",
    "        'salary':[100000, 25000, 80000, 9800000]} \n",
    "  \n",
    "df = pd.DataFrame.from_dict(dict) \n"
   ]
  },
  {
   "cell_type": "code",
   "execution_count": null,
   "metadata": {},
   "outputs": [],
   "source": []
  }
 ],
 "metadata": {
  "kernelspec": {
   "display_name": "Python 3",
   "language": "python",
   "name": "python3"
  },
  "language_info": {
   "codemirror_mode": {
    "name": "ipython",
    "version": 3
   },
   "file_extension": ".py",
   "mimetype": "text/x-python",
   "name": "python",
   "nbconvert_exporter": "python",
   "pygments_lexer": "ipython3",
   "version": "3.7.3"
  }
 },
 "nbformat": 4,
 "nbformat_minor": 2
}
